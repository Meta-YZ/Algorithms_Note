{
 "cells": [
  {
   "cell_type": "markdown",
   "id": "17df91c4",
   "metadata": {},
   "source": [
    "## 随机梯度下降"
   ]
  },
  {
   "cell_type": "code",
   "execution_count": 1,
   "id": "5844fb41",
   "metadata": {},
   "outputs": [],
   "source": [
    "import scipy.sparse as sp\n",
    "import numpy as np"
   ]
  },
  {
   "cell_type": "markdown",
   "id": "82c02f2f",
   "metadata": {},
   "source": [
    "定义一个凸目标函数：\n",
    "$$\n",
    "\\min_{x} \\frac{1}{2} ||Ax-b||^{2}\n",
    "$$"
   ]
  },
  {
   "cell_type": "markdown",
   "id": "76e3f450",
   "metadata": {},
   "source": [
    "定义一个读取数据的函数`Fun()`, 读取参数$A$和$b$, 以及计算目标函数值的`min_f`:"
   ]
  },
  {
   "cell_type": "code",
   "execution_count": 2,
   "id": "0728c777",
   "metadata": {},
   "outputs": [],
   "source": [
    "class Fun(object):\n",
    "    def __init__(self, path_a, path_b):\n",
    "        self.file_a_path = path_a\n",
    "        self.file_b_path = path_b\n",
    "        self.A, self.b = self._get_parameter()\n",
    "        self.A_T = self.A.transpose()\n",
    "        self.x_init = sp.eye(self.A.shape[-1], self.b.shape[-1]).tocsr()  # 设置初始解\n",
    "\n",
    "    def min_f(self, x):\n",
    "        y = self.A * x - self.b\n",
    "        return np.linalg.norm(y.toarray(), ord=2)\n",
    "\n",
    "    def _get_parameter(self):\n",
    "        self.A = sp.load_npz(self.file_a_path).tocsr()  # shape = (15935, 62061)\n",
    "        self.b = sp.load_npz(self.file_b_path).tocsr()  # shape = (15935, 1)\n",
    "        return self.A, self.b"
   ]
  },
  {
   "cell_type": "markdown",
   "id": "d855f570",
   "metadata": {},
   "source": [
    "随机梯度下降的迭代公式：\n",
    "\n",
    "$$\n",
    "x_{k+1} = x_{k} - \\eta ((a_{i} x_{k} - b_{i})*a_{i}))^{T}\n",
    "$$\n",
    "\n",
    "其中$a_{i}$为$A$的第$i$行。\n",
    "\n",
    "因为$A$的维度为`(15935, 62061)`，$b$的维度为`(15935, 1)`。所以$x$的维度为`(62061, 1)`，$x_{k}$的维度为`(62061, 1)`。$a_{i}$的维度为`(1, 62061)`，$a_{i}^{T}x_{k} - b_{i}$的纬度为`(1, 1)`。$(a_{i} x_{k} - b_{i})*a_{i})$的维度为`(1, 62061)`, 其转置之后，能够与$x_{k}$对齐。"
   ]
  },
  {
   "cell_type": "code",
   "execution_count": 3,
   "id": "db0e7e50",
   "metadata": {},
   "outputs": [],
   "source": [
    "class StochasticGradientDescent(Fun):\n",
    "    def __init__(self, path_a, path_b):\n",
    "        super(StochasticGradientDescent, self).__init__(path_a, path_b)\n",
    "\n",
    "    def stochastic_gradient_decs(self, eta=0.002, iter_times=1, x_input=None):\n",
    "\n",
    "        x_output = None\n",
    "        y_input = self.min_f(x_input)\n",
    "        for i in range(iter_times):\n",
    "            row = np.random.randint(0, self.A.shape[0])\n",
    "            a_i = self.A[row]\n",
    "            b_i = self.b[row]\n",
    "            x_output = x_input - eta * ((a_i * x_input - b_i) * a_i).transpose()\n",
    "            x_input = x_output  # 更新 x 的值\n",
    "            y_output = self.min_f(x_output)\n",
    "            print(\"pre_y is {}  and y is {}\".format(y_input, y_output))\n",
    "            y_input = y_output\n",
    "\n",
    "        return x_output"
   ]
  },
  {
   "cell_type": "code",
   "execution_count": 4,
   "id": "18e9ff99",
   "metadata": {},
   "outputs": [
    {
     "name": "stdout",
     "output_type": "stream",
     "text": [
      "pre_y is 15.722300259397239  and y is 15.72229919282442\n",
      "pre_y is 15.72229919282442  and y is 15.721925969968366\n",
      "pre_y is 15.721925969968366  and y is 15.721258121764754\n",
      "pre_y is 15.721258121764754  and y is 15.721258124900542\n",
      "pre_y is 15.721258124900542  and y is 15.719601452616311\n",
      "pre_y is 15.719601452616311  and y is 15.719107249592593\n",
      "pre_y is 15.719107249592593  and y is 15.71883839262038\n",
      "pre_y is 15.71883839262038  and y is 15.71767159781624\n",
      "pre_y is 15.71767159781624  and y is 15.716353277861108\n",
      "pre_y is 15.716353277861108  and y is 15.716353285199698\n",
      "pre_y is 15.716353285199698  and y is 15.716382860315008\n",
      "pre_y is 15.716382860315008  and y is 15.716410372352442\n",
      "pre_y is 15.716410372352442  and y is 15.716556898103844\n",
      "pre_y is 15.716556898103844  and y is 15.715872518165037\n",
      "pre_y is 15.715872518165037  and y is 15.71599996536192\n",
      "pre_y is 15.71599996536192  and y is 15.716012153415326\n",
      "pre_y is 15.716012153415326  and y is 15.71618139681003\n",
      "pre_y is 15.71618139681003  and y is 15.715314610947447\n",
      "pre_y is 15.715314610947447  and y is 15.715314621841445\n",
      "pre_y is 15.715314621841445  and y is 15.715348400397948\n",
      "\n"
     ]
    }
   ],
   "source": [
    "if __name__ == \"__main__\":\n",
    "\n",
    "    StochasticGD = StochasticGradientDescent(path_a='./news20_A.npz', path_b='./news20_b.npz')\n",
    "\n",
    "    StochasticGD.stochastic_gradient_decs(eta=0.002, iter_times=20, x_input=StochasticGD.x_init)\n",
    "\n",
    "    print('')"
   ]
  },
  {
   "cell_type": "code",
   "execution_count": null,
   "id": "8b2e5689",
   "metadata": {},
   "outputs": [],
   "source": []
  }
 ],
 "metadata": {
  "kernelspec": {
   "display_name": "ACG",
   "language": "python",
   "name": "acg"
  },
  "language_info": {
   "codemirror_mode": {
    "name": "ipython",
    "version": 3
   },
   "file_extension": ".py",
   "mimetype": "text/x-python",
   "name": "python",
   "nbconvert_exporter": "python",
   "pygments_lexer": "ipython3",
   "version": "3.6.13"
  }
 },
 "nbformat": 4,
 "nbformat_minor": 5
}
