{
 "cells": [
  {
   "cell_type": "markdown",
   "id": "62ee9efa",
   "metadata": {},
   "source": [
    "## 梯度下降"
   ]
  },
  {
   "cell_type": "code",
   "execution_count": 1,
   "id": "c4f3b199",
   "metadata": {},
   "outputs": [],
   "source": [
    "import scipy.sparse as sp\n",
    "import numpy as np"
   ]
  },
  {
   "cell_type": "markdown",
   "id": "f023e6ec",
   "metadata": {},
   "source": [
    "定义一个凸目标函数：\n",
    "$$\n",
    "\\min_{x} \\frac{1}{2} ||Ax-b||^{2}\n",
    "$$"
   ]
  },
  {
   "cell_type": "markdown",
   "id": "e0368748",
   "metadata": {},
   "source": [
    "定义一个读取数据的函数`Fun()`, 读取参数$A$和$b$, 以及计算目标函数值的`min_f`:"
   ]
  },
  {
   "cell_type": "code",
   "execution_count": 2,
   "id": "7bbfee9a",
   "metadata": {},
   "outputs": [],
   "source": [
    "class Fun(object):\n",
    "    def __init__(self, path_a, path_b):\n",
    "        self.file_a_path = path_a\n",
    "        self.file_b_path = path_b\n",
    "        self.A, self.b = self._get_parameter()  # 获取到参数A和b的值\n",
    "        self.A_T = self.A.transpose()\n",
    "        self.x_init = sp.eye(self.A.shape[-1], self.b.shape[-1]).tocsr()  # 设置初始解\n",
    "\n",
    "    def min_f(self, x):\n",
    "        y = self.A * x - self.b  # 得到目标函数的值\n",
    "        return np.linalg.norm(y.toarray(), ord=2)  # 得到目标函数的二范数\n",
    "\n",
    "    def _get_parameter(self):\n",
    "        self.A = sp.load_npz(self.file_a_path).tocsr()  # shape = (15935, 62061)\n",
    "        self.b = sp.load_npz(self.file_b_path).tocsr()  # shape = (15935, 1)\n",
    "        return self.A, self.b"
   ]
  },
  {
   "cell_type": "markdown",
   "id": "84f9bbc8",
   "metadata": {},
   "source": [
    "梯度下降的迭代公式：\n",
    "\n",
    "$$\n",
    "x_{k+1} = x_{k} - \\eta A^{T}(Ax_{k}-b)\n",
    "$$\n",
    "\n",
    "因为$A$的维度为`(15935, 62061)`，$b$的维度为`(15935, 1)`。所以$x$的维度为`(62061, 1)`，$x_{k}$的维度为`(62061, 1)`。$Ax_{k}-b$的纬度为`(15935, 1)`。$A^{T}$的维度为`(62061, 15935)`, $A^{T}(Ax_{k}-b)$的维度`(62061, 1)`能够与$x_{k}$对齐。\n",
    "\n"
   ]
  },
  {
   "cell_type": "code",
   "execution_count": 3,
   "id": "faa3ae1e",
   "metadata": {},
   "outputs": [],
   "source": [
    "class GradientDescent(Fun):\n",
    "    def __init__(self, path_a, path_b):\n",
    "        super(GradientDescent, self).__init__(path_a, path_b)\n",
    "\n",
    "    def gradient_decs(self, eta=0.002, iter_times=1, x_input=None):\n",
    "        x_output = None\n",
    "        y_input = self.min_f(x_input)\n",
    "        for i in range(iter_times):\n",
    "            x_output = x_input - eta * self.A_T * (self.A * x_input - self.b)\n",
    "            x_input = x_output  # 更新 x 的值\n",
    "            y_output = self.min_f(x_output)\n",
    "            print(\"pre_y is {}  and y is {}\".format(y_input, y_output))\n",
    "            y_input = y_output\n",
    "        return x_output"
   ]
  },
  {
   "cell_type": "code",
   "execution_count": 4,
   "id": "e511995e",
   "metadata": {},
   "outputs": [
    {
     "name": "stdout",
     "output_type": "stream",
     "text": [
      "pre_y is 15.722300259397239  and y is 13.255437472728753\n",
      "pre_y is 13.255437472728753  and y is 12.830725844332473\n",
      "pre_y is 12.830725844332473  and y is 12.51692906968907\n",
      "pre_y is 12.51692906968907  and y is 12.27197839958532\n",
      "pre_y is 12.27197839958532  and y is 12.071656835698864\n",
      "pre_y is 12.071656835698864  and y is 11.900847835979816\n",
      "pre_y is 11.900847835979816  and y is 11.750127725254952\n",
      "pre_y is 11.750127725254952  and y is 11.613593698606474\n",
      "pre_y is 11.613593698606474  and y is 11.487508355089918\n",
      "pre_y is 11.487508355089918  and y is 11.369465105891495\n",
      "pre_y is 11.369465105891495  and y is 11.25787798929786\n",
      "pre_y is 11.25787798929786  and y is 11.151670710977404\n",
      "pre_y is 11.151670710977404  and y is 11.05008706842521\n",
      "pre_y is 11.05008706842521  and y is 10.9525750410614\n",
      "pre_y is 10.9525750410614  and y is 10.858715532640206\n",
      "pre_y is 10.858715532640206  and y is 10.768178203651498\n",
      "pre_y is 10.768178203651498  and y is 10.680693783528262\n",
      "pre_y is 10.680693783528262  and y is 10.596036453533646\n",
      "pre_y is 10.596036453533646  and y is 10.51401242388456\n",
      "pre_y is 10.51401242388456  and y is 10.43445235441449\n",
      "\n"
     ]
    }
   ],
   "source": [
    "if __name__ == \"__main__\":\n",
    "\n",
    "    GD = GradientDescent(path_a='./news20_A.npz', path_b='./news20_b.npz')\n",
    "\n",
    "    GD.gradient_decs(eta=0.002, iter_times=20, x_input=GD.x_init)\n",
    "\n",
    "    print('')"
   ]
  },
  {
   "cell_type": "code",
   "execution_count": null,
   "id": "31f32b49",
   "metadata": {},
   "outputs": [],
   "source": []
  }
 ],
 "metadata": {
  "kernelspec": {
   "display_name": "ACG",
   "language": "python",
   "name": "acg"
  },
  "language_info": {
   "codemirror_mode": {
    "name": "ipython",
    "version": 3
   },
   "file_extension": ".py",
   "mimetype": "text/x-python",
   "name": "python",
   "nbconvert_exporter": "python",
   "pygments_lexer": "ipython3",
   "version": "3.6.13"
  }
 },
 "nbformat": 4,
 "nbformat_minor": 5
}
