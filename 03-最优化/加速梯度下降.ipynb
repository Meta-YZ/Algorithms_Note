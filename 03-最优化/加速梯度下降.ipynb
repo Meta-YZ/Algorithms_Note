{
 "cells": [
  {
   "cell_type": "markdown",
   "id": "387f4b89",
   "metadata": {},
   "source": [
    "## 加速梯度下降"
   ]
  },
  {
   "cell_type": "code",
   "execution_count": 1,
   "id": "fdb48a1b",
   "metadata": {},
   "outputs": [],
   "source": [
    "import scipy.sparse as sp\n",
    "import numpy as np"
   ]
  },
  {
   "cell_type": "markdown",
   "id": "2450d8a7",
   "metadata": {},
   "source": [
    "定义一个凸目标函数：\n",
    "$$\n",
    "\\min_{x} \\frac{1}{2} ||Ax-b||^{2}\n",
    "$$"
   ]
  },
  {
   "cell_type": "markdown",
   "id": "99231157",
   "metadata": {},
   "source": [
    "定义一个读取数据的函数`Fun()`, 读取参数$A$和$b$, 以及计算目标函数值的`min_f`:"
   ]
  },
  {
   "cell_type": "code",
   "execution_count": 2,
   "id": "bb93dd88",
   "metadata": {},
   "outputs": [],
   "source": [
    "class Fun(object):\n",
    "    def __init__(self, path_a, path_b):\n",
    "        self.file_a_path = path_a\n",
    "        self.file_b_path = path_b\n",
    "        self.A, self.b = self._get_parameter()\n",
    "        self.A_T = self.A.transpose()\n",
    "        self.x_init = sp.eye(self.A.shape[-1], self.b.shape[-1]).tocsr()  # 设置初始解\n",
    "\n",
    "    def min_f(self, x):\n",
    "        y = self.A * x - self.b\n",
    "        return np.linalg.norm(y.toarray(), ord=2)\n",
    "\n",
    "    def _get_parameter(self):\n",
    "        self.A = sp.load_npz(self.file_a_path).tocsr()  # shape = (15935, 62061)\n",
    "        self.b = sp.load_npz(self.file_b_path).tocsr()  # shape = (15935, 1)\n",
    "        return self.A, self.b"
   ]
  },
  {
   "cell_type": "markdown",
   "id": "265746b2",
   "metadata": {},
   "source": [
    "梯度下降的迭代公式：\n",
    "\n",
    "$$\n",
    "y_{k+1} = x_{x}+\\frac{k-1}{k+2}(x_{k}-x_{k-1}) \\\\\n",
    "x_{k+1} = y_{k+1} - \\eta A^{T}(Ay_{k+1}-b)\n",
    "$$\n",
    "\n",
    "因为$A$的维度为`(15935, 62061)`，$b$的维度为`(15935, 1)`。所以$x$的维度为`(62061, 1)`，$y_{k+1}$的维度为`(62061, 1)`。$Ay_{k+1}-b$的纬度为`(15935, 1)`。$A^{T}$的维度为`(62061, 15935)`, $A^{T}(Ay_{k+1}-b)$的维度`(62061, 1)`能够与$x_{k}$对齐。\n"
   ]
  },
  {
   "cell_type": "code",
   "execution_count": 3,
   "id": "d6c3ac14",
   "metadata": {},
   "outputs": [],
   "source": [
    "class AccelerateGradientDescent(Fun):\n",
    "    def __init__(self, path_a, path_b):\n",
    "        super(AccelerateGradientDescent, self).__init__(path_a, path_b)\n",
    "        self.x_pre = sp.eye(self.A.shape[-1], self.b.shape[-1]).tocsr()  # 设置x_{k-1}\n",
    "        self.k = None\n",
    "\n",
    "    def acc_gradient_decs(self, eta=0.002, iter_times=1, x_input=None):\n",
    "        self.k = 1\n",
    "        x_output = None\n",
    "        y_input = self.min_f(x_input)\n",
    "        for i in range(iter_times):\n",
    "            y_k_1 = x_input + (self.k - 1)/(self.k + 2) * (x_input - self.x_pre)\n",
    "            x_output = y_k_1 - eta * self.A_T * (self.A * y_k_1 - self.b)\n",
    "            self.x_pre = x_input\n",
    "            x_input = x_output  # 更新 x 的值\n",
    "            y_output = self.min_f(x_output)\n",
    "            print(\"pre_y is {}  and y is {}\".format(y_input, y_output))\n",
    "            y_input = y_output\n",
    "            self.k += 1\n",
    "        return x_output"
   ]
  },
  {
   "cell_type": "code",
   "execution_count": 4,
   "id": "16983639",
   "metadata": {},
   "outputs": [
    {
     "name": "stdout",
     "output_type": "stream",
     "text": [
      "pre_y is 15.722300259397239  and y is 13.255437472728753\n",
      "pre_y is 13.255437472728753  and y is 12.735302978524988\n",
      "pre_y is 12.735302978524988  and y is 12.307633153911993\n",
      "pre_y is 12.307633153911993  and y is 11.955413213701904\n",
      "pre_y is 11.955413213701904  and y is 11.650605664213087\n",
      "pre_y is 11.650605664213087  and y is 11.36805046757616\n",
      "pre_y is 11.36805046757616  and y is 11.092384589510115\n",
      "pre_y is 11.092384589510115  and y is 10.81782545703838\n",
      "pre_y is 10.81782545703838  and y is 10.544467243141199\n",
      "pre_y is 10.544467243141199  and y is 10.274496509332158\n",
      "pre_y is 10.274496509332158  and y is 10.009923575915268\n",
      "pre_y is 10.009923575915268  and y is 9.751882549700937\n",
      "pre_y is 9.751882549700937  and y is 9.500825818496821\n",
      "pre_y is 9.500825818496821  and y is 9.256927535312608\n",
      "pre_y is 9.256927535312608  and y is 9.020336311075038\n",
      "pre_y is 9.020336311075038  and y is 8.791231346844746\n",
      "pre_y is 8.791231346844746  and y is 8.569781302129703\n",
      "pre_y is 8.569781302129703  and y is 8.356101249086452\n",
      "pre_y is 8.356101249086452  and y is 8.150241942660825\n",
      "pre_y is 8.150241942660825  and y is 7.952199652407426\n",
      "\n"
     ]
    }
   ],
   "source": [
    "if __name__ == \"__main__\":\n",
    "\n",
    "    AccGD = AccelerateGradientDescent(path_a='./news20_A.npz', path_b='./news20_b.npz')\n",
    "\n",
    "    AccGD.acc_gradient_decs(eta=0.002, iter_times=20, x_input=AccGD.x_init)\n",
    "\n",
    "    print('')"
   ]
  }
 ],
 "metadata": {
  "kernelspec": {
   "display_name": "ACG",
   "language": "python",
   "name": "acg"
  },
  "language_info": {
   "codemirror_mode": {
    "name": "ipython",
    "version": 3
   },
   "file_extension": ".py",
   "mimetype": "text/x-python",
   "name": "python",
   "nbconvert_exporter": "python",
   "pygments_lexer": "ipython3",
   "version": "3.6.13"
  }
 },
 "nbformat": 4,
 "nbformat_minor": 5
}
