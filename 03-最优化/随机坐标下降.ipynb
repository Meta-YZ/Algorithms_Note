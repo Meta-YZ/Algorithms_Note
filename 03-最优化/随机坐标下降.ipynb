{
 "cells": [
  {
   "cell_type": "markdown",
   "id": "0e813577",
   "metadata": {},
   "source": [
    "## 随机坐标下降"
   ]
  },
  {
   "cell_type": "code",
   "execution_count": 1,
   "id": "2b734a70",
   "metadata": {},
   "outputs": [],
   "source": [
    "import scipy.sparse as sp\n",
    "import numpy as np"
   ]
  },
  {
   "cell_type": "markdown",
   "id": "26147f14",
   "metadata": {},
   "source": [
    "定义一个凸目标函数：\n",
    "$$\n",
    "\\min_{x} \\frac{1}{2} ||Ax-b||^{2}\n",
    "$$"
   ]
  },
  {
   "cell_type": "markdown",
   "id": "764c9057",
   "metadata": {},
   "source": [
    "定义一个读取数据的函数`Fun()`, 读取参数$A$和$b$, 以及计算目标函数值的`min_f`:"
   ]
  },
  {
   "cell_type": "code",
   "execution_count": 2,
   "id": "5b9f8dd8",
   "metadata": {},
   "outputs": [],
   "source": [
    "class Fun(object):\n",
    "    def __init__(self, path_a, path_b):\n",
    "        self.file_a_path = path_a\n",
    "        self.file_b_path = path_b\n",
    "        self.A, self.b = self._get_parameter()\n",
    "        self.A_T = self.A.transpose()\n",
    "        self.x_init = sp.eye(self.A.shape[-1], self.b.shape[-1]).tocsr()  # 设置初始解\n",
    "\n",
    "    def min_f(self, x):\n",
    "        y = self.A * x - self.b\n",
    "        return np.linalg.norm(y.toarray(), ord=2)\n",
    "\n",
    "    def _get_parameter(self):\n",
    "        self.A = sp.load_npz(self.file_a_path).tocsr()  # shape = (15935, 62061)\n",
    "        self.b = sp.load_npz(self.file_b_path).tocsr()  # shape = (15935, 1)\n",
    "        return self.A, self.b"
   ]
  },
  {
   "cell_type": "markdown",
   "id": "256f4aac",
   "metadata": {},
   "source": [
    "随机坐标下降的迭代公式：\n",
    "\n",
    "$$\n",
    "x_{k+1}^{i} = x_{k}^{i} - \\eta (a^{i})^{T}(Ax_{k}-b)\n",
    "$$\n",
    "\n",
    "因为$A$的维度为`(15935, 62061)`，$b$的维度为`(15935, 1)`。所以$x$的维度为`(62061, 1)`，$x_{k}$的维度为`(62061, 1)`。$Ax_{k}-b$的纬度为`(15935, 1)`。$a^{i}$的维度为`(15935, 1)`, $(a^{i})^{T}(Ax_{k}-b)$的维度`(1, 1)`能够与$x_{k}^{i}$对齐。"
   ]
  },
  {
   "cell_type": "code",
   "execution_count": 3,
   "id": "06919652",
   "metadata": {},
   "outputs": [],
   "source": [
    "class StochasticCoordinateDescent(Fun):\n",
    "    def __init__(self, path_a, path_b):\n",
    "        super(StochasticCoordinateDescent, self).__init__(path_a, path_b)\n",
    "\n",
    "    def stochastic_coordinate_decs(self, eta=0.002, iter_times=1, x_input=None):\n",
    "\n",
    "        x_output = None\n",
    "        y_input = self.min_f(x_input)\n",
    "        for i in range(iter_times):\n",
    "            index = np.random.randint(0, self.A.shape[1])\n",
    "            a_i = self.A[:, index]\n",
    "            x_input[index] = x_input[index] - eta * (a_i.transpose() * (self.A * x_input - self.b)) # 更新 x 的值\n",
    "            x_output = x_input\n",
    "            y_output = self.min_f(x_output)\n",
    "            print(\"pre_y is {}  and y is {} pre-y {}\".format(y_input, y_output, (y_input-y_output)))\n",
    "            y_input = y_output\n",
    "\n",
    "        return x_output"
   ]
  },
  {
   "cell_type": "code",
   "execution_count": 4,
   "id": "d7476502",
   "metadata": {},
   "outputs": [
    {
     "name": "stderr",
     "output_type": "stream",
     "text": [
      "/Users/hezhiqiang01/Desktop/anaconda/anaconda3/envs/ACG/lib/python3.6/site-packages/scipy/sparse/_index.py:116: SparseEfficiencyWarning: Changing the sparsity structure of a csr_matrix is expensive. lil_matrix is more efficient.\n",
      "  self._set_arrayXarray_sparse(i, j, x)\n"
     ]
    },
    {
     "name": "stdout",
     "output_type": "stream",
     "text": [
      "pre_y is 15.722300259397239  and y is 15.722300185562252 pre-y 7.383498612512085e-08\n",
      "pre_y is 15.722300185562252  and y is 15.7223000821242 pre-y 1.034380527897838e-07\n",
      "pre_y is 15.7223000821242  and y is 15.722298722135958 pre-y 1.3599882411341468e-06\n",
      "pre_y is 15.722298722135958  and y is 15.722298715932318 pre-y 6.203640268154231e-09\n",
      "pre_y is 15.722298715932318  and y is 15.722298711182471 pre-y 4.749846738150154e-09\n",
      "pre_y is 15.722298711182471  and y is 15.72229856910537 pre-y 1.4207710208324897e-07\n",
      "pre_y is 15.72229856910537  and y is 15.722291014928906 pre-y 7.554176463031581e-06\n",
      "pre_y is 15.722291014928906  and y is 15.722290917826914 pre-y 9.710199222467963e-08\n",
      "pre_y is 15.722290917826914  and y is 15.72228867713721 pre-y 2.240689704890997e-06\n",
      "pre_y is 15.72228867713721  and y is 15.722288459949251 pre-y 2.171879582846259e-07\n",
      "pre_y is 15.722288459949251  and y is 15.722288459717602 pre-y 2.3164936635566846e-10\n",
      "pre_y is 15.722288459717602  and y is 15.722288438419291 pre-y 2.1298310670658793e-08\n",
      "pre_y is 15.722288438419291  and y is 15.72228843600196 pre-y 2.4173303359020792e-09\n",
      "pre_y is 15.72228843600196  and y is 15.72228843600196 pre-y 0.0\n",
      "pre_y is 15.72228843600196  and y is 15.722257757511365 pre-y 3.067849059590344e-05\n",
      "pre_y is 15.722257757511365  and y is 15.722257754331471 pre-y 3.1798936817040158e-09\n",
      "pre_y is 15.722257754331471  and y is 15.722257754190228 pre-y 1.4124346137123212e-10\n",
      "pre_y is 15.722257754190228  and y is 15.722247679107333 pre-y 1.007508289418979e-05\n",
      "pre_y is 15.722247679107333  and y is 15.722247640834835 pre-y 3.8272498059654936e-08\n",
      "pre_y is 15.722247640834835  and y is 15.722229587672894 pre-y 1.805316194136708e-05\n",
      "\n"
     ]
    }
   ],
   "source": [
    "\n",
    "if __name__ == \"__main__\":\n",
    "\n",
    "    StochasticCD = StochasticCoordinateDescent(path_a='./news20_A.npz', path_b='./news20_b.npz')\n",
    "\n",
    "    StochasticCD.stochastic_coordinate_decs(eta=0.002, iter_times=20, x_input=StochasticCD.x_init)\n",
    "\n",
    "    print('')"
   ]
  }
 ],
 "metadata": {
  "kernelspec": {
   "display_name": "ACG",
   "language": "python",
   "name": "acg"
  },
  "language_info": {
   "codemirror_mode": {
    "name": "ipython",
    "version": 3
   },
   "file_extension": ".py",
   "mimetype": "text/x-python",
   "name": "python",
   "nbconvert_exporter": "python",
   "pygments_lexer": "ipython3",
   "version": "3.6.13"
  }
 },
 "nbformat": 4,
 "nbformat_minor": 5
}
