{
 "cells": [
  {
   "cell_type": "markdown",
   "id": "e2678f28",
   "metadata": {},
   "source": [
    "## 分枝定界"
   ]
  },
  {
   "cell_type": "markdown",
   "id": "a78ea262",
   "metadata": {},
   "source": [
    "整数规划的模型与线性规划基本相同，只是额外的添加了部分变量为整数的约束。假设问题为：\n",
    "\n",
    "$$\n",
    "\\min cx \\\\\n",
    "s.t. Ax \\geq b \\\\\n",
    "A_{eq}x = b_{eq} \\\\\n",
    "x \\in z\n",
    "$$\n",
    "\n",
    "整数规划求解的基本框架是分支定界法（`Branch and bound，B&B`）。首先去除整数约束得到“松弛模型”，使用线性规划的方法求解。若有某个变量不是整数，在松弛模型上分别添加约束：$x ≤ floor(A)$和$x ≥ ceil(A)$。\n",
    "\n",
    "然后再分别求解，这个过程叫做分支。当节点求解结果中所有变量都是整数时，停止分支。这样不断迭代，形成了一棵树。\n",
    "所谓的定界，指的是叶子节点产生后，相当于给问题定了一个下界。之后在求解过程中一旦某个节点的目标函数值小于这个下界，那就直接pass，不用再进行分支了；每次新产生叶子节点，则更新下界。\n"
   ]
  },
  {
   "cell_type": "code",
   "execution_count": 1,
   "id": "78cfe876",
   "metadata": {},
   "outputs": [],
   "source": [
    "from scipy.optimize import linprog\n",
    "import numpy as np\n",
    "import math\n",
    "import sys\n",
    "from queue import Queue"
   ]
  },
  {
   "cell_type": "code",
   "execution_count": 2,
   "id": "7e86eaa3",
   "metadata": {},
   "outputs": [],
   "source": [
    "class ILP():\n",
    "    def __init__(self, c, A_ub, b_ub, A_eq, b_eq, bounds):\n",
    "        # 全局参数\n",
    "        self.LOWER_BOUND = -sys.maxsize\n",
    "        self.UPPER_BOUND = sys.maxsize\n",
    "        self.opt_val = None\n",
    "        self.opt_x = None\n",
    "        self.Q = Queue()\n",
    " \n",
    "        # 这些参数在每轮计算中都不会改变\n",
    "        self.c = -c\n",
    "        self.A_eq = A_eq\n",
    "        self.b_eq = b_eq\n",
    "        self.bounds = bounds\n",
    " \n",
    "        # 首先计算一下初始问题\n",
    "        r = linprog(-c, A_ub, b_ub, A_eq, b_eq, bounds)\n",
    " \n",
    "        # 若最初问题线性不可解\n",
    "        if not r.success:\n",
    "            raise ValueError('Not a feasible problem!')\n",
    " \n",
    "        # 将解和约束参数放入队列\n",
    "        self.Q.put((r, A_ub, b_ub))\n",
    " \n",
    "    def solve(self):\n",
    "        while not self.Q.empty():\n",
    "            # 取出当前问题\n",
    "            res, A_ub, b_ub = self.Q.get(block=False)\n",
    " \n",
    "            # 当前最优值小于总下界，则排除此区域\n",
    "            if -res.fun < self.LOWER_BOUND:\n",
    "                continue\n",
    " \n",
    "            # 若结果 x 中全为整数，则尝试更新全局下界、全局最优值和最优解\n",
    "            if all(list(map(lambda f: f.is_integer(), res.x))):\n",
    "                if self.LOWER_BOUND < -res.fun:\n",
    "                    self.LOWER_BOUND = -res.fun\n",
    " \n",
    "                if self.opt_val is None or self.opt_val < -res.fun:\n",
    "                    self.opt_val = -res.fun\n",
    "                    self.opt_x = res.x\n",
    " \n",
    "                continue\n",
    " \n",
    "            # 进行分枝\n",
    "            else:\n",
    "                # 寻找 x 中第一个不是整数的，取其下标 idx\n",
    "                idx = 0\n",
    "                for i, x in enumerate(res.x):\n",
    "                    if not x.is_integer():\n",
    "                        break\n",
    "                    idx += 1\n",
    " \n",
    "                # 构建新的约束条件（分割\n",
    "                new_con1 = np.zeros(A_ub.shape[1])\n",
    "                new_con1[idx] = -1\n",
    "                new_con2 = np.zeros(A_ub.shape[1])\n",
    "                new_con2[idx] = 1\n",
    "                new_A_ub1 = np.insert(A_ub, A_ub.shape[0], new_con1, axis=0)\n",
    "                new_A_ub2 = np.insert(A_ub, A_ub.shape[0], new_con2, axis=0)\n",
    "                new_b_ub1 = np.insert(\n",
    "                    b_ub, b_ub.shape[0], -math.ceil(res.x[idx]), axis=0)\n",
    "                new_b_ub2 = np.insert(\n",
    "                    b_ub, b_ub.shape[0], math.floor(res.x[idx]), axis=0)\n",
    " \n",
    "                # 将新约束条件加入队列，先加最优值大的那一支\n",
    "                r1 = linprog(self.c, new_A_ub1, new_b_ub1, self.A_eq,\n",
    "                             self.b_eq, self.bounds)\n",
    "                r2 = linprog(self.c, new_A_ub2, new_b_ub2, self.A_eq,\n",
    "                             self.b_eq, self.bounds)\n",
    "                if not r1.success and r2.success:\n",
    "                    self.Q.put((r2, new_A_ub2, new_b_ub2))\n",
    "                elif not r2.success and r1.success:\n",
    "                    self.Q.put((r1, new_A_ub1, new_b_ub1))\n",
    "                elif r1.success and r2.success:\n",
    "                    if -r1.fun > -r2.fun:\n",
    "                        self.Q.put((r1, new_A_ub1, new_b_ub1))\n",
    "                        self.Q.put((r2, new_A_ub2, new_b_ub2))\n",
    "                    else:\n",
    "                        self.Q.put((r2, new_A_ub2, new_b_ub2))\n",
    "                        self.Q.put((r1, new_A_ub1, new_b_ub1))\n"
   ]
  },
  {
   "cell_type": "code",
   "execution_count": 3,
   "id": "30907612",
   "metadata": {},
   "outputs": [
    {
     "name": "stdout",
     "output_type": "stream",
     "text": [
      "Test 1's result: 340.0 [4. 2.]\n",
      "Test 1's true optimal x: [4, 2]\n",
      "\n"
     ]
    }
   ],
   "source": [
    "def test1():\n",
    "    \"\"\" 此测试的真实最优解为 [4, 2] \"\"\"\n",
    "    c = np.array([40, 90])\n",
    "    A = np.array([[9, 7], [7, 20]])\n",
    "    b = np.array([56, 70])\n",
    "    Aeq = None\n",
    "    beq = None\n",
    "    bounds = [(0, None), (0, None)]\n",
    " \n",
    "    solver = ILP(c, A, b, Aeq, beq, bounds)\n",
    "    solver.solve()\n",
    " \n",
    "    print(\"Test 1's result:\", solver.opt_val, solver.opt_x)\n",
    "    print(\"Test 1's true optimal x: [4, 2]\\n\")\n",
    "test1()"
   ]
  },
  {
   "cell_type": "code",
   "execution_count": 4,
   "id": "a29b65a7",
   "metadata": {},
   "outputs": [
    {
     "name": "stdout",
     "output_type": "stream",
     "text": [
      "Test 2's result: 58.0 [2. 4.]\n",
      "Test 2's true optimal x: [2, 4]\n",
      "\n"
     ]
    }
   ],
   "source": [
    "def test2():\n",
    "    \"\"\" 此测试的真实最优解为 [2, 4] \"\"\"\n",
    "    c = np.array([3, 13])\n",
    "    A = np.array([[2, 9], [11, -8]])\n",
    "    b = np.array([40, 82])\n",
    "    Aeq = None\n",
    "    beq = None\n",
    "    bounds = [(0, None), (0, None)]\n",
    " \n",
    "    solver = ILP(c, A, b, Aeq, beq, bounds)\n",
    "    solver.solve()\n",
    " \n",
    "    print(\"Test 2's result:\", solver.opt_val, solver.opt_x)\n",
    "    print(\"Test 2's true optimal x: [2, 4]\\n\")\n",
    "test2()"
   ]
  },
  {
   "cell_type": "code",
   "execution_count": null,
   "id": "f977beab",
   "metadata": {},
   "outputs": [],
   "source": []
  }
 ],
 "metadata": {
  "kernelspec": {
   "display_name": "ACG",
   "language": "python",
   "name": "acg"
  },
  "language_info": {
   "codemirror_mode": {
    "name": "ipython",
    "version": 3
   },
   "file_extension": ".py",
   "mimetype": "text/x-python",
   "name": "python",
   "nbconvert_exporter": "python",
   "pygments_lexer": "ipython3",
   "version": "3.6.13"
  }
 },
 "nbformat": 4,
 "nbformat_minor": 5
}
