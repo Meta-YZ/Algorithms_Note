{
 "cells": [
  {
   "cell_type": "markdown",
   "id": "8f455be1",
   "metadata": {},
   "source": [
    "## 遗传算法求解TSP问题"
   ]
  },
  {
   "cell_type": "markdown",
   "id": "77413d4e",
   "metadata": {},
   "source": [
    "### 遗传算法"
   ]
  },
  {
   "cell_type": "markdown",
   "id": "38bc7f87",
   "metadata": {},
   "source": [
    "- 遗传算法通过**将待解决问题的答案进行编码**，初始化很多的答案。在这些答案中有好的答案，有坏的答案，他们就代表种群中优秀的个体和比较差的个体。\n",
    "\n",
    "- 遗传算法就是对这些答案进行评价，保留好的，剔除差的。就像自然界里自然选择的过程。\n",
    "\n",
    "- 繁衍就是模拟自然界中的物种交叉变异的过程，从而去尝试出更好的答案。\n",
    "\n",
    "在遗传算法中有几个基本的概念：\n",
    "\n",
    "1. 用**适应度**去表示个体的优劣，也就是目标函数。\n",
    "2. 将问题的可行解抽象成基因的过程叫做**编码**。\n",
    "3. 为了判断改个体的适应度，而将基因重新变成可行解的过程叫做**解码**。"
   ]
  },
  {
   "cell_type": "markdown",
   "id": "db47343b",
   "metadata": {},
   "source": [
    "### 旅行商问题"
   ]
  },
  {
   "cell_type": "markdown",
   "id": "4ed5bd24",
   "metadata": {},
   "source": [
    "旅行商问题简单来说就是地图上有几座城市，有个旅行商要从某个城市出发，然后经过其它的各个城市各一次，最终回到初始城市。如何规划才能让这趟旅行最短，就是这个问题需要去优化的目标。"
   ]
  },
  {
   "cell_type": "markdown",
   "id": "1969d503",
   "metadata": {},
   "source": [
    "### 遗传算法求解旅行商问题"
   ]
  },
  {
   "cell_type": "markdown",
   "id": "a01a5f5d",
   "metadata": {},
   "source": [
    "遗传算法有两个关键点：\n",
    "\n",
    "1. 如何将答案编码成基因。\n",
    "2. 如何定义个体的适应度。"
   ]
  },
  {
   "cell_type": "markdown",
   "id": "cebd16ce",
   "metadata": {},
   "source": [
    "只要我们知道旅行商此次走过的城市顺序，我们就能求出这次旅行的路程是多少。这样，一趟旅行的编码序列就对应了一个问题的答案了。解码的话就是将旅行路线转换成实际经过的城市，从而依据坐标得到旅行的路程。\n",
    "\n",
    "对于个体的适应度，我们可以直接将个体的旅行路程作为个体的适应度。路程越短，适应度越强，个体也就越优秀。就越有可能在自然选择中被保留下来。"
   ]
  },
  {
   "cell_type": "markdown",
   "id": "b592f8e0",
   "metadata": {},
   "source": [
    "## 代码实现"
   ]
  },
  {
   "cell_type": "markdown",
   "id": "53d72fe1",
   "metadata": {},
   "source": [
    "导入相关的包"
   ]
  },
  {
   "cell_type": "code",
   "execution_count": 1,
   "id": "adbee1f1",
   "metadata": {},
   "outputs": [],
   "source": [
    "import copy\n",
    "import random\n",
    "import argparse\n",
    "import numpy as np\n",
    "import matplotlib.pyplot as plt"
   ]
  },
  {
   "cell_type": "markdown",
   "id": "a67e0ab8",
   "metadata": {},
   "source": [
    "随机生成城市之间的坐标"
   ]
  },
  {
   "cell_type": "markdown",
   "id": "d85b62de",
   "metadata": {},
   "source": [
    "提前计算出城市之间的距离，如果有$n$座城市的话，那么生成的城市距离矩阵就是一个$n \\times n$的矩阵。"
   ]
  },
  {
   "cell_type": "code",
   "execution_count": 2,
   "id": "998271ca",
   "metadata": {},
   "outputs": [],
   "source": [
    "class TspProblem(object):\n",
    "    def __init__(self, args):\n",
    "        \"\"\"\n",
    "        旅行商问题建模\n",
    "        \"\"\"\n",
    "        self.city_num = args.city_num\n",
    "        self.pos_dimension = args.pos_dimension\n",
    "        self.city_pos_list = np.random.rand(self.city_num, self.pos_dimension)  # 城市坐标\n",
    "        self.city_dist_mat = self.build_dist_mat()  # 城市距离矩阵\n",
    "\n",
    "    def build_dist_mat(self):\n",
    "        \"\"\"\n",
    "        计算两个城市之间的距离，城市i到城市j的距离，与城市j到城市i的距离相同。\n",
    "        :return:\n",
    "        \"\"\"\n",
    "        dist_mat = np.zeros([self.city_num, self.city_num])\n",
    "        for i in range(self.city_num):\n",
    "            for j in range(i + 1, self.city_num):\n",
    "                d = self.city_pos_list[i, :] - self.city_pos_list[j, :]\n",
    "                # 计算点积\n",
    "                dist_mat[i, j] = np.dot(d, d)\n",
    "                dist_mat[j, i] = dist_mat[i, j]\n",
    "        return dist_mat"
   ]
  },
  {
   "cell_type": "markdown",
   "id": "a21c8e6e",
   "metadata": {},
   "source": [
    "设置参数"
   ]
  },
  {
   "cell_type": "code",
   "execution_count": 3,
   "id": "7dbfa17e",
   "metadata": {},
   "outputs": [],
   "source": [
    "parser = argparse.ArgumentParser(description='Parameter of Genetic Algorithm')\n",
    "parser.add_argument('--city_num', type=int, default=15, help='city num')  # 城市数量\n",
    "parser.add_argument('--pos_dimension', type=int, default=2, help='city num')  # 坐标维度\n",
    "parser.add_argument('--individual_num', type=int, default=60, help='individual num')  # 个体数\n",
    "parser.add_argument('--gen_num', type=int, default=400, help='generation num')  # 迭代轮数\n",
    "parser.add_argument('--mutate_prob', type=float, default=0.25, help='probability of mutate')  # 变异概率\n",
    "arg = parser.parse_args(args=[])"
   ]
  },
  {
   "cell_type": "code",
   "execution_count": 4,
   "id": "b9de0bc4",
   "metadata": {},
   "outputs": [],
   "source": [
    "TSP = TspProblem(arg)"
   ]
  },
  {
   "cell_type": "markdown",
   "id": "1d73d335",
   "metadata": {},
   "source": [
    "查看一下城市的位置坐标信息："
   ]
  },
  {
   "cell_type": "code",
   "execution_count": 5,
   "id": "8fff1d0a",
   "metadata": {},
   "outputs": [
    {
     "data": {
      "text/plain": [
       "array([[0.89203012, 0.11734267],\n",
       "       [0.55896225, 0.4497456 ],\n",
       "       [0.356742  , 0.6837889 ],\n",
       "       [0.95390691, 0.24455854],\n",
       "       [0.02146835, 0.43498321],\n",
       "       [0.7587389 , 0.75871704],\n",
       "       [0.51393439, 0.76835098],\n",
       "       [0.3583125 , 0.86971252],\n",
       "       [0.38384727, 0.04818393],\n",
       "       [0.77175734, 0.4332906 ],\n",
       "       [0.71113815, 0.91032594],\n",
       "       [0.75818416, 0.23895036],\n",
       "       [0.17875443, 0.036562  ],\n",
       "       [0.15991418, 0.48432212],\n",
       "       [0.22596975, 0.70365766]])"
      ]
     },
     "execution_count": 5,
     "metadata": {},
     "output_type": "execute_result"
    }
   ],
   "source": [
    "TSP.city_pos_list"
   ]
  },
  {
   "cell_type": "markdown",
   "id": "5bbc2870",
   "metadata": {},
   "source": [
    "城市之间的距离矩阵："
   ]
  },
  {
   "cell_type": "code",
   "execution_count": 6,
   "id": "b41f01ee",
   "metadata": {},
   "outputs": [
    {
     "data": {
      "text/plain": [
       "array([[0.        , 0.22142591, 0.6073947 , 0.02001261, 0.85877331,\n",
       "        0.42912762, 0.5667682 , 0.85091488, 0.26303274, 0.11428864,\n",
       "        0.66154437, 0.03270317, 0.51528772, 0.67066768, 0.78740168],\n",
       "       [0.22142591, 0.        , 0.0956693 , 0.19808301, 0.28911763,\n",
       "        0.13537406, 0.1035369 , 0.21663254, 0.19191703, 0.04555252,\n",
       "        0.23529175, 0.084124  , 0.31527867, 0.16043491, 0.17535534],\n",
       "       [0.6073947 , 0.0956693 , 0.        , 0.54952924, 0.1743127 ,\n",
       "        0.16721573, 0.03186019, 0.03457006, 0.40472837, 0.23498712,\n",
       "        0.17691566, 0.35903712, 0.45058223, 0.07852819, 0.01749615],\n",
       "       [0.02001261, 0.19808301, 0.54952924, 0.        , 0.90570323,\n",
       "        0.30244951, 0.46793435, 0.7455502 , 0.36353098, 0.06879826,\n",
       "        0.5021829 , 0.03833885, 0.64412392, 0.68791104, 0.74066451],\n",
       "       [0.85877331, 0.28911763, 0.1743127 , 0.90570323, 0.        ,\n",
       "        0.64837147, 0.35365688, 0.30245356, 0.28093216, 0.56293644,\n",
       "        0.70159516, 0.58117906, 0.18347837, 0.02160158, 0.11400679],\n",
       "       [0.42912762, 0.13537406, 0.16721573, 0.30244951, 0.64837147,\n",
       "        0.        , 0.06002206, 0.1726613 , 0.64540103, 0.10607184,\n",
       "        0.02525109, 0.2701577 , 0.85788988, 0.43388362, 0.2868745 ],\n",
       "       [0.5667682 , 0.1035369 , 0.03186019, 0.46793435, 0.35365688,\n",
       "        0.06002206, 0.        , 0.03449233, 0.53556324, 0.17873813,\n",
       "        0.05904621, 0.33992297, 0.64786072, 0.2060027 , 0.08710886],\n",
       "       [0.85091488, 0.21663254, 0.03457006, 0.7455502 , 0.30245356,\n",
       "        0.1726613 , 0.03449233, 0.        , 0.67556124, 0.36140072,\n",
       "        0.12613539, 0.55775824, 0.72638088, 0.18788765, 0.04508882],\n",
       "       [0.26303274, 0.19191703, 0.40472837, 0.36353098, 0.28093216,\n",
       "        0.64540103, 0.53556324, 0.67556124, 0.        , 0.29878137,\n",
       "        0.85040816, 0.17651994, 0.04219814, 0.24036255, 0.45457112],\n",
       "       [0.11428864, 0.04555252, 0.23498712, 0.06879826, 0.56293644,\n",
       "        0.10607184, 0.17873813, 0.36140072, 0.29878137, 0.        ,\n",
       "        0.2312374 , 0.03795236, 0.50904603, 0.37695627, 0.37098244],\n",
       "       [0.66154437, 0.23529175, 0.17691566, 0.5021829 , 0.70159516,\n",
       "        0.02525109, 0.05904621, 0.12613539, 0.85040816, 0.2312374 ,\n",
       "        0.        , 0.45295849, 1.04689584, 0.48532712, 0.27810016],\n",
       "       [0.03270317, 0.084124  , 0.35903712, 0.03833885, 0.58117906,\n",
       "        0.2701577 , 0.33992297, 0.55775824, 0.17651994, 0.03795236,\n",
       "        0.45295849, 0.        , 0.37669985, 0.41813427, 0.49920505],\n",
       "       [0.51528772, 0.31527867, 0.45058223, 0.64412392, 0.18347837,\n",
       "        0.85788988, 0.64786072, 0.72638088, 0.04219814, 0.50904603,\n",
       "        1.04689584, 0.37669985, 0.        , 0.20084408, 0.4472459 ],\n",
       "       [0.67066768, 0.16043491, 0.07852819, 0.68791104, 0.02160158,\n",
       "        0.43388362, 0.2060027 , 0.18788765, 0.24036255, 0.37695627,\n",
       "        0.48532712, 0.41813427, 0.20084408, 0.        , 0.05247142],\n",
       "       [0.78740168, 0.17535534, 0.01749615, 0.74066451, 0.11400679,\n",
       "        0.2868745 , 0.08710886, 0.04508882, 0.45457112, 0.37098244,\n",
       "        0.27810016, 0.49920505, 0.4472459 , 0.05247142, 0.        ]])"
      ]
     },
     "execution_count": 6,
     "metadata": {},
     "output_type": "execute_result"
    }
   ],
   "source": [
    "TSP.city_dist_mat"
   ]
  },
  {
   "cell_type": "markdown",
   "id": "40de1642",
   "metadata": {},
   "source": [
    "定义个体基类"
   ]
  },
  {
   "cell_type": "code",
   "execution_count": 7,
   "id": "b57c557d",
   "metadata": {},
   "outputs": [],
   "source": [
    "class Individual(object):\n",
    "    def __init__(self, args, city_dist_mat, genes=None):\n",
    "        \"\"\"\n",
    "        # 个体类， 构造个体，如果输入的基因为None的话，就随机构造。\n",
    "        :param genes:\n",
    "        \"\"\"\n",
    "        self.args = args\n",
    "        self.gene_len = self.args.city_num\n",
    "        self.genes = genes  # 个体基因\n",
    "        if self.genes is None:  # 如果个体基因为空的话，就生成一个基因\n",
    "            self.genes = [i for i in range(self.gene_len)]\n",
    "            random.shuffle(self.genes)\n",
    "        self.city_dist_mat = city_dist_mat\n",
    "        self.fitness = self.evaluate_fitness()  # 个体适应度\n",
    "\n",
    "    def evaluate_fitness(self):\n",
    "        \"\"\"\n",
    "        适应度就是目标解\n",
    "        :return:\n",
    "        \"\"\"\n",
    "        fitness = 0.0  # 初始个体适应度为0。\n",
    "        for i in range(self.gene_len - 1):  # 循环遍历每个城市，计算起始城市和目标城市的距离。\n",
    "            fitness += self.city_dist_mat[self.genes[i], self.genes[i + 1]]\n",
    "        fitness += self.city_dist_mat[self.genes[-1], self.genes[0]]  # 计算连接首尾的距离\n",
    "        return fitness"
   ]
  },
  {
   "cell_type": "markdown",
   "id": "438bdb76",
   "metadata": {},
   "source": [
    "定义遗传算法"
   ]
  },
  {
   "cell_type": "code",
   "execution_count": null,
   "id": "3d1f1552",
   "metadata": {},
   "outputs": [],
   "source": []
  },
  {
   "cell_type": "code",
   "execution_count": 8,
   "id": "3e7ce97c",
   "metadata": {},
   "outputs": [],
   "source": [
    "class Ga(object):\n",
    "    def __init__(self, city_dist_mat, args):\n",
    "\n",
    "        self.city_dist_mat = city_dist_mat\n",
    "        self.args = args\n",
    "        self.gene_len = self.args.city_num\n",
    "\n",
    "        self.individual_list = []  # 每一代的个体列表≈\n",
    "        self.result_list = []  # 每一代对应的解，每一代对应的路线\n",
    "        self.fitness_list = []  # 每一代对应的适应度\n",
    "\n",
    "        self.individual_list = [Individual(args, self.city_dist_mat)\n",
    "                                for _ in range(self.args.individual_num)]  # 初代种群\n",
    "        self.best = self.individual_list[0]  # 这里初代最好的个体也是随机的\n",
    "\n",
    "    def cross(self):\n",
    "        \"\"\"\n",
    "        交叉操作\n",
    "        :return:\n",
    "        \"\"\"\n",
    "        new_gen = []\n",
    "        random.shuffle(self.individual_list)  # 将种群中所有的个体打乱，从中随机抽取两个个体。\n",
    "        for i in range(0, self.args.individual_num - 1, 2):\n",
    "            # 父代基因\n",
    "            genes1 = copy.deepcopy(self.individual_list[i].genes)\n",
    "            genes2 = copy.deepcopy(self.individual_list[i + 1].genes)\n",
    "            index1 = random.randint(0, self.gene_len - 2)  # 选取基因片段\n",
    "            index2 = random.randint(index1, self.gene_len - 1)\n",
    "            pos1_recorder = {value: idx for idx, value in enumerate(genes1)}\n",
    "            pos2_recorder = {value: idx for idx, value in enumerate(genes2)}\n",
    "            # 交叉\n",
    "            for j in range(index1, index2):\n",
    "                value1, value2 = genes1[j], genes2[j]\n",
    "                pos1, pos2 = pos1_recorder[value2], pos2_recorder[value1]\n",
    "                genes1[j], genes1[pos1] = genes1[pos1], genes1[j]\n",
    "                genes2[j], genes2[pos2] = genes2[pos2], genes2[j]\n",
    "                pos1_recorder[value1], pos1_recorder[value2] = pos1, j\n",
    "                pos2_recorder[value1], pos2_recorder[value2] = j, pos2\n",
    "            new_gen.append(Individual(self.args, self.city_dist_mat, genes1))\n",
    "            new_gen.append(Individual(self.args, self.city_dist_mat, genes2))\n",
    "        return new_gen\n",
    "\n",
    "    def mutate(self, new_gen):\n",
    "        \"\"\"\n",
    "        变异，选择一个片段从index1到index2进行翻转变异。\n",
    "        :param new_gen:\n",
    "        :return:\n",
    "        \"\"\"\n",
    "        for individual in new_gen:\n",
    "            if random.random() < self.args.mutate_prob:\n",
    "                # 翻转切片\n",
    "                old_genes = copy.deepcopy(individual.genes)\n",
    "                index1 = random.randint(0, self.gene_len - 2)\n",
    "                index2 = random.randint(index1, self.gene_len - 1)\n",
    "                genes_mutate = old_genes[index1:index2]\n",
    "                genes_mutate.reverse()\n",
    "                individual.genes = old_genes[:index1] + genes_mutate + old_genes[index2:]\n",
    "        # 两代合并\n",
    "        self.individual_list += new_gen\n",
    "\n",
    "    def select(self):\n",
    "        \"\"\"\n",
    "        竞标赛算法，保留物种的多样性\n",
    "        :return:\n",
    "        \"\"\"\n",
    "        # 锦标赛\n",
    "        group_num = 10  # 小组数\n",
    "        group_size = 10  # 每小组人数\n",
    "        group_winner = self.args.individual_num // group_num  # 每小组获胜人数\n",
    "        winners = []  # 锦标赛结果\n",
    "        for i in range(group_num):\n",
    "            group = []\n",
    "            for j in range(group_size):\n",
    "                # 随机组成小组\n",
    "                player = random.choice(self.individual_list)\n",
    "                player = Individual(self.args, self.city_dist_mat, player.genes)\n",
    "                group.append(player)\n",
    "            group = Ga.rank(group)\n",
    "            # 取出获胜者\n",
    "            winners += group[:group_winner]\n",
    "        self.individual_list = winners\n",
    "\n",
    "    @staticmethod\n",
    "    def rank(group):\n",
    "        # 冒泡排序\n",
    "        for i in range(1, len(group)):\n",
    "            for j in range(0, len(group) - i):\n",
    "                if group[j].fitness > group[j + 1].fitness:\n",
    "                    group[j], group[j + 1] = group[j + 1], group[j]\n",
    "        return group\n",
    "\n",
    "    def next_gen(self):\n",
    "        \"\"\"\n",
    "        生成下一代：\n",
    "        1. 交叉操作；2. 变异操作；3. 子代和父代进行结合，选择。\n",
    "        :return:\n",
    "        \"\"\"\n",
    "        new_gen = self.cross()  # 交叉\n",
    "        self.mutate(new_gen)  # 变异\n",
    "        self.select()  # 选择\n",
    "        for individual in self.individual_list:  # 获得这一代的结果\n",
    "            if individual.fitness < self.best.fitness:\n",
    "                self.best = individual\n",
    "\n",
    "    def train(self):\n",
    "        for i in range(self.args.gen_num):  # 迭代多少轮， generation num\n",
    "            self.next_gen()\n",
    "            result = self.best.genes  # 最优个体\n",
    "            result.append(result[0])  # 将个体的首尾连接起来\n",
    "            self.result_list.append(result)\n",
    "            self.fitness_list.append(self.best.fitness)\n",
    "\n",
    "        return self.result_list, self.fitness_list"
   ]
  },
  {
   "cell_type": "code",
   "execution_count": 9,
   "id": "23cc645e",
   "metadata": {},
   "outputs": [],
   "source": [
    "# 遗传算法运行\n",
    "ga = Ga(TSP.city_dist_mat, args=arg)\n",
    "result_list, fitness_list = ga.train()\n",
    "result = result_list[-1]\n",
    "result_pos_list = TSP.city_pos_list[result, :]"
   ]
  },
  {
   "cell_type": "code",
   "execution_count": 10,
   "id": "356e3354",
   "metadata": {},
   "outputs": [
    {
     "name": "stderr",
     "output_type": "stream",
     "text": [
      "findfont: Font family ['sans-serif'] not found. Falling back to DejaVu Sans.\n",
      "findfont: Font family ['sans-serif'] not found. Falling back to DejaVu Sans.\n"
     ]
    },
    {
     "data": {
      "image/png": "[encoded data removed]",
      "text/plain": [
       "<Figure size 432x288 with 1 Axes>"
      ]
     },
     "metadata": {
      "needs_background": "light"
     },
     "output_type": "display_data"
    }
   ],
   "source": [
    "# 绘图\n",
    "# 解决中文显示问题\n",
    "plt.rcParams['font.sans-serif'] = ['KaiTi']  # 指定默认字体\n",
    "plt.rcParams['axes.unicode_minus'] = False  # 解决保存图像是负号'-'显示为方块的问题\n",
    "\n",
    "plt.plot(result_pos_list[:, 0], result_pos_list[:, 1], 'o-r')\n",
    "plt.title(u\"route\")\n",
    "plt.show()"
   ]
  },
  {
   "cell_type": "code",
   "execution_count": 11,
   "id": "6822d848",
   "metadata": {},
   "outputs": [
    {
     "data": {
      "image/png": "[encoded data removed]",
      "text/plain": [
       "<Figure size 432x288 with 1 Axes>"
      ]
     },
     "metadata": {
      "needs_background": "light"
     },
     "output_type": "display_data"
    }
   ],
   "source": [
    "plt.plot(fitness_list)\n",
    "plt.title(u\"evaluate fitness\")\n",
    "plt.show()"
   ]
  }
 ],
 "metadata": {
  "kernelspec": {
   "display_name": "ACG",
   "language": "python",
   "name": "acg"
  },
  "language_info": {
   "codemirror_mode": {
    "name": "ipython",
    "version": 3
   },
   "file_extension": ".py",
   "mimetype": "text/x-python",
   "name": "python",
   "nbconvert_exporter": "python",
   "pygments_lexer": "ipython3",
   "version": "3.6.13"
  }
 },
 "nbformat": 4,
 "nbformat_minor": 5
}
