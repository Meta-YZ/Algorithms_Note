{
 "cells": [
  {
   "cell_type": "markdown",
   "id": "2a321625",
   "metadata": {},
   "source": [
    "https://github.com/ccjjxx99/PointerNetworks-pytorch-tsp\n",
    "\n",
    "https://github.com/aurelienbibaut/Actor_CriticPointer_Network-TSP\n",
    "\n",
    "https://github.com/zifeiyu0531/PointerNetwork-RL-TSP"
   ]
  }
 ],
 "metadata": {
  "kernelspec": {
   "display_name": "ACG",
   "language": "python",
   "name": "acg"
  },
  "language_info": {
   "codemirror_mode": {
    "name": "ipython",
    "version": 3
   },
   "file_extension": ".py",
   "mimetype": "text/x-python",
   "name": "python",
   "nbconvert_exporter": "python",
   "pygments_lexer": "ipython3",
   "version": "3.6.13"
  }
 },
 "nbformat": 4,
 "nbformat_minor": 5
}
