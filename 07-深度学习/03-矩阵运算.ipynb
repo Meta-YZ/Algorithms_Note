{
 "cells": [
  {
   "cell_type": "markdown",
   "id": "44f782c4",
   "metadata": {},
   "source": [
    "## 标量导数"
   ]
  },
  {
   "cell_type": "markdown",
   "id": "c9a9ac97",
   "metadata": {},
   "source": [
    "$$\n",
    "y = uv\n",
    "$$\n",
    "\n",
    "&emsp;&emsp;求导之后为:\n",
    "\n",
    "$$\n",
    "\\frac{dy}{dx} = \\frac{du}{dx} v + \\frac{dv}{dx} u\n",
    "$$"
   ]
  },
  {
   "cell_type": "markdown",
   "id": "f073340e",
   "metadata": {},
   "source": [
    "## 亚导数"
   ]
  },
  {
   "cell_type": "markdown",
   "id": "151fe94a",
   "metadata": {},
   "source": [
    "&emsp;&emsp;将导数扩展到不可微的函数，比如$y=|x|$。\n",
    "\n",
    "$$\n",
    "\\frac{\\partial|x|}{\\partial x}= \\begin{cases}1 & \\text { if } x>0 \\\\ -1 & \\text { if } x<0 \\\\ a & \\text { if } x=0, \\quad a \\in[-1,1]\\end{cases}\n",
    "$$\n",
    "\n",
    "&emsp;&emsp;在$x=0$的时候，可以在`-1，1`之间。"
   ]
  },
  {
   "cell_type": "markdown",
   "id": "a9b083b1",
   "metadata": {},
   "source": [
    "## 梯度"
   ]
  },
  {
   "cell_type": "markdown",
   "id": "e17618bf",
   "metadata": {},
   "source": [
    "- $y$是一个标量，$x$是一个向量的时候:\n",
    "\n",
    "$$\n",
    "\\mathbf{x}=\\left[\\begin{array}{c}\n",
    "x_{1} \\\\\n",
    "x_{2} \\\\\n",
    "\\vdots \\\\\n",
    "x_{n}\n",
    "\\end{array}\\right]\n",
    "$$\n",
    "\n",
    "$$\n",
    "\\frac{\\partial y}{\\partial \\mathbf{x}}=\\left[\\frac{\\partial y}{\\partial x_{1}}, \\frac{\\partial y}{\\partial x_{2}}, \\ldots, \\frac{\\partial y}{\\partial x_{n}}\\right]\n",
    "$$\n",
    "\n",
    "&emsp;&emsp;标量关于列向量的导数会变成一个行向量。梯度方向与等高线正交，且方向指向值变大的方向。"
   ]
  },
  {
   "cell_type": "markdown",
   "id": "cc440e97",
   "metadata": {},
   "source": [
    "&emsp;&emsp;**样例**\n",
    "\n",
    "1. $y = ||\\mathbf{x}||^{2}$\n",
    "\n",
    "\n",
    "$$\n",
    "\\frac{\\partial y}{\\partial \\mathbf{x}} = 2 \\mathbf{x}^{T}\n",
    "$$\n",
    "\n",
    "2. $y = <u, v>$\n",
    "\n",
    "\n",
    "$$\n",
    "\\frac{\\partial y}{\\partial \\mathbf{x}} = \\mathbf{u}^{T} \\frac{\\partial v}{\\partial x} + \\mathbf{v}^{T} \\frac{\\partial u}{\\partial x}\n",
    "$$\n"
   ]
  },
  {
   "cell_type": "markdown",
   "id": "7bf37416",
   "metadata": {},
   "source": [
    "- $y$是一个向量，$x$是一个标量的时候:\n",
    "\n",
    "&emsp;&emsp;当上面的函数是一个向量，下面的函数是一个标量的话，假设$y$是一个列向量\n",
    "\n",
    "$$\n",
    "\\mathbf{y}=\\left[\\begin{array}{c}\n",
    "y_{1} \\\\\n",
    "y_{2} \\\\\n",
    "\\vdots \\\\\n",
    "y_{m}\n",
    "\\end{array}\\right] \\quad \\frac{\\partial \\mathbf{y}}{\\partial x}=\\left[\\begin{array}{c}\n",
    "\\frac{\\partial y_{1}}{\\partial x} \\\\\n",
    "\\frac{\\partial y_{2}}{\\partial x} \\\\\n",
    "\\vdots \\\\\n",
    "\\frac{\\partial y_{m}}{\\partial x}\n",
    "\\end{array}\\right]\n",
    "$$\n",
    "\n",
    "&emsp;&emsp;列向量关于标量的导数，他也是一个列向量。这个被称之为分子布局符号，反过来的版本叫做分母布局符号。"
   ]
  },
  {
   "cell_type": "markdown",
   "id": "861bf5a6",
   "metadata": {},
   "source": [
    "- $y$是一个向量，$x$是一个向量的时候:\n",
    "\n",
    "$$\n",
    "\\begin{gathered}\n",
    "\\mathbf{x}=\\left[\\begin{array}{c}\n",
    "x_{1} \\\\\n",
    "x_{2} \\\\\n",
    "\\vdots \\\\\n",
    "x_{n}\n",
    "\\end{array}\\right] \\quad \\mathbf{y}=\\left[\\begin{array}{c}\n",
    "y_{1} \\\\\n",
    "y_{2} \\\\\n",
    "\\vdots \\\\\n",
    "y_{m}\n",
    "\\end{array}\\right] \\\\\n",
    "\\frac{\\partial \\mathbf{y}}{\\partial \\mathbf{x}}=\\left[\\begin{array}{c}\n",
    "\\frac{\\partial y_{1}}{\\partial \\mathbf{x}} \\\\\n",
    "\\frac{\\partial y_{2}}{\\partial \\mathbf{x}} \\\\\n",
    "\\vdots \\\\\n",
    "\\frac{\\partial y_{m}}{\\partial \\mathbf{x}}\n",
    "\\end{array}\\right]=\\left[\\begin{array}{c}\n",
    "\\frac{\\partial y_{1}}{\\partial x_{1}}, \\frac{\\partial y_{1}}{\\partial x_{2}}, \\ldots, \\frac{\\partial y_{1}}{\\partial x_{n}} \\\\\n",
    "\\frac{\\partial y_{2}}{\\partial x_{1}}, \\frac{\\partial y_{2}}{\\partial x_{2}}, \\ldots, \\frac{\\partial y_{2}}{\\partial x_{n}} \\\\\n",
    "\\vdots \\\\\n",
    "\\frac{\\partial y_{m}}{\\partial x_{1}}, \\frac{\\partial y_{m}}{\\partial x_{2}}, \\ldots, \\frac{\\partial y_{m}}{\\partial x_{n}}\n",
    "\\end{array}\\right]\n",
    "\\end{gathered}\n",
    "$$"
   ]
  },
  {
   "cell_type": "markdown",
   "id": "3345c39c",
   "metadata": {},
   "source": [
    "&emsp;&emsp;**样例**\n",
    "\n",
    "$$\n",
    "\\begin{array}{c|cccc}\n",
    "\\mathbf{y} & \\mathbf{a} & \\mathbf{x} & \\mathbf{A x} & \\mathbf{x}^{T} \\mathbf{A} \\\\\n",
    "\\hline \\frac{\\partial \\mathbf{y}}{\\partial \\mathbf{x}} & \\mathbf{0} & \\mathbf{I} & \\mathbf{A} & \\mathbf{A}^{T}\n",
    "\\end{array}\n",
    "$$\n",
    "\n",
    "$$\n",
    "\\begin{array}{l|lll}\n",
    "\\mathbf{y} & \\ {a \\mathbf{u}} & \\mathbf{A u} & \\mathbf{u}+\\mathbf{v} \\\\\n",
    "\\hline \\frac{\\partial \\mathbf{y}}{\\partial \\mathbf{x}} & a \\frac{\\partial \\mathbf{u}}{\\partial \\mathbf{x}} & \\mathbf{A} \\frac{\\partial \\mathbf{u}}{\\partial \\mathbf{x}} & \\frac{\\partial \\mathbf{u}}{\\partial \\mathbf{x}}+\\frac{\\partial \\mathbf{v}}{\\partial \\mathbf{x}}\n",
    "\\end{array}\n",
    "$$\n",
    "\n",
    "&emsp;&emsp;$\\mathbf{x} \\in \\mathbb{R}^{n}, \\quad \\mathbf{y} \\in \\mathbb{R}^{m}, \\quad \\frac{\\partial \\mathbf{y}}{\\partial \\mathbf{x}} \\in \\mathbb{R}^{m \\times n}$\n",
    "$a, \\mathbf{a}$ and $\\mathbf{A}$ are not functions of $\\mathbf{x}$\n",
    "0 and I are matrices"
   ]
  },
  {
   "cell_type": "code",
   "execution_count": null,
   "id": "2a8a2bda",
   "metadata": {},
   "outputs": [],
   "source": []
  },
  {
   "cell_type": "code",
   "execution_count": null,
   "id": "f363a4b8",
   "metadata": {},
   "outputs": [],
   "source": []
  },
  {
   "cell_type": "code",
   "execution_count": null,
   "id": "31fdb7bc",
   "metadata": {},
   "outputs": [],
   "source": []
  },
  {
   "cell_type": "code",
   "execution_count": null,
   "id": "7fffc2c7",
   "metadata": {},
   "outputs": [],
   "source": []
  },
  {
   "cell_type": "code",
   "execution_count": null,
   "id": "98a87f0b",
   "metadata": {},
   "outputs": [],
   "source": []
  }
 ],
 "metadata": {
  "kernelspec": {
   "display_name": "ACG",
   "language": "python",
   "name": "acg"
  },
  "language_info": {
   "codemirror_mode": {
    "name": "ipython",
    "version": 3
   },
   "file_extension": ".py",
   "mimetype": "text/x-python",
   "name": "python",
   "nbconvert_exporter": "python",
   "pygments_lexer": "ipython3",
   "version": "3.6.13"
  },
  "toc": {
   "base_numbering": 1,
   "nav_menu": {},
   "number_sections": true,
   "sideBar": true,
   "skip_h1_title": false,
   "title_cell": "Table of Contents",
   "title_sidebar": "Contents",
   "toc_cell": false,
   "toc_position": {},
   "toc_section_display": true,
   "toc_window_display": false
  }
 },
 "nbformat": 4,
 "nbformat_minor": 5
}
