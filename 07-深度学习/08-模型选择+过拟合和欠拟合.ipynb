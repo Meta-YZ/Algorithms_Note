{
 "cells": [
  {
   "cell_type": "markdown",
   "id": "3d8866e4",
   "metadata": {},
   "source": [
    "## 模型选择"
   ]
  },
  {
   "cell_type": "markdown",
   "id": "58207585",
   "metadata": {},
   "source": [
    "在机器学习中，我们通常在评估几个候选模型后选择最终的模型。这个过程叫做模型选择。有时，需要进行比较的模型在本质上是完全不同的（比如，决策树与线性模型）。又有时，我们需要比较不同的超参数设置下的同一类模型。\n",
    "\n",
    "例如，训练多层感知机模型时，我们可能希望比较具有不同数量的隐藏层、不同数量的隐藏单元以及不同的的激活函数组合的模型。为了确定候选模型中的最佳模型，我们通常会使用验证集。"
   ]
  },
  {
   "cell_type": "markdown",
   "id": "1022a2b8",
   "metadata": {},
   "source": [
    "### 𝐾折交叉验证"
   ]
  },
  {
   "cell_type": "markdown",
   "id": "24622ee3",
   "metadata": {},
   "source": [
    "当训练数据稀缺时，我们甚至可能无法提供足够的数据来构成一个合适的验证集。这个问题的一个流行的解决方案是采用 𝐾 折交叉验证。这里，原始训练数据被分成 𝐾 个不重叠的子集。然后执行 𝐾 次模型训练和验证，每次在 𝐾−1 个子集上进行训练，并在剩余的一个子集（在该轮中没有用于训练的子集）上进行验证。最后，通过对 𝐾 次实验的结果取平均来估计训练和验证误差。"
   ]
  },
  {
   "cell_type": "markdown",
   "id": "d96d64ca",
   "metadata": {},
   "source": [
    "## 过拟合和欠拟合"
   ]
  },
  {
   "cell_type": "markdown",
   "id": "0bf9d6ab",
   "metadata": {},
   "source": [
    "- **欠拟合**：如果模型不能降低训练误差，这可能意味着我们的模型过于简单（即表达能力不足），无法捕获我们试图学习的模式。此外，由于我们的训练和验证误差之间的泛化误差很小，我们有理由相信可以用一个更复杂的模型降低训练误差。这种现象被称为欠拟合（underfitting）。\n",
    "\n",
    "- **过拟合**：当我们的训练误差明显低于验证误差时要小心，这表明严重的过拟合（overfitting）。"
   ]
  },
  {
   "cell_type": "markdown",
   "id": "4762f579",
   "metadata": {},
   "source": [
    "## 代码"
   ]
  },
  {
   "cell_type": "code",
   "execution_count": null,
   "id": "c4623bdc",
   "metadata": {},
   "outputs": [],
   "source": []
  },
  {
   "cell_type": "code",
   "execution_count": null,
   "id": "c09a6ab5",
   "metadata": {},
   "outputs": [],
   "source": []
  }
 ],
 "metadata": {
  "kernelspec": {
   "display_name": "Python 3 (ipykernel)",
   "language": "python",
   "name": "python3"
  },
  "language_info": {
   "codemirror_mode": {
    "name": "ipython",
    "version": 3
   },
   "file_extension": ".py",
   "mimetype": "text/x-python",
   "name": "python",
   "nbconvert_exporter": "python",
   "pygments_lexer": "ipython3",
   "version": "3.9.4"
  },
  "toc": {
   "base_numbering": 1,
   "nav_menu": {},
   "number_sections": true,
   "sideBar": true,
   "skip_h1_title": false,
   "title_cell": "Table of Contents",
   "title_sidebar": "Contents",
   "toc_cell": false,
   "toc_position": {},
   "toc_section_display": true,
   "toc_window_display": true
  }
 },
 "nbformat": 4,
 "nbformat_minor": 5
}
