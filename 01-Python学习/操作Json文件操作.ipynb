{
 "cells": [
  {
   "cell_type": "code",
   "execution_count": 1,
   "id": "2d930a74",
   "metadata": {},
   "outputs": [],
   "source": [
    "import os\n",
    "import json"
   ]
  },
  {
   "cell_type": "markdown",
   "id": "1ef0d3dc",
   "metadata": {},
   "source": [
    "## Json保存文件"
   ]
  },
  {
   "cell_type": "code",
   "execution_count": 6,
   "id": "07e961d6",
   "metadata": {},
   "outputs": [],
   "source": [
    "data_wait_to_save = [1, 2, 3]\n",
    "\n",
    "filename = \"./Data/p.json\"\n",
    "if not os.path.exists(filename):\n",
    "    os.system(r\"touch {}\".format(filename))  #调用系统命令行来创建文件\n",
    "\n",
    "with open(filename, 'a') as f:\n",
    "    json.dump(data_wait_to_save, f)\n",
    "    f.write('\\n')"
   ]
  },
  {
   "cell_type": "markdown",
   "id": "806282d2",
   "metadata": {},
   "source": [
    "## 加载Json文件"
   ]
  },
  {
   "cell_type": "code",
   "execution_count": 7,
   "id": "07998528",
   "metadata": {},
   "outputs": [
    {
     "name": "stdout",
     "output_type": "stream",
     "text": [
      "[[1, 2, 3], [1, 2, 3]]\n"
     ]
    }
   ],
   "source": [
    "datas = []\n",
    "with open(filename, 'r') as f:\n",
    "    data_list = f.read().split('\\n')[:-1]\n",
    "    for x in data_list:\n",
    "        list2 = json.loads(x)\n",
    "        datas.append(list2)\n",
    "print(datas)"
   ]
  },
  {
   "cell_type": "code",
   "execution_count": null,
   "id": "fce8ea0a",
   "metadata": {},
   "outputs": [],
   "source": []
  }
 ],
 "metadata": {
  "kernelspec": {
   "display_name": "ACG",
   "language": "python",
   "name": "acg"
  },
  "language_info": {
   "codemirror_mode": {
    "name": "ipython",
    "version": 3
   },
   "file_extension": ".py",
   "mimetype": "text/x-python",
   "name": "python",
   "nbconvert_exporter": "python",
   "pygments_lexer": "ipython3",
   "version": "3.6.13"
  }
 },
 "nbformat": 4,
 "nbformat_minor": 5
}
