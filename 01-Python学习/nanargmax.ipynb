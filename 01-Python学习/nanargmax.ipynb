{
 "cells": [
  {
   "cell_type": "markdown",
   "id": "54f09ee6",
   "metadata": {},
   "source": [
    "## Numpy中取非0下标"
   ]
  },
  {
   "cell_type": "markdown",
   "id": "dec8ed21",
   "metadata": {},
   "source": [
    "&emsp;&emsp;有时候在`numpy array`数组中会存在`nan`的元素，直接取`argmax`的话，取到的下标会是第一个`nan`的下标："
   ]
  },
  {
   "cell_type": "code",
   "execution_count": 1,
   "id": "86259453",
   "metadata": {},
   "outputs": [],
   "source": [
    "import numpy as np"
   ]
  },
  {
   "cell_type": "code",
   "execution_count": 2,
   "id": "115e8d08",
   "metadata": {},
   "outputs": [],
   "source": [
    "data = np.random.rand(5)  # 生成“0~1”均匀分布的随机样本值。随机样本取值范围是[0,1)，不包括1。 "
   ]
  },
  {
   "cell_type": "code",
   "execution_count": 3,
   "id": "384d139f",
   "metadata": {},
   "outputs": [
    {
     "data": {
      "text/plain": [
       "array([[       nan, 0.9161768 , 0.65700317, 0.7531956 , 0.79048068]])"
      ]
     },
     "execution_count": 3,
     "metadata": {},
     "output_type": "execute_result"
    }
   ],
   "source": [
    "data[np.random.randint(5, size=(1,))] = np.nan  # 从[low,high)中随机生成整数，size表示生成一个什么样的数组。\n",
    "data = data.reshape(1, 5)\n",
    "data"
   ]
  },
  {
   "cell_type": "markdown",
   "id": "1fdc7ad6",
   "metadata": {},
   "source": [
    "&emsp;&emsp;直接取值对应到的下标最大的索引将会取到nan对应的index。"
   ]
  },
  {
   "cell_type": "code",
   "execution_count": 4,
   "id": "e605ce84",
   "metadata": {},
   "outputs": [
    {
     "data": {
      "text/plain": [
       "0"
      ]
     },
     "execution_count": 4,
     "metadata": {},
     "output_type": "execute_result"
    }
   ],
   "source": [
    "data.argmax()"
   ]
  },
  {
   "cell_type": "code",
   "execution_count": 5,
   "id": "988c1612",
   "metadata": {},
   "outputs": [],
   "source": [
    "def nanargmax(data):\n",
    "    idx = np.argmax(data, axis=None)\n",
    "    if np.isnan(data[idx]):\n",
    "        nan_count = np.sum(np.isnan(data))\n",
    "        # In numpy < 1.8 use idx = np.argsort(a, axis=None)[-nan_count-1]\n",
    "        idx = np.argpartition(data, -nan_count-1, axis=None)[-nan_count-1]\n",
    "    return idx"
   ]
  },
  {
   "cell_type": "code",
   "execution_count": 6,
   "id": "81d17427",
   "metadata": {},
   "outputs": [
    {
     "data": {
      "text/plain": [
       "1"
      ]
     },
     "execution_count": 6,
     "metadata": {},
     "output_type": "execute_result"
    }
   ],
   "source": [
    "nanargmax(data[0])\n"
   ]
  },
  {
   "cell_type": "code",
   "execution_count": null,
   "id": "86114de0",
   "metadata": {},
   "outputs": [],
   "source": []
  }
 ],
 "metadata": {
  "kernelspec": {
   "display_name": "ACG",
   "language": "python",
   "name": "acg"
  },
  "language_info": {
   "codemirror_mode": {
    "name": "ipython",
    "version": 3
   },
   "file_extension": ".py",
   "mimetype": "text/x-python",
   "name": "python",
   "nbconvert_exporter": "python",
   "pygments_lexer": "ipython3",
   "version": "3.6.13"
  },
  "toc": {
   "base_numbering": 1,
   "nav_menu": {},
   "number_sections": true,
   "sideBar": true,
   "skip_h1_title": false,
   "title_cell": "Table of Contents",
   "title_sidebar": "Contents",
   "toc_cell": false,
   "toc_position": {},
   "toc_section_display": true,
   "toc_window_display": false
  }
 },
 "nbformat": 4,
 "nbformat_minor": 5
}
