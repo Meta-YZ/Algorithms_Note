{
 "cells": [
  {
   "cell_type": "code",
   "execution_count": 1,
   "id": "c9d9f87b",
   "metadata": {},
   "outputs": [],
   "source": [
    "import math\n",
    "import numpy as np"
   ]
  },
  {
   "cell_type": "code",
   "execution_count": 2,
   "id": "8f44494e",
   "metadata": {},
   "outputs": [],
   "source": [
    "def radian2angle(radian):\n",
    "    \"\"\"\n",
    "    弧度值转化为角度值\n",
    "    \"\"\"\n",
    "    radian = np.clip(radian, -math.pi, math.pi)\n",
    "    return radian / math.pi * 180"
   ]
  },
  {
   "cell_type": "code",
   "execution_count": 3,
   "id": "9c594e0c",
   "metadata": {},
   "outputs": [],
   "source": [
    "def angle2radian(angle):\n",
    "    \"\"\"\n",
    "    角度值转化为弧度值\n",
    "    \"\"\"\n",
    "    angle = np.clip(angle, -180, 180)\n",
    "    return angle / 180 * math.pi"
   ]
  },
  {
   "cell_type": "code",
   "execution_count": 4,
   "id": "4e45f765",
   "metadata": {},
   "outputs": [
    {
     "name": "stdout",
     "output_type": "stream",
     "text": [
      "1.9883672055458734\n"
     ]
    }
   ],
   "source": [
    "print(angle2radian(113.925049))"
   ]
  },
  {
   "cell_type": "code",
   "execution_count": 6,
   "id": "75f714c8",
   "metadata": {},
   "outputs": [
    {
     "name": "stdout",
     "output_type": "stream",
     "text": [
      "0.31264445919458844\n"
     ]
    }
   ],
   "source": [
    "print(angle2radian(17.913208))"
   ]
  },
  {
   "cell_type": "code",
   "execution_count": null,
   "id": "daced032",
   "metadata": {},
   "outputs": [],
   "source": []
  }
 ],
 "metadata": {
  "kernelspec": {
   "display_name": "ACG",
   "language": "python",
   "name": "acg"
  },
  "language_info": {
   "codemirror_mode": {
    "name": "ipython",
    "version": 3
   },
   "file_extension": ".py",
   "mimetype": "text/x-python",
   "name": "python",
   "nbconvert_exporter": "python",
   "pygments_lexer": "ipython3",
   "version": "3.6.13"
  }
 },
 "nbformat": 4,
 "nbformat_minor": 5
}
