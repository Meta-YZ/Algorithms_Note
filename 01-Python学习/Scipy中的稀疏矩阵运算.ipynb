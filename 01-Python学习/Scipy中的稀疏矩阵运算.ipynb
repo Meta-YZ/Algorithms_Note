{
 "cells": [
  {
   "cell_type": "markdown",
   "id": "06f67d46",
   "metadata": {},
   "source": [
    "## Scipy中的稀疏矩阵运算"
   ]
  },
  {
   "cell_type": "markdown",
   "id": "25cdedcd",
   "metadata": {},
   "source": [
    "### 1. 基础运用"
   ]
  },
  {
   "cell_type": "code",
   "execution_count": 1,
   "id": "a1eee165",
   "metadata": {},
   "outputs": [],
   "source": [
    "import scipy.sparse as sp"
   ]
  },
  {
   "cell_type": "code",
   "execution_count": 2,
   "id": "de7f592e",
   "metadata": {},
   "outputs": [
    {
     "data": {
      "text/plain": [
       "<5x5 sparse matrix of type '<class 'numpy.float64'>'\n",
       "\twith 5 stored elements (1 diagonals) in DIAgonal format>"
      ]
     },
     "execution_count": 2,
     "metadata": {},
     "output_type": "execute_result"
    }
   ],
   "source": [
    "x = sp.eye(5,5) # 5行5列的单位矩阵\n",
    "x"
   ]
  },
  {
   "cell_type": "code",
   "execution_count": 3,
   "id": "c17e5c51",
   "metadata": {},
   "outputs": [
    {
     "data": {
      "text/plain": [
       "'dia'"
      ]
     },
     "execution_count": 3,
     "metadata": {},
     "output_type": "execute_result"
    }
   ],
   "source": [
    "x.format"
   ]
  },
  {
   "cell_type": "code",
   "execution_count": 4,
   "id": "2d5e5697",
   "metadata": {},
   "outputs": [
    {
     "data": {
      "text/plain": [
       "array([[1., 1., 1., 1., 1.]])"
      ]
     },
     "execution_count": 4,
     "metadata": {},
     "output_type": "execute_result"
    }
   ],
   "source": [
    "x.data # 查看非0元素"
   ]
  },
  {
   "cell_type": "code",
   "execution_count": 5,
   "id": "48823a89",
   "metadata": {},
   "outputs": [
    {
     "data": {
      "text/plain": [
       "array([[1., 0., 0., 0., 0.],\n",
       "       [0., 1., 0., 0., 0.],\n",
       "       [0., 0., 1., 0., 0.],\n",
       "       [0., 0., 0., 1., 0.],\n",
       "       [0., 0., 0., 0., 1.]])"
      ]
     },
     "execution_count": 5,
     "metadata": {},
     "output_type": "execute_result"
    }
   ],
   "source": [
    "x.toarray() # 返回数组形式"
   ]
  },
  {
   "cell_type": "code",
   "execution_count": 6,
   "id": "24844531",
   "metadata": {},
   "outputs": [
    {
     "data": {
      "text/plain": [
       "array([[0.84147098, 0.        , 0.        , 0.        , 0.        ],\n",
       "       [0.        , 0.84147098, 0.        , 0.        , 0.        ],\n",
       "       [0.        , 0.        , 0.84147098, 0.        , 0.        ],\n",
       "       [0.        , 0.        , 0.        , 0.84147098, 0.        ],\n",
       "       [0.        , 0.        , 0.        , 0.        , 0.84147098]])"
      ]
     },
     "execution_count": 6,
     "metadata": {},
     "output_type": "execute_result"
    }
   ],
   "source": [
    "x.sin().toarray() # 支持正弦、余弦运算"
   ]
  },
  {
   "cell_type": "code",
   "execution_count": 7,
   "id": "94e4ae52",
   "metadata": {},
   "outputs": [
    {
     "data": {
      "text/plain": [
       "0.2"
      ]
     },
     "execution_count": 7,
     "metadata": {},
     "output_type": "execute_result"
    }
   ],
   "source": [
    "x.mean() # 平均值"
   ]
  },
  {
   "cell_type": "code",
   "execution_count": 8,
   "id": "cfddb528",
   "metadata": {},
   "outputs": [
    {
     "data": {
      "text/plain": [
       "array([1., 2., 3., 4., 5.])"
      ]
     },
     "execution_count": 8,
     "metadata": {},
     "output_type": "execute_result"
    }
   ],
   "source": [
    "x.dot([1,2,3,4,5]) # 内积"
   ]
  },
  {
   "cell_type": "code",
   "execution_count": 9,
   "id": "c18bdbab",
   "metadata": {},
   "outputs": [
    {
     "data": {
      "text/plain": [
       "array([[1., 0., 0., 0., 0.]])"
      ]
     },
     "execution_count": 9,
     "metadata": {},
     "output_type": "execute_result"
    }
   ],
   "source": [
    "x.getrow(0).toarray() # 返回第0行"
   ]
  },
  {
   "cell_type": "code",
   "execution_count": 10,
   "id": "50ce82ef",
   "metadata": {},
   "outputs": [
    {
     "data": {
      "text/plain": [
       "array([[1.],\n",
       "       [0.],\n",
       "       [0.],\n",
       "       [0.],\n",
       "       [0.]])"
      ]
     },
     "execution_count": 10,
     "metadata": {},
     "output_type": "execute_result"
    }
   ],
   "source": [
    "x.getcol(0).toarray() # 返回第0列"
   ]
  },
  {
   "cell_type": "markdown",
   "id": "d45c5da0",
   "metadata": {},
   "source": [
    "### 2. 稀疏矩阵处理"
   ]
  },
  {
   "cell_type": "markdown",
   "id": "6fed67bd",
   "metadata": {},
   "source": [
    "#### 2.1）查找稀疏矩阵中非0元素的位置与值"
   ]
  },
  {
   "cell_type": "code",
   "execution_count": 11,
   "id": "c0a46d37",
   "metadata": {},
   "outputs": [
    {
     "data": {
      "text/plain": [
       "<2x5 sparse matrix of type '<class 'numpy.int64'>'\n",
       "\twith 3 stored elements (blocksize = 1x1) in Block Sparse Row format>"
      ]
     },
     "execution_count": 11,
     "metadata": {},
     "output_type": "execute_result"
    }
   ],
   "source": [
    "x = sp.bsr_matrix([[1,0,0,0,0], [0,1,0,0,1]])\n",
    "x"
   ]
  },
  {
   "cell_type": "code",
   "execution_count": 12,
   "id": "8e92ba7a",
   "metadata": {},
   "outputs": [
    {
     "data": {
      "text/plain": [
       "array([[1, 0, 0, 0, 0],\n",
       "       [0, 1, 0, 0, 1]])"
      ]
     },
     "execution_count": 12,
     "metadata": {},
     "output_type": "execute_result"
    }
   ],
   "source": [
    "x.toarray()"
   ]
  },
  {
   "cell_type": "code",
   "execution_count": 13,
   "id": "33e765a6",
   "metadata": {},
   "outputs": [
    {
     "data": {
      "text/plain": [
       "(array([0, 1, 1], dtype=int32), array([0, 1, 4], dtype=int32))"
      ]
     },
     "execution_count": 13,
     "metadata": {},
     "output_type": "execute_result"
    }
   ],
   "source": [
    "x.nonzero()  # 非0元素的位置 (0,0), (1,1), (1,4)"
   ]
  },
  {
   "cell_type": "code",
   "execution_count": 14,
   "id": "2daaa406",
   "metadata": {},
   "outputs": [
    {
     "data": {
      "text/plain": [
       "(array([0, 1, 1], dtype=int32),\n",
       " array([0, 1, 4], dtype=int32),\n",
       " array([1, 1, 1]))"
      ]
     },
     "execution_count": 14,
     "metadata": {},
     "output_type": "execute_result"
    }
   ],
   "source": [
    "sp.find(x) # 非0元素位置和值"
   ]
  },
  {
   "cell_type": "markdown",
   "id": "9ea523ab",
   "metadata": {},
   "source": [
    "#### 2.2）最大值与最小值"
   ]
  },
  {
   "cell_type": "code",
   "execution_count": 15,
   "id": "e888e0f9",
   "metadata": {},
   "outputs": [
    {
     "data": {
      "text/plain": [
       "1"
      ]
     },
     "execution_count": 15,
     "metadata": {},
     "output_type": "execute_result"
    }
   ],
   "source": [
    "x = sp.bsr_matrix([[1,0,0,0,0], [0,1,0,0,1]])\n",
    "x.max()"
   ]
  },
  {
   "cell_type": "code",
   "execution_count": 16,
   "id": "6bc30146",
   "metadata": {},
   "outputs": [
    {
     "data": {
      "text/plain": [
       "array([[0, 0, 0, 0, 0]])"
      ]
     },
     "execution_count": 16,
     "metadata": {},
     "output_type": "execute_result"
    }
   ],
   "source": [
    "x.min(axis=0).toarray()"
   ]
  },
  {
   "cell_type": "code",
   "execution_count": 17,
   "id": "a2fa1461",
   "metadata": {},
   "outputs": [
    {
     "data": {
      "text/plain": [
       "array([[0],\n",
       "       [0]])"
      ]
     },
     "execution_count": 17,
     "metadata": {},
     "output_type": "execute_result"
    }
   ],
   "source": [
    "x.min(axis=1).toarray()"
   ]
  },
  {
   "cell_type": "markdown",
   "id": "863d53e4",
   "metadata": {},
   "source": [
    "#### 2.3）其它运算"
   ]
  },
  {
   "cell_type": "code",
   "execution_count": 18,
   "id": "b9b8d5cb",
   "metadata": {},
   "outputs": [],
   "source": [
    "x = sp.bsr_matrix([[1,0,0,0,0],[0,1,0,0,1]])"
   ]
  },
  {
   "cell_type": "code",
   "execution_count": 19,
   "id": "bc4400f3",
   "metadata": {},
   "outputs": [
    {
     "data": {
      "text/plain": [
       "array([[1, 0, 0, 0, 0],\n",
       "       [0, 1, 0, 0, 1]])"
      ]
     },
     "execution_count": 19,
     "metadata": {},
     "output_type": "execute_result"
    }
   ],
   "source": [
    "x.toarray()"
   ]
  },
  {
   "cell_type": "code",
   "execution_count": 20,
   "id": "cf811fb9",
   "metadata": {},
   "outputs": [
    {
     "data": {
      "text/plain": [
       "array([[1, 0, 0, 0, 0],\n",
       "       [0, 2, 0, 0, 5]])"
      ]
     },
     "execution_count": 20,
     "metadata": {},
     "output_type": "execute_result"
    }
   ],
   "source": [
    "x.multiply([1,2,3,4,5]).toarray() # 矩阵内积"
   ]
  },
  {
   "cell_type": "code",
   "execution_count": 21,
   "id": "b133f21d",
   "metadata": {},
   "outputs": [
    {
     "data": {
      "text/plain": [
       "matrix([[1, 0, 0, 0, 0],\n",
       "        [0, 1, 0, 0, 1]])"
      ]
     },
     "execution_count": 21,
     "metadata": {},
     "output_type": "execute_result"
    }
   ],
   "source": [
    "x.todense()"
   ]
  },
  {
   "cell_type": "code",
   "execution_count": 22,
   "id": "255d27d6",
   "metadata": {},
   "outputs": [
    {
     "data": {
      "text/plain": [
       "array([[1],\n",
       "       [7]])"
      ]
     },
     "execution_count": 22,
     "metadata": {},
     "output_type": "execute_result"
    }
   ],
   "source": [
    "y = sp.bsr_matrix([[1],[2],[3],[4],[5]])\n",
    "x*y.toarray() # 矩阵乘法"
   ]
  },
  {
   "cell_type": "code",
   "execution_count": 23,
   "id": "e71a26de",
   "metadata": {},
   "outputs": [
    {
     "data": {
      "text/plain": [
       "array([[1, 0, 0, 0, 0],\n",
       "       [0, 1, 0, 0, 1]])"
      ]
     },
     "execution_count": 23,
     "metadata": {},
     "output_type": "execute_result"
    }
   ],
   "source": [
    "x = sp.bsr_matrix([[1,0,0,0,0],[0,1,0,0,1]])\n",
    "x.toarray()"
   ]
  },
  {
   "cell_type": "markdown",
   "id": "8bf71098",
   "metadata": {},
   "source": [
    "- 转置"
   ]
  },
  {
   "cell_type": "code",
   "execution_count": 24,
   "id": "2b09ecc8",
   "metadata": {},
   "outputs": [
    {
     "data": {
      "text/plain": [
       "array([[1, 0],\n",
       "       [0, 1],\n",
       "       [0, 0],\n",
       "       [0, 0],\n",
       "       [0, 1]])"
      ]
     },
     "execution_count": 24,
     "metadata": {},
     "output_type": "execute_result"
    }
   ],
   "source": [
    "x.transpose().toarray() # 转置"
   ]
  },
  {
   "cell_type": "markdown",
   "id": "b6cdc5ed",
   "metadata": {},
   "source": [
    "- 取符号"
   ]
  },
  {
   "cell_type": "code",
   "execution_count": 25,
   "id": "094198d8",
   "metadata": {},
   "outputs": [
    {
     "data": {
      "text/plain": [
       "array([[ 1.,  1., -1.]])"
      ]
     },
     "execution_count": 25,
     "metadata": {},
     "output_type": "execute_result"
    }
   ],
   "source": [
    "sp.bsr_matrix([0.51, 0.49, -0.500001]).sign().toarray() # 取符号"
   ]
  },
  {
   "cell_type": "markdown",
   "id": "71cebf16",
   "metadata": {},
   "source": [
    "- 加法"
   ]
  },
  {
   "cell_type": "code",
   "execution_count": 26,
   "id": "3810c27c",
   "metadata": {},
   "outputs": [
    {
     "data": {
      "text/plain": [
       "array([[0.36934812, 0.        , 0.28959786, 0.        , 0.        ],\n",
       "       [0.        , 0.50831464, 0.41698617, 0.        , 0.        ],\n",
       "       [0.43594142, 0.        , 0.02238747, 0.68907788, 0.97069512]])"
      ]
     },
     "execution_count": 26,
     "metadata": {},
     "output_type": "execute_result"
    }
   ],
   "source": [
    "x = sp.random(3,5,0.5) # 随机矩阵， 第三个参数表示非0元素的密度\n",
    "x.toarray()"
   ]
  },
  {
   "cell_type": "code",
   "execution_count": 27,
   "id": "9b5693d9",
   "metadata": {},
   "outputs": [
    {
     "data": {
      "text/plain": [
       "matrix([[0.        , 0.        , 0.        , 0.        , 0.        ],\n",
       "        [0.        , 0.        , 0.        , 0.025713  , 0.29667432],\n",
       "        [0.59682796, 0.74728054, 0.        , 0.        , 0.        ]])"
      ]
     },
     "execution_count": 27,
     "metadata": {},
     "output_type": "execute_result"
    }
   ],
   "source": [
    "y = sp.random(3, 5, 0.3)\n",
    "y.todense()"
   ]
  },
  {
   "cell_type": "code",
   "execution_count": 28,
   "id": "1b379e48",
   "metadata": {},
   "outputs": [
    {
     "data": {
      "text/plain": [
       "array([[0.36934812, 0.        , 0.28959786, 0.        , 0.        ],\n",
       "       [0.        , 0.50831464, 0.41698617, 0.025713  , 0.29667432],\n",
       "       [1.03276938, 0.74728054, 0.02238747, 0.68907788, 0.97069512]])"
      ]
     },
     "execution_count": 28,
     "metadata": {},
     "output_type": "execute_result"
    }
   ],
   "source": [
    "z = x + y\n",
    "z.toarray()"
   ]
  },
  {
   "cell_type": "markdown",
   "id": "18fa0037",
   "metadata": {},
   "source": [
    "- 平方根"
   ]
  },
  {
   "cell_type": "code",
   "execution_count": 29,
   "id": "62239365",
   "metadata": {},
   "outputs": [
    {
     "data": {
      "text/plain": [
       "array([[0.        , 0.        , 0.        , 0.57764511, 0.        ],\n",
       "       [0.03846491, 0.15867775, 0.95534087, 0.61075743, 0.        ],\n",
       "       [0.99039144, 0.23078679, 0.4383663 , 0.        , 0.        ]])"
      ]
     },
     "execution_count": 29,
     "metadata": {},
     "output_type": "execute_result"
    }
   ],
   "source": [
    "x = sp.random(3, 5, 0.5)\n",
    "x.toarray()"
   ]
  },
  {
   "cell_type": "code",
   "execution_count": 30,
   "id": "edb9925d",
   "metadata": {},
   "outputs": [
    {
     "data": {
      "text/plain": [
       "array([[0.        , 0.        , 0.        , 0.76002968, 0.        ],\n",
       "       [0.19612473, 0.39834376, 0.97741541, 0.78150971, 0.        ],\n",
       "       [0.99518412, 0.48040274, 0.66209237, 0.        , 0.        ]])"
      ]
     },
     "execution_count": 30,
     "metadata": {},
     "output_type": "execute_result"
    }
   ],
   "source": [
    "x.sqrt().toarray()"
   ]
  },
  {
   "cell_type": "markdown",
   "id": "d3269c0e",
   "metadata": {},
   "source": [
    "- 幂运算"
   ]
  },
  {
   "cell_type": "code",
   "execution_count": 31,
   "id": "3d684a21",
   "metadata": {},
   "outputs": [
    {
     "data": {
      "text/plain": [
       "array([[0.        , 0.        , 0.        , 0.33367388, 0.        ],\n",
       "       [0.00147955, 0.02517863, 0.91267619, 0.37302464, 0.        ],\n",
       "       [0.9808752 , 0.05326254, 0.19216502, 0.        , 0.        ]])"
      ]
     },
     "execution_count": 31,
     "metadata": {},
     "output_type": "execute_result"
    }
   ],
   "source": [
    "x.power(2).toarray() "
   ]
  },
  {
   "cell_type": "markdown",
   "id": "6032723a",
   "metadata": {},
   "source": [
    "- 对角线元素"
   ]
  },
  {
   "cell_type": "code",
   "execution_count": 32,
   "id": "9147bc84",
   "metadata": {},
   "outputs": [
    {
     "data": {
      "text/plain": [
       "array([0.        , 0.15867775, 0.4383663 ])"
      ]
     },
     "execution_count": 32,
     "metadata": {},
     "output_type": "execute_result"
    }
   ],
   "source": [
    "x.diagonal() # 对角线元素"
   ]
  },
  {
   "cell_type": "markdown",
   "id": "fe1abfa9",
   "metadata": {},
   "source": [
    "- 向下取整"
   ]
  },
  {
   "cell_type": "code",
   "execution_count": 33,
   "id": "b86b250d",
   "metadata": {},
   "outputs": [
    {
     "data": {
      "text/plain": [
       "array([[0., 0., 0., 0., 0.],\n",
       "       [0., 0., 0., 0., 0.],\n",
       "       [0., 0., 0., 0., 0.]])"
      ]
     },
     "execution_count": 33,
     "metadata": {},
     "output_type": "execute_result"
    }
   ],
   "source": [
    "x.floor().toarray()"
   ]
  },
  {
   "cell_type": "markdown",
   "id": "adf0d590",
   "metadata": {},
   "source": [
    "- 向上取整"
   ]
  },
  {
   "cell_type": "code",
   "execution_count": 34,
   "id": "d2e014a7",
   "metadata": {},
   "outputs": [
    {
     "data": {
      "text/plain": [
       "array([[0., 0., 0., 1., 0.],\n",
       "       [1., 1., 1., 1., 0.],\n",
       "       [1., 1., 1., 0., 0.]])"
      ]
     },
     "execution_count": 34,
     "metadata": {},
     "output_type": "execute_result"
    }
   ],
   "source": [
    "x.ceil().toarray()"
   ]
  },
  {
   "cell_type": "markdown",
   "id": "620fefa1",
   "metadata": {},
   "source": [
    "- 四舍五入"
   ]
  },
  {
   "cell_type": "code",
   "execution_count": 35,
   "id": "31571297",
   "metadata": {},
   "outputs": [
    {
     "data": {
      "text/plain": [
       "array([[0., 0., 0., 1., 0.],\n",
       "       [0., 0., 1., 1., 0.],\n",
       "       [1., 0., 0., 0., 0.]])"
      ]
     },
     "execution_count": 35,
     "metadata": {},
     "output_type": "execute_result"
    }
   ],
   "source": [
    "x.rint().toarray()"
   ]
  },
  {
   "cell_type": "markdown",
   "id": "a306ccb2",
   "metadata": {},
   "source": [
    "- 维数"
   ]
  },
  {
   "cell_type": "code",
   "execution_count": 36,
   "id": "55c9c771",
   "metadata": {},
   "outputs": [
    {
     "data": {
      "text/plain": [
       "2"
      ]
     },
     "execution_count": 36,
     "metadata": {},
     "output_type": "execute_result"
    }
   ],
   "source": [
    "x.ndim"
   ]
  },
  {
   "cell_type": "markdown",
   "id": "4b23ed93",
   "metadata": {},
   "source": [
    "- 维度"
   ]
  },
  {
   "cell_type": "code",
   "execution_count": 37,
   "id": "21f53e6d",
   "metadata": {},
   "outputs": [
    {
     "data": {
      "text/plain": [
       "(3, 5)"
      ]
     },
     "execution_count": 37,
     "metadata": {},
     "output_type": "execute_result"
    }
   ],
   "source": [
    "x.shape"
   ]
  },
  {
   "cell_type": "markdown",
   "id": "403f1f97",
   "metadata": {},
   "source": [
    "- 求和"
   ]
  },
  {
   "cell_type": "code",
   "execution_count": 38,
   "id": "daee7207",
   "metadata": {},
   "outputs": [
    {
     "data": {
      "text/plain": [
       "4.000430611555351"
      ]
     },
     "execution_count": 38,
     "metadata": {},
     "output_type": "execute_result"
    }
   ],
   "source": [
    "x.sum()"
   ]
  },
  {
   "cell_type": "markdown",
   "id": "07c8e433",
   "metadata": {},
   "source": [
    "- 横向求和"
   ]
  },
  {
   "cell_type": "code",
   "execution_count": 39,
   "id": "20fe550f",
   "metadata": {},
   "outputs": [
    {
     "data": {
      "text/plain": [
       "matrix([[0.57764511],\n",
       "        [1.76324097],\n",
       "        [1.65954453]])"
      ]
     },
     "execution_count": 39,
     "metadata": {},
     "output_type": "execute_result"
    }
   ],
   "source": [
    "x.sum(axis=1) "
   ]
  },
  {
   "cell_type": "markdown",
   "id": "06788e78",
   "metadata": {},
   "source": [
    "- 纵向求和"
   ]
  },
  {
   "cell_type": "code",
   "execution_count": 40,
   "id": "1311f1f4",
   "metadata": {},
   "outputs": [
    {
     "data": {
      "text/plain": [
       "matrix([[1.02885635, 0.38946454, 1.39370718, 1.18840255, 0.        ]])"
      ]
     },
     "execution_count": 40,
     "metadata": {},
     "output_type": "execute_result"
    }
   ],
   "source": [
    "x.sum(axis=0)"
   ]
  },
  {
   "cell_type": "code",
   "execution_count": 41,
   "id": "9c09a366",
   "metadata": {},
   "outputs": [
    {
     "data": {
      "text/plain": [
       "array([[0.        , 0.        , 0.        , 0.57764511, 0.        ],\n",
       "       [0.03846491, 0.15867775, 0.95534087, 0.61075743, 0.        ],\n",
       "       [0.99039144, 0.23078679, 0.4383663 , 0.        , 0.        ]])"
      ]
     },
     "execution_count": 41,
     "metadata": {},
     "output_type": "execute_result"
    }
   ],
   "source": [
    "sp.tril(x, 3).toarray() # 返回下三角稀疏矩阵"
   ]
  },
  {
   "cell_type": "code",
   "execution_count": 42,
   "id": "8e1a6301",
   "metadata": {},
   "outputs": [
    {
     "data": {
      "text/plain": [
       "array([[0.        , 0.        , 0.        , 0.        , 0.        ],\n",
       "       [0.03846491, 0.15867775, 0.        , 0.        , 0.        ],\n",
       "       [0.99039144, 0.23078679, 0.4383663 , 0.        , 0.        ]])"
      ]
     },
     "execution_count": 42,
     "metadata": {},
     "output_type": "execute_result"
    }
   ],
   "source": [
    "sp.tril(x, 0).toarray()"
   ]
  },
  {
   "cell_type": "code",
   "execution_count": 43,
   "id": "fe8c8df6",
   "metadata": {},
   "outputs": [
    {
     "data": {
      "text/plain": [
       "array([[0.        , 0.        , 0.        , 0.        , 0.        ],\n",
       "       [0.03846491, 0.        , 0.        , 0.        , 0.        ],\n",
       "       [0.99039144, 0.23078679, 0.        , 0.        , 0.        ]])"
      ]
     },
     "execution_count": 43,
     "metadata": {},
     "output_type": "execute_result"
    }
   ],
   "source": [
    "sp.tril(x, -1).toarray()"
   ]
  },
  {
   "cell_type": "code",
   "execution_count": null,
   "id": "f26d6162",
   "metadata": {},
   "outputs": [],
   "source": []
  }
 ],
 "metadata": {
  "kernelspec": {
   "display_name": "ACG",
   "language": "python",
   "name": "acg"
  },
  "language_info": {
   "codemirror_mode": {
    "name": "ipython",
    "version": 3
   },
   "file_extension": ".py",
   "mimetype": "text/x-python",
   "name": "python",
   "nbconvert_exporter": "python",
   "pygments_lexer": "ipython3",
   "version": "3.6.13"
  }
 },
 "nbformat": 4,
 "nbformat_minor": 5
}
