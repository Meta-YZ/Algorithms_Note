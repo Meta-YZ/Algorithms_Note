{
 "cells": [
  {
   "cell_type": "markdown",
   "id": "cb647639",
   "metadata": {},
   "source": [
    "## 基本概念\n",
    "\n",
    "1. 定义\n",
    "2. 形式\n",
    "3. 冲突解决\n",
    "4. 规则分为命题规则和一阶规则\n",
    "\n",
    "## 基础方法\n",
    "\n",
    "### 序贯覆盖\n",
    "\n",
    "1. 穷尽搜索\n",
    "2. 自顶向下\n",
    "3. 自低向上\n",
    "\n",
    "\n",
    "## 提高方法\n",
    "\n",
    "1. 剪枝优化\n",
    "2. 一阶规则学习\n",
    "3. 归纳逻辑程序设计"
   ]
  },
  {
   "cell_type": "code",
   "execution_count": null,
   "id": "e2cd365e",
   "metadata": {},
   "outputs": [],
   "source": []
  }
 ],
 "metadata": {
  "kernelspec": {
   "display_name": "Python 3 (ipykernel)",
   "language": "python",
   "name": "python3"
  },
  "language_info": {
   "codemirror_mode": {
    "name": "ipython",
    "version": 3
   },
   "file_extension": ".py",
   "mimetype": "text/x-python",
   "name": "python",
   "nbconvert_exporter": "python",
   "pygments_lexer": "ipython3",
   "version": "3.9.4"
  },
  "toc": {
   "base_numbering": 1,
   "nav_menu": {},
   "number_sections": true,
   "sideBar": true,
   "skip_h1_title": false,
   "title_cell": "Table of Contents",
   "title_sidebar": "Contents",
   "toc_cell": false,
   "toc_position": {},
   "toc_section_display": true,
   "toc_window_display": true
  }
 },
 "nbformat": 4,
 "nbformat_minor": 5
}
