{
 "cells": [
  {
   "cell_type": "markdown",
   "id": "cfae71e7",
   "metadata": {},
   "source": [
    "## 为什么贝叶斯可以解决分类问题"
   ]
  },
  {
   "cell_type": "markdown",
   "id": "edd88a97",
   "metadata": {},
   "source": [
    "### 贝叶斯决策论"
   ]
  },
  {
   "cell_type": "markdown",
   "id": "1673629d",
   "metadata": {},
   "source": [
    "## 贝叶斯怎样解决问题"
   ]
  },
  {
   "cell_type": "markdown",
   "id": "60374355",
   "metadata": {},
   "source": [
    "### 朴素贝叶斯算法"
   ]
  },
  {
   "cell_type": "markdown",
   "id": "4adb07ad",
   "metadata": {},
   "source": [
    "### 半贝叶斯算法"
   ]
  },
  {
   "cell_type": "markdown",
   "id": "6a135240",
   "metadata": {},
   "source": [
    "### 贝叶斯网络"
   ]
  },
  {
   "cell_type": "markdown",
   "id": "0ab009eb",
   "metadata": {},
   "source": [
    "## 其他"
   ]
  },
  {
   "cell_type": "markdown",
   "id": "8c38711a",
   "metadata": {},
   "source": [
    "### EM算法"
   ]
  },
  {
   "cell_type": "code",
   "execution_count": null,
   "id": "1e88d006",
   "metadata": {},
   "outputs": [],
   "source": []
  }
 ],
 "metadata": {
  "kernelspec": {
   "display_name": "Python 3 (ipykernel)",
   "language": "python",
   "name": "python3"
  },
  "language_info": {
   "codemirror_mode": {
    "name": "ipython",
    "version": 3
   },
   "file_extension": ".py",
   "mimetype": "text/x-python",
   "name": "python",
   "nbconvert_exporter": "python",
   "pygments_lexer": "ipython3",
   "version": "3.9.4"
  },
  "toc": {
   "base_numbering": 1,
   "nav_menu": {},
   "number_sections": true,
   "sideBar": true,
   "skip_h1_title": false,
   "title_cell": "Table of Contents",
   "title_sidebar": "Contents",
   "toc_cell": false,
   "toc_position": {},
   "toc_section_display": true,
   "toc_window_display": true
  }
 },
 "nbformat": 4,
 "nbformat_minor": 5
}
