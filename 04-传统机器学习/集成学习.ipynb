{
 "cells": [
  {
   "cell_type": "markdown",
   "id": "4e2e41d3",
   "metadata": {},
   "source": [
    "## 集成学习理论基础"
   ]
  },
  {
   "cell_type": "markdown",
   "id": "3b17c854",
   "metadata": {},
   "source": [
    "### 个体与集成"
   ]
  },
  {
   "cell_type": "markdown",
   "id": "33efa3f1",
   "metadata": {},
   "source": [
    "### 结合策略"
   ]
  },
  {
   "cell_type": "markdown",
   "id": "9945a62a",
   "metadata": {},
   "source": [
    "### 多样性"
   ]
  },
  {
   "cell_type": "markdown",
   "id": "f9ab3e91",
   "metadata": {},
   "source": [
    "## 集成学习有哪些方法"
   ]
  },
  {
   "cell_type": "markdown",
   "id": "7c346485",
   "metadata": {},
   "source": [
    "### boosting"
   ]
  },
  {
   "cell_type": "markdown",
   "id": "f8cfe65a",
   "metadata": {},
   "source": [
    "### bagging与随机森林"
   ]
  },
  {
   "cell_type": "markdown",
   "id": "0d95fc0e",
   "metadata": {},
   "source": [
    "## 其他"
   ]
  },
  {
   "cell_type": "markdown",
   "id": "2059992b",
   "metadata": {},
   "source": [
    "### GBDT"
   ]
  },
  {
   "cell_type": "markdown",
   "id": "caabf84a",
   "metadata": {},
   "source": [
    "### XGB"
   ]
  },
  {
   "cell_type": "code",
   "execution_count": null,
   "id": "924c365a",
   "metadata": {},
   "outputs": [],
   "source": []
  }
 ],
 "metadata": {
  "kernelspec": {
   "display_name": "Python 3 (ipykernel)",
   "language": "python",
   "name": "python3"
  },
  "language_info": {
   "codemirror_mode": {
    "name": "ipython",
    "version": 3
   },
   "file_extension": ".py",
   "mimetype": "text/x-python",
   "name": "python",
   "nbconvert_exporter": "python",
   "pygments_lexer": "ipython3",
   "version": "3.9.4"
  },
  "toc": {
   "base_numbering": 1,
   "nav_menu": {},
   "number_sections": true,
   "sideBar": true,
   "skip_h1_title": false,
   "title_cell": "Table of Contents",
   "title_sidebar": "Contents",
   "toc_cell": false,
   "toc_position": {},
   "toc_section_display": true,
   "toc_window_display": true
  }
 },
 "nbformat": 4,
 "nbformat_minor": 5
}
