{
 "cells": [
  {
   "cell_type": "markdown",
   "id": "a66244a2",
   "metadata": {},
   "source": [
    "## 什么是神经网络"
   ]
  },
  {
   "cell_type": "markdown",
   "id": "263c8261",
   "metadata": {},
   "source": [
    "### 神经元模型"
   ]
  },
  {
   "cell_type": "markdown",
   "id": "e9e175bc",
   "metadata": {},
   "source": [
    "### 感知机与多层网络"
   ]
  },
  {
   "cell_type": "markdown",
   "id": "fd35831c",
   "metadata": {},
   "source": [
    "### 深度学习"
   ]
  },
  {
   "cell_type": "markdown",
   "id": "a8c1b2e6",
   "metadata": {},
   "source": [
    "## 神经网络的核心方法"
   ]
  },
  {
   "cell_type": "markdown",
   "id": "146fae7e",
   "metadata": {},
   "source": [
    "### 误差反向传播"
   ]
  },
  {
   "cell_type": "markdown",
   "id": "46954ab9",
   "metadata": {},
   "source": [
    "### 防止过拟合的办法\n",
    "\n",
    "1. 早停(early stop)\n",
    "2. 正则化 regularization\n",
    "3. drop out\n",
    "4. 共享权重"
   ]
  },
  {
   "cell_type": "markdown",
   "id": "c90953a5",
   "metadata": {},
   "source": [
    "## 其他"
   ]
  },
  {
   "cell_type": "markdown",
   "id": "8efab5f5",
   "metadata": {},
   "source": [
    "### 全局最小和局部最小"
   ]
  },
  {
   "cell_type": "markdown",
   "id": "41063ea5",
   "metadata": {},
   "source": [
    "### 常见的神经网络"
   ]
  },
  {
   "cell_type": "code",
   "execution_count": null,
   "id": "944b49d6",
   "metadata": {},
   "outputs": [],
   "source": []
  }
 ],
 "metadata": {
  "kernelspec": {
   "display_name": "Python 3 (ipykernel)",
   "language": "python",
   "name": "python3"
  },
  "language_info": {
   "codemirror_mode": {
    "name": "ipython",
    "version": 3
   },
   "file_extension": ".py",
   "mimetype": "text/x-python",
   "name": "python",
   "nbconvert_exporter": "python",
   "pygments_lexer": "ipython3",
   "version": "3.9.4"
  },
  "toc": {
   "base_numbering": 1,
   "nav_menu": {},
   "number_sections": true,
   "sideBar": true,
   "skip_h1_title": false,
   "title_cell": "Table of Contents",
   "title_sidebar": "Contents",
   "toc_cell": false,
   "toc_position": {},
   "toc_section_display": true,
   "toc_window_display": true
  }
 },
 "nbformat": 4,
 "nbformat_minor": 5
}
