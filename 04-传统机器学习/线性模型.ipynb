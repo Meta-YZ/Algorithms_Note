{
 "cells": [
  {
   "cell_type": "markdown",
   "id": "8205fefc",
   "metadata": {},
   "source": [
    "## 基本思想"
   ]
  },
  {
   "cell_type": "markdown",
   "id": "214c1ca5",
   "metadata": {},
   "source": [
    "线性模型形式简单，易于建模，但却蕴含着机器学习中的一些重要的基本思想：\n",
    "\n",
    "$$\n",
    "f(x) = w_{1}x_{1} + w_{2}x_{2} + \\cdots + w_{d}x_{d} + b\n",
    "$$"
   ]
  },
  {
   "cell_type": "markdown",
   "id": "29a1dc8c",
   "metadata": {},
   "source": [
    "## 线性回归"
   ]
  },
  {
   "cell_type": "markdown",
   "id": "86899b7e",
   "metadata": {},
   "source": [
    "线性回归是使用线性模型拟合数据的一种方法。\n",
    "\n",
    "**最小二乘法**：`Least Square Method`最小方差法。原理是：当预测值和实际值距离的平方和最小时，就选定模型中的两个参数($w$和$b$)。\n",
    "\n",
    "$$\n",
    "\\min_{\\hat{b}} \\sum_{i=1}^{n}(y_{m}-y_{i})^{2}\n",
    "$$"
   ]
  },
  {
   "cell_type": "markdown",
   "id": "f70e1fab",
   "metadata": {},
   "source": [
    "### 一元线性回归"
   ]
  },
  {
   "cell_type": "markdown",
   "id": "de5a7165",
   "metadata": {},
   "source": [
    "单变量线性回归"
   ]
  },
  {
   "cell_type": "markdown",
   "id": "039ba9fa",
   "metadata": {},
   "source": [
    "### 多元线性回归"
   ]
  },
  {
   "cell_type": "markdown",
   "id": "dc174d01",
   "metadata": {},
   "source": [
    "多变量线性回归"
   ]
  },
  {
   "cell_type": "markdown",
   "id": "642c8fd3",
   "metadata": {},
   "source": [
    "### 广义线性回归"
   ]
  },
  {
   "cell_type": "markdown",
   "id": "745ebe6b",
   "metadata": {},
   "source": [
    "线性回归基础上加了一层嵌套函数。"
   ]
  },
  {
   "cell_type": "markdown",
   "id": "823acdd8",
   "metadata": {},
   "source": [
    "## 线性分类"
   ]
  },
  {
   "cell_type": "markdown",
   "id": "18fa8104",
   "metadata": {},
   "source": [
    "### 对数几率回归(逻辑回归)"
   ]
  },
  {
   "cell_type": "markdown",
   "id": "b1b85396",
   "metadata": {},
   "source": [
    "$$\n",
    "y=\\frac{1}{1+e^{-(w^{T}x + b)}}\n",
    "$$\n",
    "\n",
    "表达某种事件发生的可能性。"
   ]
  },
  {
   "cell_type": "markdown",
   "id": "be4ff919",
   "metadata": {},
   "source": [
    "最大似然估计，根据最大可能性寻找最优解。每次猜对的可能性的乘积的最大值。"
   ]
  },
  {
   "cell_type": "markdown",
   "id": "78584c03",
   "metadata": {},
   "source": [
    "### 线性判别分析(LDA)"
   ]
  },
  {
   "cell_type": "markdown",
   "id": "0d3e7850",
   "metadata": {},
   "source": [
    "### 多分类学习"
   ]
  },
  {
   "cell_type": "markdown",
   "id": "45572d14",
   "metadata": {},
   "source": [
    "## 其他"
   ]
  },
  {
   "cell_type": "markdown",
   "id": "6a7993ef",
   "metadata": {},
   "source": [
    "### 类别不平衡问题"
   ]
  },
  {
   "cell_type": "code",
   "execution_count": null,
   "id": "051fa4d7",
   "metadata": {},
   "outputs": [],
   "source": []
  }
 ],
 "metadata": {
  "kernelspec": {
   "display_name": "Python 3",
   "language": "python",
   "name": "python3"
  },
  "language_info": {
   "codemirror_mode": {
    "name": "ipython",
    "version": 3
   },
   "file_extension": ".py",
   "mimetype": "text/x-python",
   "name": "python",
   "nbconvert_exporter": "python",
   "pygments_lexer": "ipython3",
   "version": "3.8.8"
  },
  "toc": {
   "base_numbering": 1,
   "nav_menu": {},
   "number_sections": true,
   "sideBar": true,
   "skip_h1_title": false,
   "title_cell": "Table of Contents",
   "title_sidebar": "Contents",
   "toc_cell": false,
   "toc_position": {},
   "toc_section_display": true,
   "toc_window_display": true
  }
 },
 "nbformat": 4,
 "nbformat_minor": 5
}
