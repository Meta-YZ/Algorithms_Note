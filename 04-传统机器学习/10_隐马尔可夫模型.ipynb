{
 "cells": [
  {
   "cell_type": "markdown",
   "id": "3b6ba93c",
   "metadata": {},
   "source": [
    "## 隐马尔可夫的定义\n",
    "\n",
    "&emsp;&emsp;隐马尔科夫链`HMM`三个重要假设：\n",
    "\n",
    "1. 当前观测值只由当前隐藏状态确定，而与其他隐藏状态或观测值无关（隐藏状态假设）\n",
    "2. 当前隐藏状态由其前一个隐藏状态决定（一阶马尔科夫假设）\n",
    "3. 隐藏状态之间的转换函数概率不随时间变化（转换函数稳定性假设）\n",
    "\n",
    "&emsp;&emsp;隐马尔可夫假设，当前观测值只由当前隐状态所决定。这么做的一个重要好处是，隐状态值的状态远小于观测值的状态，因此隐藏状态的转换函数 的参数更少。"
   ]
  },
  {
   "cell_type": "markdown",
   "id": "264b1735",
   "metadata": {},
   "source": [
    "- **状态链**\n",
    "\n",
    "&emsp;&emsp;马尔可夫链其实是指隐含状态链。\n",
    "\n",
    "- **观测链**\n",
    "\n",
    "&emsp;&emsp;由状态链导出得到的就是观测链。\n",
    "\n",
    "- **模型参数及符号**\n",
    "\n",
    "1. 状态集合：$Q=\\{q_{1}, q_{2}, \\cdots, q_{N}\\}$。\n",
    "2. 观测集合：$V=\\{v_{1}, v_{2}, \\cdots, v_{M}\\}$。\n",
    "3. 状态序列：$I=\\{i_{1}, i_{2}, \\cdots, i_{T}\\} \\ \\ i_{t} \\in Q$。\n",
    "4. 观测序列：$O=\\{o_{1}, o_{2}, \\cdots, o_{T}\\} \\ \\ o_{t} \\in V$。\n",
    "\n",
    "\n",
    "- **状态转移矩阵**\n",
    "\n",
    "&emsp;&emsp;各个状态之间的转移概率。\n",
    "\n",
    "- **观测转移矩阵**\n",
    "\n",
    "&emsp;&emsp;不同状态能够激发出不同的观测，得到观测转移矩阵。\n",
    "\n",
    "- **初始状态概率向量**\n",
    "\n",
    "&emsp;&emsp;\n",
    "\n",
    "### 两个基本假设\n",
    "\n",
    "&emsp;&emsp;隐马尔可夫建立在两个很强的假设上面，就像朴素贝叶斯一样，建立在各个特征变量之间是独立的假设上面。\n",
    "\n",
    "1. **齐次马尔可夫性**\n",
    "\n",
    "$$\n",
    "P(i_{t}|i_{t-1},\\cdots, i_{1}) = P(i_{t}|i_{t-1})\n",
    "$$\n",
    "\n",
    "2. **观测独立假设**"
   ]
  },
  {
   "cell_type": "code",
   "execution_count": null,
   "id": "d053e7f3",
   "metadata": {},
   "outputs": [],
   "source": []
  },
  {
   "cell_type": "code",
   "execution_count": null,
   "id": "b58057ff",
   "metadata": {},
   "outputs": [],
   "source": []
  },
  {
   "cell_type": "code",
   "execution_count": null,
   "id": "af10692b",
   "metadata": {},
   "outputs": [],
   "source": []
  },
  {
   "cell_type": "markdown",
   "id": "1ead31fe",
   "metadata": {},
   "source": [
    "## 3个基本问题"
   ]
  },
  {
   "cell_type": "markdown",
   "id": "4c0c215e",
   "metadata": {},
   "source": [
    "### 概率计算\n",
    "\n",
    "&emsp;&emsp;概率计算$P(O|\\lambda)$。$\\lambda$表示模型参数，$O$表示观测序列。\n",
    "\n",
    "1. **直接计算法**\n",
    "\n",
    "&emsp;&emsp;列举所有可能的状态链$I$，然后再去计算不同的状态激发出不同的观测的概率：\n",
    "\n",
    "$$\n",
    "P(O|\\lambda) = \\sum_{I} P(O|I, \\lambda) P(I|\\lambda) = \\sum_{i_{1},i_{2},\\cdots, i_{T}}\\pi_{i_{1}}b_{i_{1}}a_{i_{1}i_{2}}b_{i_{2}}(o_{2})\\cdots a_{i_{T\\_1}i_{T}}b_{i_{T}}(o_{T})\n",
    "$$\n",
    "\n",
    "&emsp;&emsp;其中$a_{i_{T\\_1}i_{T}}$表示从状态$i_{T\\_1}$转移到$i_{T}$的概率。$b_{i_{T}}(o_{T})$表示从状态$i_{T}$激发出观测$o_{T}$的概率。计算复杂度$O(TN^{T})$。\n",
    "\n",
    "\n",
    "2. **前向计算法**\n",
    "\n",
    "\n",
    "\n",
    "3. **后向计算法**\n"
   ]
  },
  {
   "cell_type": "markdown",
   "id": "0888971c",
   "metadata": {},
   "source": [
    "\n",
    "### 学习问题\n",
    "\n",
    "&emsp;&emsp;$arg\\max P(O|\\lambda)$\n",
    "\n",
    "&emsp;&emsp;学习算法就是估计参数$\\lambda=(\\pi, A, B)$。\n",
    "\n"
   ]
  },
  {
   "cell_type": "markdown",
   "id": "27bdd8e5",
   "metadata": {},
   "source": [
    "1.  **监督学习方法**\n",
    "\n",
    "&emsp;&emsp;已知训练数据包含$S$个长度相同的观测序列和对应的状态序列$\\{(o_{1}, I_{1}), (o_{2}, I_{2}), \\cdots, (o_{S},I_{s})\\}$。\n",
    "\n",
    "(1) 转移概率$a_{ij}$的估计\n",
    "\n",
    "$$\n",
    "\\hat{a}_{ij} = \\frac{A_{ij}}{\\sum_{j=1}^{N} A_{ij}}, i=1,2,\\cdots, N; j=1,2,\\cdots, N\n",
    "$$\n",
    "\n",
    "(2) 观测概率$b_{j}(k)$的估计\n",
    "\n",
    "$$\n",
    "\\hat{b}_{j}(k) = \\frac{B_{jk}}{\\sum_{k=1}^{M} B_{jk}}, j=1,2,\\cdots, N; k=1,2,\\cdots, M\n",
    "$$\n",
    "\n",
    "(3) 初始状态概率的估计\n",
    "\n",
    "$$\n",
    "$$"
   ]
  },
  {
   "cell_type": "markdown",
   "id": "650e98e7",
   "metadata": {},
   "source": [
    "2. **Baum-Welch方法**(EM算法)\n",
    "\n",
    "输入： 观测数据$O=(O_{1}, O_{2}, \\cdots, O_{T})$。\n",
    "\n",
    "输出：隐马尔可夫模型参数。\n",
    "\n",
    "(1) 初始化：对$n=0$, 选取$a_{ij}^{o}, b_{j}(k)^{o}, \\pi_{i}^{o}$, 得到模型$\\lambda^{(0)}=(A^{(0)}, B^{(o)}, \\pi^{(o)})$\n",
    "\n",
    "(2) 递推\n",
    "\n",
    "$$\n",
    "a_{i j}^{(n+1)}=\\frac{\\sum_{t=1}^{T-1} \\xi_{t}(i, j)}{\\sum_{t=1}^{T-1} \\gamma_{t}(i)}\n",
    "$$\n",
    "\n",
    "$$\n",
    "b_{j}(k)^{(n+1)}=\\frac{\\sum_{t=1, o t=v k}^{T} \\gamma_{t}(j)}{\\sum_{t=1}^{T} \\gamma_{t}(j)}\n",
    "$$\n",
    "\n",
    "$$\n",
    "\\pi_{i}^{(n+1)}=\\gamma_{1}(i)\n",
    "$$\n",
    "\n",
    "&emsp;&emsp;其中：\n",
    "\n",
    "$$\n",
    "\\gamma_{t}(i)=\\frac{\\alpha_{t}(i) \\beta_{t}(i)}{P(O \\mid \\lambda)}=\\frac{\\alpha_{t}(i) \\beta_{t}(i)}{\\sum_{j=1}^{N} \\alpha_{t}(j) \\beta_{t}(j)}\n",
    "$$\n",
    "\n",
    "$$\n",
    "\\xi_{t}(i, j)=\\frac{\\alpha_{t}(i) a_{i j} b_{j}\\left(o_{t+1}\\right) \\beta_{t+1}(j)}{\\sum_{i=1}^{N} \\sum_{j=1}^{N} \\alpha_{t}(i) a_{i j} b_{j}\\left(o_{t+1}\\right) \\beta_{t+1}(j)}\n",
    "$$"
   ]
  },
  {
   "cell_type": "markdown",
   "id": "08c33942",
   "metadata": {},
   "source": []
  },
  {
   "cell_type": "markdown",
   "id": "0bb92d80",
   "metadata": {},
   "source": [
    "### 预测问题\n",
    "\n",
    "&emsp;&emsp;$arg\\max P(I|O)$\n",
    "\n",
    "#### 近似算法\n",
    "\n",
    "#### 维特比算法"
   ]
  }
 ],
 "metadata": {
  "kernelspec": {
   "display_name": "ACG",
   "language": "python",
   "name": "acg"
  },
  "language_info": {
   "codemirror_mode": {
    "name": "ipython",
    "version": 3
   },
   "file_extension": ".py",
   "mimetype": "text/x-python",
   "name": "python",
   "nbconvert_exporter": "python",
   "pygments_lexer": "ipython3",
   "version": "3.6.13"
  }
 },
 "nbformat": 4,
 "nbformat_minor": 5
}
