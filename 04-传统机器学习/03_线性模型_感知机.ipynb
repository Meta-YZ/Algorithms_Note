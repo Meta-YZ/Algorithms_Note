{
 "cells": [
  {
   "cell_type": "markdown",
   "id": "6837727e",
   "metadata": {},
   "source": [
    "\n",
    "\n"
   ]
  },
  {
   "cell_type": "markdown",
   "id": "cb301f1c",
   "metadata": {},
   "source": [
    "分出两类数据点可以有很多条线。那如何定义一条好的线呢？\n",
    "\n",
    "- 如果我们把所有**分错的点**和直线的**距离求和**，让这段求和的**距离最小**，这条直线就是我们要找的。"
   ]
  },
  {
   "cell_type": "markdown",
   "id": "9e11aa02",
   "metadata": {},
   "source": [
    "对于划分感知机的线我们可以描述为：\n",
    "\n",
    "1. 一条直线不分错一个点，这就是好的直线；\n",
    "2. 模型要尽可能找到好的直线；\n",
    "3. 如果没有好的直线，在差的直线中找到较好的直线；\n",
    "4. 判断直线多差的方式：分错的点到直线的距离求和。"
   ]
  },
  {
   "cell_type": "markdown",
   "id": "45a2eb32",
   "metadata": {},
   "source": [
    "感知机模型的终极目标是学习一个函数$f(x)$:\n",
    "\n",
    "$$\n",
    "f(x) = sign(w · x + b)\n",
    "$$\n",
    "\n",
    "其中: 当$x \\geq 0$的时候, $sign(x) = + 1$; 当$x \\leq 0$的时候，$sign(x) = -1$。$w · x + b$是超平面。"
   ]
  },
  {
   "cell_type": "markdown",
   "id": "2cecc959",
   "metadata": {},
   "source": [
    "## 感知机学习策略"
   ]
  },
  {
   "cell_type": "markdown",
   "id": "7e5b908d",
   "metadata": {},
   "source": [
    "正式来说$w · x + b$是一个$n$维空间的超平面$S$, 其中$w$是超平面的法向量，$b$是超平面的截距，这个超平面将特征空间划分成两部分，位于两部分的点分别被分为正负两类，所以，超平面$S$称为分离超平面。\n",
    "\n",
    "$w$是超平面的法向量，$b$是超平面的截距，特征空间也就是整个$n$维空间，样本的每个属性都叫一个特征，**特征空间**的意思是在这个空间中可以找到样本所有的属性组合。"
   ]
  },
  {
   "cell_type": "markdown",
   "id": "f6c18b22",
   "metadata": {},
   "source": [
    "### 函数间隔\n",
    "\n"
   ]
  },
  {
   "cell_type": "markdown",
   "id": "5c40f4f4",
   "metadata": {},
   "source": [
    "### 几何间隔\n",
    "\n"
   ]
  },
  {
   "cell_type": "markdown",
   "id": "53850de2",
   "metadata": {},
   "source": [
    "### 超平面的构造\n",
    "\n",
    "\n"
   ]
  },
  {
   "cell_type": "markdown",
   "id": "e9d99380",
   "metadata": {},
   "source": [
    "## 感知机的学习算法\n"
   ]
  },
  {
   "cell_type": "markdown",
   "id": "04e4c13b",
   "metadata": {},
   "source": [
    "\n",
    "### 原始形式\n"
   ]
  },
  {
   "cell_type": "markdown",
   "id": "4f6317c8",
   "metadata": {},
   "source": [
    "\n",
    "### 算法收敛性\n"
   ]
  },
  {
   "cell_type": "markdown",
   "id": "467499bb",
   "metadata": {},
   "source": [
    "\n",
    "### 对偶形式"
   ]
  },
  {
   "cell_type": "code",
   "execution_count": null,
   "id": "73631fc7",
   "metadata": {},
   "outputs": [],
   "source": []
  }
 ],
 "metadata": {
  "kernelspec": {
   "display_name": "Python 3 (ipykernel)",
   "language": "python",
   "name": "python3"
  },
  "language_info": {
   "codemirror_mode": {
    "name": "ipython",
    "version": 3
   },
   "file_extension": ".py",
   "mimetype": "text/x-python",
   "name": "python",
   "nbconvert_exporter": "python",
   "pygments_lexer": "ipython3",
   "version": "3.9.4"
  },
  "toc": {
   "base_numbering": 1,
   "nav_menu": {},
   "number_sections": true,
   "sideBar": true,
   "skip_h1_title": false,
   "title_cell": "Table of Contents",
   "title_sidebar": "Contents",
   "toc_cell": false,
   "toc_position": {},
   "toc_section_display": true,
   "toc_window_display": true
  }
 },
 "nbformat": 4,
 "nbformat_minor": 5
}
