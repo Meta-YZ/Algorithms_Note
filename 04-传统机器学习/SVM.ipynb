{
 "cells": [
  {
   "cell_type": "markdown",
   "id": "8bbd4bf6",
   "metadata": {},
   "source": [
    "## 简单支持向量机"
   ]
  },
  {
   "cell_type": "markdown",
   "id": "75565c15",
   "metadata": {},
   "source": [
    "### 带约束条件的最大间隔"
   ]
  },
  {
   "cell_type": "markdown",
   "id": "0fe99cb6",
   "metadata": {},
   "source": [
    "## SVM进化论"
   ]
  },
  {
   "cell_type": "markdown",
   "id": "288bfe1a",
   "metadata": {},
   "source": [
    "### 超平面"
   ]
  },
  {
   "cell_type": "markdown",
   "id": "be7009a3",
   "metadata": {},
   "source": [
    "### 对偶问题"
   ]
  },
  {
   "cell_type": "markdown",
   "id": "de5f589b",
   "metadata": {},
   "source": [
    "### 核函数"
   ]
  },
  {
   "cell_type": "markdown",
   "id": "a1331982",
   "metadata": {},
   "source": [
    "### 软间隔和正则化"
   ]
  },
  {
   "cell_type": "markdown",
   "id": "7b2ba308",
   "metadata": {},
   "source": [
    "## 其他"
   ]
  },
  {
   "cell_type": "markdown",
   "id": "f6fc227f",
   "metadata": {},
   "source": [
    "### 支持向量回归"
   ]
  },
  {
   "cell_type": "markdown",
   "id": "6357ba27",
   "metadata": {},
   "source": [
    "### 核方法"
   ]
  },
  {
   "cell_type": "code",
   "execution_count": null,
   "id": "0af1d90c",
   "metadata": {},
   "outputs": [],
   "source": []
  }
 ],
 "metadata": {
  "kernelspec": {
   "display_name": "Python 3 (ipykernel)",
   "language": "python",
   "name": "python3"
  },
  "language_info": {
   "codemirror_mode": {
    "name": "ipython",
    "version": 3
   },
   "file_extension": ".py",
   "mimetype": "text/x-python",
   "name": "python",
   "nbconvert_exporter": "python",
   "pygments_lexer": "ipython3",
   "version": "3.9.4"
  },
  "toc": {
   "base_numbering": 1,
   "nav_menu": {},
   "number_sections": true,
   "sideBar": true,
   "skip_h1_title": false,
   "title_cell": "Table of Contents",
   "title_sidebar": "Contents",
   "toc_cell": false,
   "toc_position": {},
   "toc_section_display": true,
   "toc_window_display": true
  }
 },
 "nbformat": 4,
 "nbformat_minor": 5
}
