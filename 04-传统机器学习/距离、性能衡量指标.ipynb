{
 "cells": [
  {
   "cell_type": "markdown",
   "id": "937e2973",
   "metadata": {},
   "source": [
    "# 机器学习中的距离衡量指标"
   ]
  },
  {
   "cell_type": "code",
   "execution_count": 1,
   "id": "ce56165a",
   "metadata": {},
   "outputs": [],
   "source": [
    "import numpy as np"
   ]
  },
  {
   "cell_type": "markdown",
   "id": "e131a47b",
   "metadata": {},
   "source": [
    "### 欧式距离\n",
    "&emsp;&emsp;欧式距离(**Euclidean Distance**)也称欧几里得距离或欧几里得度量，是一种最常用的一种度量方法，主要描述为以下数学形式：两个$n$维向量$\\alpha (x_{11}, x_{12}, \\cdots ,x_{1n})$和$\\beta(x_{21}, x_{22}, \\cdots x_{2n})$之间的欧式距离(**euclidean distance**)为其对应分量的平方和再开根号：\n",
    "\n",
    "$$\n",
    "d_{12} = \\sqrt{\\sum_{k=1}^{n}(x_{1k}-x_{2k})^{2}}\n",
    "$$\n",
    "\n",
    "&emsp;&emsp;其实说白了就是欧几里得空间中两点的“普通”直线距离。"
   ]
  },
  {
   "cell_type": "code",
   "execution_count": 2,
   "id": "ff0a8ef7",
   "metadata": {},
   "outputs": [
    {
     "name": "stdout",
     "output_type": "stream",
     "text": [
      "0.0\n"
     ]
    }
   ],
   "source": [
    "def euclidean_distance(x, y):\n",
    "    if len(x) == len(y):\n",
    "        return (np.sqrt(np.sum(np.power((x - y), 2))))\n",
    "    else:\n",
    "        print('Input should be of equal length')\n",
    "        return (None)\n",
    "x = np.asarray([1, 2, 3])\n",
    "y = np.asarray([1, 2, 3])\n",
    "print(euclidean_distance(x, y))"
   ]
  },
  {
   "cell_type": "markdown",
   "id": "f2ec8284",
   "metadata": {},
   "source": [
    "### 闵可夫斯基距离\n",
    "\n",
    "&emsp;&emsp;闵可夫斯基距离(**Minkowski Distance**)也称为**闵式距离**，定义如下：\n",
    "\n",
    "&emsp;&emsp;两个$n$维向量$\\alpha (x_{11}, x_{12}, \\cdots ,x_{1n})$和$\\beta(x_{21}, x_{22}, \\cdots x_{2n})$之间的标**闵可夫斯基距离**为：\n",
    "\n",
    "$$\n",
    "d_{12}=\\sqrt[p]{\\sum_{k=1}^{n}\\left(x_{1 k}-x_{2 k}\\right)^{p}}\n",
    "$$\n",
    "\n",
    "- 当$p=1$时，它是**曼哈顿距离**；\n",
    "- 当$p=2$时，它是**欧式距离**；\n",
    "- 当$p=\\infty$时，它是**切比雪夫距离**。\n",
    "\n",
    "&emsp;&emsp;所以闵式距离是上述三种距离的一般性表示。"
   ]
  },
  {
   "cell_type": "code",
   "execution_count": 3,
   "id": "18b30bf3",
   "metadata": {},
   "outputs": [
    {
     "name": "stdout",
     "output_type": "stream",
     "text": [
      "0.0\n"
     ]
    }
   ],
   "source": [
    "def IrNorm_distance(x, y, power):\n",
    "    if len(x) == len(y):\n",
    "        return (np.power(np.sum(np.power(np.abs(x - y), power)), (1 / (1.0 * power))))\n",
    "    else:\n",
    "        print('Input Input should be of equal length')\n",
    "        return (None)\n",
    "x = np.asarray([1, 2, 3])\n",
    "y = np.asarray([1, 2, 3])\n",
    "print(IrNorm_distance(x, y, 2))"
   ]
  },
  {
   "cell_type": "markdown",
   "id": "62ff819c",
   "metadata": {},
   "source": [
    "### 余弦距离\n",
    "\n",
    "&emsp;&emsp;向量的几何意义不只包含方向，余弦距离(**cosine distance**)是度量两个向量方向差异的一种方法。是方向性地判断，而不是大小的判断。两个方向相同的矢量的余弦相似度为1 ，两个相对于彼此成90°角的向量的相似度为0，而两个完全相反的向量的相似度为-1，而与幅度无关。\n",
    "\n",
    "&emsp;&emsp;数学表示：两个$n$维向量$\\alpha (x_{11}, x_{12}, \\cdots ,x_{1n})$和$\\beta(x_{21}, x_{22}, \\cdots x_{2n})$之间的标**夹角余弦度量**为：\n",
    "\n",
    "$$\n",
    "cos(\\theta)=\\frac{\\alpha \\cdot \\beta}{|\\alpha||\\beta|}\n",
    "$$\n",
    "\n",
    "&emsp;&emsp;即：\n",
    "\n",
    "$$\n",
    "\\cos (\\theta)=\\frac{\\sum_{k=1}^{n} x_{1 k} x_{2 k}}{\\sqrt{\\sum_{k=1}^{n} x_{1 k}^{2}} \\sqrt{\\sum_{k=1}^{n} x_{2 k}^{2}}}\n",
    "$$"
   ]
  },
  {
   "cell_type": "code",
   "execution_count": 4,
   "id": "4d992f41",
   "metadata": {},
   "outputs": [
    {
     "name": "stdout",
     "output_type": "stream",
     "text": [
      "cosine distance:\n",
      "0.7071067811865475\n"
     ]
    }
   ],
   "source": [
    "def cosine_distance(x, y):\n",
    "    if len(x) == len(y):\n",
    "        return (np.dot(x, y) / np.sqrt(np.dot(x, x) * np.dot(y, y)))\n",
    "    else:\n",
    "        print('Input Input should be of equal length')\n",
    "        return (None)\n",
    "x = [1, 0]\n",
    "y = [1, 1]\n",
    "print('cosine distance:')\n",
    "print(cosine_distance(x, y))"
   ]
  },
  {
   "cell_type": "markdown",
   "id": "18c494e8",
   "metadata": {},
   "source": [
    "## 杰卡德距离\n",
    "\n",
    "&emsp;&emsp;在了解杰卡德距离之前我们需要了解一下杰卡德相似系数(**Jaccard similarity coefficient**)：\n",
    "\n",
    "\n",
    "&emsp;&emsp;两个集合$A$和$B$的交集元素在$A$、$B$的并集中所占的比例，称为两个集合的杰卡德相似系数，用符号$J(A,B)$表示：\n",
    "\n",
    "$$\n",
    "J(A, B)=\\frac{|A \\cap B|}{|A \\cup B|}\n",
    "$$\n",
    "\n",
    "\n",
    "\n",
    "&emsp;&emsp;杰卡德距离描述的是与杰卡德相似系数相反的一个概念：用两个集合中不同元素占所有元素的比例来衡量两个集合的区分度。\n",
    "\n",
    "$$\n",
    "J_{\\delta}(A, B)=1-J(A, B)=\\frac{|A \\cup B|-|A \\cap B|}{|A \\cup B|}\n",
    "$$"
   ]
  },
  {
   "cell_type": "code",
   "execution_count": 5,
   "id": "be163dd1",
   "metadata": {},
   "outputs": [
    {
     "name": "stdout",
     "output_type": "stream",
     "text": [
      "jaccard_distance:\n",
      "0.0\n"
     ]
    }
   ],
   "source": [
    "def jaccard_distance(x, y):\n",
    "    set_x = set(x)\n",
    "    set_y = set(y)\n",
    "    return (1 - len(set_x.intersection(set_y)) / len(set_x.union(set_y)))\n",
    "x = [1, 2, 3]\n",
    "y = [1, 2, 3]\n",
    "print('jaccard_distance:')\n",
    "print(jaccard_distance(x, y))"
   ]
  },
  {
   "cell_type": "markdown",
   "id": "03286595",
   "metadata": {},
   "source": [
    "## 海明距离\n",
    "\n",
    "&emsp;&emsp;两个等长二进制串$S_{1}$和$S_{2}$，将其中一个变换为另一个所需要的**最小变换次数**。\n",
    "\n",
    "&emsp;&emsp;例如：字符串“1111”与“1001”之间的海明距离为2。"
   ]
  },
  {
   "cell_type": "code",
   "execution_count": 6,
   "id": "43c325d1",
   "metadata": {},
   "outputs": [
    {
     "name": "stdout",
     "output_type": "stream",
     "text": [
      "hamming_distance:\n",
      "1\n"
     ]
    }
   ],
   "source": [
    "def hamming_distance(x, y):\n",
    "    diff = 0\n",
    "    if len(x) == len(y):\n",
    "        for char1, char2 in zip(x, y):\n",
    "            if char1 != char2:\n",
    "                diff += 1\n",
    "        return (diff)\n",
    "    else:\n",
    "        print('Input Input should be of equal length')\n",
    "        return (None)\n",
    "x = [11001]\n",
    "y = [10110]\n",
    "print('hamming_distance:')\n",
    "print(hamming_distance(x, y))"
   ]
  },
  {
   "cell_type": "markdown",
   "id": "b9646a88",
   "metadata": {},
   "source": [
    "# 分类问题性能评估"
   ]
  },
  {
   "cell_type": "markdown",
   "id": "012a9ed3",
   "metadata": {},
   "source": [
    "- 错误率 | 精度(`accuracy`)：被错误 | 正确预测的样本数占总样本的比率\n",
    "    \n",
    "对于二分类：\n",
    "- 查准率(`precision`)：预测为正样本的样本中的准确率\n",
    "- 查全率(`recall`)：正样本的预测准确率\n",
    "- `F1 score`：\n",
    " $F_1=\\frac{2}{\\frac{1}{precision}+\\frac{1}{recall}}$\n",
    " \n",
    "为什么需要这些指标：\n",
    "- 数据不平衡，如 98% 邮件都是垃圾邮件，模型检测是否垃圾邮件？将所有邮件都归为垃圾邮件，此时精度仍有 98%\n",
    "- 例如针对儿童的视频分类器，该分类器可能误屏蔽很多好视频(`low recall`)，但是坏视频的准确率必须要很高(`high precision`)\n",
    "     \n",
    "`Precision/Recall Tradeoff`，如下图所示：十个数字，预测为 5 的概率从左至右依次增大，当判断是否为 5 的阈值改变时，对应的 `precision/recall` 相应会发生变化，`precision` 越大，`recall` 越小，反之也成立\n",
    "![](images/DecisionThreshold_PrecisionRecallTradeoff.png)\n",
    "\n",
    " \n",
    " \n",
    " \n",
    "`ROC` 曲线，纵轴是真正例率(`True Positive Rate`)，横轴是假正例率(`False Positive Rate`)"
   ]
  },
  {
   "cell_type": "code",
   "execution_count": 8,
   "id": "76050993",
   "metadata": {},
   "outputs": [],
   "source": [
    "# TP、TN、FP、FN\n",
    "def getTP(y_true, y_pred):\n",
    "    return sum((y_true == 1) & (y_pred == 1))\n",
    "\n",
    "\n",
    "def getTN(y_true, y_pred):\n",
    "    return sum((y_true == 0) & (y_pred == 0))\n",
    "\n",
    "\n",
    "def getFP(y_true, y_pred):\n",
    "    return sum((y_true == 0) & (y_pred == 1))\n",
    "\n",
    "\n",
    "def getFN(y_true, y_pred):\n",
    "    return sum((y_true == 1) & (y_pred == 0))"
   ]
  },
  {
   "cell_type": "code",
   "execution_count": 9,
   "id": "be67d1fc",
   "metadata": {},
   "outputs": [],
   "source": [
    "# confusion matrix\n",
    "def confusion_matrix(y_true, y_pred):\n",
    "    TP = getTP(y_true, y_pred)\n",
    "    TN = getTN(y_true, y_pred)\n",
    "    FP = getFP(y_true, y_pred)\n",
    "    FN = getFN(y_true, y_pred)\n",
    "    return np.array([[TN, FP], [FN, TP]])"
   ]
  },
  {
   "cell_type": "code",
   "execution_count": 10,
   "id": "2efa92de",
   "metadata": {},
   "outputs": [],
   "source": [
    "# 精度\n",
    "def accuracy(y_true, y_pred):\n",
    "    return sum(y_true == y_pred) / len(y_true)"
   ]
  },
  {
   "cell_type": "code",
   "execution_count": 11,
   "id": "810d2cc6",
   "metadata": {},
   "outputs": [],
   "source": [
    "# 查全率：所有正样本中，正确预测的比率\n",
    "def recall(y_true, y_pred):\n",
    "    TP = getTp(y_true, y_pred)\n",
    "    FN = getFN(y_true, y_pred)\n",
    "    return TP / (TP + FN)"
   ]
  },
  {
   "cell_type": "code",
   "execution_count": 12,
   "id": "5cf3209b",
   "metadata": {},
   "outputs": [],
   "source": [
    "# 查准率：预测为正的所有样本中，正样本的比率\n",
    "def precision(y_true, y_pred):\n",
    "    TP = getTP(y_true, y_pred)\n",
    "    FP = getFP(y_true, y_pred)\n",
    "    return TP / (TP + FP)"
   ]
  },
  {
   "cell_type": "code",
   "execution_count": 13,
   "id": "123a103f",
   "metadata": {},
   "outputs": [],
   "source": [
    "# f1 score：是查全率与查准率的调和平均值，其值越大越好\n",
    "def f1_score(y_true, y_pred):\n",
    "    r = recall(y_true, y_pred)\n",
    "    p = precision(y_true, y_pred)\n",
    "    return 2 * r * p / (r + p)"
   ]
  },
  {
   "cell_type": "code",
   "execution_count": 14,
   "id": "f6889572",
   "metadata": {},
   "outputs": [
    {
     "name": "stdout",
     "output_type": "stream",
     "text": [
      "精度为   : 0.7\n",
      "查准率   : 0.6666666666666666\n",
      "查全率   : 0.8\n",
      "F1 score: 0.7272727272727272\n"
     ]
    }
   ],
   "source": [
    "# sklearn API\n",
    "from sklearn.metrics import precision_score, recall_score, f1_score, accuracy_score, accuracy_score\n",
    "\n",
    "y = [0] * 5 + [1] * 5\n",
    "y_pred = [0, 0, 1, 0, 1, 1, 0, 1, 1, 1]\n",
    "\n",
    "print(\"精度为   :\", accuracy_score(y, y_pred))\n",
    "print(\"查准率   :\", precision_score(y, y_pred))\n",
    "print(\"查全率   :\", recall_score(y, y_pred))\n",
    "print(\"F1 score:\", f1_score(y, y_pred))"
   ]
  },
  {
   "cell_type": "code",
   "execution_count": 15,
   "id": "bd12ef79",
   "metadata": {},
   "outputs": [
    {
     "data": {
      "image/png": "[encoded data removed]",
      "text/plain": [
       "<Figure size 432x288 with 1 Axes>"
      ]
     },
     "metadata": {
      "needs_background": "light"
     },
     "output_type": "display_data"
    }
   ],
   "source": [
    "# ROC 曲线\n",
    "# 得到预测概率后，设定阈值，得到预测标签；\n",
    "# 改变阈值，性能指标值就会发生变化\n",
    "# 当没有设定阈值时，如何评估模型?\n",
    "import numpy as np\n",
    "from sklearn.metrics import roc_curve\n",
    "import matplotlib.pyplot as plt\n",
    "\n",
    "y_true = np.array([1, 1, 2, 2])\n",
    "y_score = np.array([0.1, 0.4, 0.35, 0.8])\n",
    "\n",
    "fpr, tpr, thresholds = roc_curve(y_true, y_score, pos_label=2)\n",
    "# 返回每个阈值对应的真阳性率、假阳性率及阈值列表\n",
    "\n",
    "\n",
    "def plot_roc_curve(fpr, tpr, label=None):\n",
    "    plt.plot(fpr, tpr, linewidth=2, label=label)\n",
    "    plt.plot([0, 1], [0, 1], 'k--')\n",
    "    plt.axis([0, 1, 0, 1])\n",
    "    plt.xlabel('False Positive Rate')\n",
    "    plt.ylabel('True Positive Rate')\n",
    "\n",
    "\n",
    "plot_roc_curve(fpr, tpr)\n",
    "plt.show()"
   ]
  },
  {
   "cell_type": "code",
   "execution_count": null,
   "id": "4d93d997",
   "metadata": {},
   "outputs": [],
   "source": []
  }
 ],
 "metadata": {
  "kernelspec": {
   "display_name": "ACG",
   "language": "python",
   "name": "acg"
  },
  "language_info": {
   "codemirror_mode": {
    "name": "ipython",
    "version": 3
   },
   "file_extension": ".py",
   "mimetype": "text/x-python",
   "name": "python",
   "nbconvert_exporter": "python",
   "pygments_lexer": "ipython3",
   "version": "3.6.13"
  }
 },
 "nbformat": 4,
 "nbformat_minor": 5
}
