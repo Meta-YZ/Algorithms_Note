{
 "cells": [
  {
   "cell_type": "markdown",
   "id": "e536184e",
   "metadata": {},
   "source": [
    "## K近邻模型"
   ]
  },
  {
   "cell_type": "markdown",
   "id": "395c69bc",
   "metadata": {},
   "source": [
    "k近邻没有显示的计算过程。"
   ]
  },
  {
   "cell_type": "markdown",
   "id": "1d8ade7b",
   "metadata": {},
   "source": [
    "## 距离度量"
   ]
  },
  {
   "cell_type": "code",
   "execution_count": 1,
   "id": "e0e73e45",
   "metadata": {},
   "outputs": [],
   "source": [
    "import numpy as np"
   ]
  },
  {
   "cell_type": "markdown",
   "id": "8bd056f3",
   "metadata": {},
   "source": [
    "### 欧式距离\n",
    "\n",
    "&emsp;&emsp;欧式距离(**Euclidean Distance**)也称欧几里得距离或欧几里得度量，是一种最常用的一种度量方法，主要描述为以下数学形式：两个$n$维向量$\\alpha (x_{11}, x_{12}, \\cdots ,x_{1n})$和$\\beta(x_{21}, x_{22}, \\cdots x_{2n})$之间的欧式距离(**euclidean distance**)为其对应分量的平方和再开根号：\n",
    "\n",
    "$$\n",
    "d_{12} = \\sqrt{\\sum_{k=1}^{n}(x_{1k}-x_{2k})^{2}}\n",
    "$$\n",
    "\n",
    "&emsp;&emsp;其实说白了就是欧几里得空间中两点的“普通”直线距离。"
   ]
  },
  {
   "cell_type": "code",
   "execution_count": 2,
   "id": "83dcb62d",
   "metadata": {},
   "outputs": [
    {
     "name": "stdout",
     "output_type": "stream",
     "text": [
      "0.0\n"
     ]
    }
   ],
   "source": [
    "def euclidean_distance(x, y):\n",
    "    if len(x) == len(y):\n",
    "        return (np.sqrt(np.sum(np.power((x - y), 2))))\n",
    "    else:\n",
    "        print('Input should be of equal length')\n",
    "        return (None)\n",
    "x = np.asarray([1, 2, 3])\n",
    "y = np.asarray([1, 2, 3])\n",
    "print(euclidean_distance(x, y))"
   ]
  },
  {
   "cell_type": "markdown",
   "id": "1863dbd6",
   "metadata": {},
   "source": [
    "### 闵可夫斯基距离\n",
    "\n",
    "&emsp;&emsp;闵可夫斯基距离(**Minkowski Distance**)也称为**闵式距离**，定义如下：\n",
    "\n",
    "&emsp;&emsp;两个$n$维向量$\\alpha (x_{11}, x_{12}, \\cdots ,x_{1n})$和$\\beta(x_{21}, x_{22}, \\cdots x_{2n})$之间的标**闵可夫斯基距离**为：\n",
    "\n",
    "$$\n",
    "d_{12}=\\sqrt[p]{\\sum_{k=1}^{n}\\left(x_{1 k}-x_{2 k}\\right)^{p}}\n",
    "$$\n",
    "\n",
    "- 当$p=1$时，它是**曼哈顿距离**；\n",
    "- 当$p=2$时，它是**欧式距离**；\n",
    "- 当$p=\\infty$时，它是**切比雪夫距离**。\n",
    "\n",
    "&emsp;&emsp;所以闵式距离是上述三种距离的一般性表示。"
   ]
  },
  {
   "cell_type": "code",
   "execution_count": 3,
   "id": "86ba95cd",
   "metadata": {},
   "outputs": [
    {
     "name": "stdout",
     "output_type": "stream",
     "text": [
      "0.0\n"
     ]
    }
   ],
   "source": [
    "def IrNorm_distance(x, y, power):\n",
    "    if len(x) == len(y):\n",
    "        return (np.power(np.sum(np.power(np.abs(x - y), power)), (1 / (1.0 * power))))\n",
    "    else:\n",
    "        print('Input Input should be of equal length')\n",
    "        return (None)\n",
    "x = np.asarray([1, 2, 3])\n",
    "y = np.asarray([1, 2, 3])\n",
    "print(IrNorm_distance(x, y, 2))"
   ]
  },
  {
   "cell_type": "markdown",
   "id": "72a24c44",
   "metadata": {},
   "source": [
    "### 余弦距离\n",
    "\n",
    "&emsp;&emsp;向量的几何意义不只包含方向，余弦距离(**cosine distance**)是度量两个向量方向差异的一种方法。是方向性地判断，而不是大小的判断。两个方向相同的矢量的余弦相似度为1 ，两个相对于彼此成90°角的向量的相似度为0，而两个完全相反的向量的相似度为-1，而与幅度无关。\n",
    "\n",
    "&emsp;&emsp;数学表示：两个$n$维向量$\\alpha (x_{11}, x_{12}, \\cdots ,x_{1n})$和$\\beta(x_{21}, x_{22}, \\cdots x_{2n})$之间的标**夹角余弦度量**为：\n",
    "\n",
    "$$\n",
    "cos(\\theta)=\\frac{\\alpha \\cdot \\beta}{|\\alpha||\\beta|}\n",
    "$$\n",
    "\n",
    "&emsp;&emsp;即：\n",
    "\n",
    "$$\n",
    "\\cos (\\theta)=\\frac{\\sum_{k=1}^{n} x_{1 k} x_{2 k}}{\\sqrt{\\sum_{k=1}^{n} x_{1 k}^{2}} \\sqrt{\\sum_{k=1}^{n} x_{2 k}^{2}}}\n",
    "$$"
   ]
  },
  {
   "cell_type": "code",
   "execution_count": 4,
   "id": "8ecf9864",
   "metadata": {},
   "outputs": [
    {
     "name": "stdout",
     "output_type": "stream",
     "text": [
      "cosine distance:\n",
      "0.7071067811865475\n"
     ]
    }
   ],
   "source": [
    "def cosine_distance(x, y):\n",
    "    if len(x) == len(y):\n",
    "        return (np.dot(x, y) / np.sqrt(np.dot(x, x) * np.dot(y, y)))\n",
    "    else:\n",
    "        print('Input Input should be of equal length')\n",
    "        return (None)\n",
    "x = [1, 0]\n",
    "y = [1, 1]\n",
    "print('cosine distance:')\n",
    "print(cosine_distance(x, y))"
   ]
  },
  {
   "cell_type": "markdown",
   "id": "db353b54",
   "metadata": {},
   "source": [
    "### 杰卡德距离\n",
    "\n",
    "&emsp;&emsp;在了解杰卡德距离之前我们需要了解一下杰卡德相似系数(**Jaccard similarity coefficient**)：\n",
    "\n",
    "\n",
    "&emsp;&emsp;两个集合$A$和$B$的交集元素在$A$、$B$的并集中所占的比例，称为两个集合的杰卡德相似系数，用符号$J(A,B)$表示：\n",
    "\n",
    "$$\n",
    "J(A, B)=\\frac{|A \\cap B|}{|A \\cup B|}\n",
    "$$\n",
    "\n",
    "\n",
    "\n",
    "&emsp;&emsp;杰卡德距离描述的是与杰卡德相似系数相反的一个概念：用两个集合中不同元素占所有元素的比例来衡量两个集合的区分度。\n",
    "\n",
    "$$\n",
    "J_{\\delta}(A, B)=1-J(A, B)=\\frac{|A \\cup B|-|A \\cap B|}{|A \\cup B|}\n",
    "$$"
   ]
  },
  {
   "cell_type": "code",
   "execution_count": 5,
   "id": "5e6975d9",
   "metadata": {},
   "outputs": [
    {
     "name": "stdout",
     "output_type": "stream",
     "text": [
      "jaccard_distance:\n",
      "0.0\n"
     ]
    }
   ],
   "source": [
    "def jaccard_distance(x, y):\n",
    "    set_x = set(x)\n",
    "    set_y = set(y)\n",
    "    return (1 - len(set_x.intersection(set_y)) / len(set_x.union(set_y)))\n",
    "x = [1, 2, 3]\n",
    "y = [1, 2, 3]\n",
    "print('jaccard_distance:')\n",
    "print(jaccard_distance(x, y))"
   ]
  },
  {
   "cell_type": "markdown",
   "id": "5e126c7d",
   "metadata": {},
   "source": [
    "### 海明距离\n",
    "\n",
    "&emsp;&emsp;两个等长二进制串$S_{1}$和$S_{2}$，将其中一个变换为另一个所需要的**最小变换次数**。\n",
    "\n",
    "&emsp;&emsp;例如：字符串“1111”与“1001”之间的海明距离为2。"
   ]
  },
  {
   "cell_type": "code",
   "execution_count": 6,
   "id": "04ce2fb9",
   "metadata": {},
   "outputs": [
    {
     "name": "stdout",
     "output_type": "stream",
     "text": [
      "hamming_distance:\n",
      "1\n"
     ]
    }
   ],
   "source": [
    "def hamming_distance(x, y):\n",
    "    diff = 0\n",
    "    if len(x) == len(y):\n",
    "        for char1, char2 in zip(x, y):\n",
    "            if char1 != char2:\n",
    "                diff += 1\n",
    "        return (diff)\n",
    "    else:\n",
    "        print('Input Input should be of equal length')\n",
    "        return (None)\n",
    "x = [11001]\n",
    "y = [10110]\n",
    "print('hamming_distance:')\n",
    "print(hamming_distance(x, y))"
   ]
  },
  {
   "cell_type": "markdown",
   "id": "698d1baa",
   "metadata": {},
   "source": [
    "## K值的选择\n",
    "\n",
    "&emsp;&emsp;用较小的领域进行预测。预测结果对邻近的实力点非常敏感。如果邻近的实例点恰好是噪声，预测就会出错。\n",
    "\n",
    "&emsp;&emsp;用较大的领域进行预测，对于输入实例较远的(已经不太相似)的样本点也会对预测起作用，使预测发生错误。"
   ]
  },
  {
   "cell_type": "markdown",
   "id": "35111a7e",
   "metadata": {},
   "source": [
    "## 分类决策规则：多数表决"
   ]
  },
  {
   "cell_type": "markdown",
   "id": "00975d90",
   "metadata": {},
   "source": [
    "&emsp;&emsp;损失函数可以表示为：\n",
    "\n",
    "$$\n",
    "\\frac{1}{k} \\sum_{x_{i} \\in N_{k}(x)} I(y_{i} \\neq c_{j})\n",
    "$$\n",
    "\n",
    "&emsp;&emsp;其中$I$为指数函数。"
   ]
  },
  {
   "cell_type": "markdown",
   "id": "26799187",
   "metadata": {},
   "source": [
    "## K近邻算法"
   ]
  },
  {
   "cell_type": "markdown",
   "id": "c5385a79",
   "metadata": {},
   "source": [
    "输入：训练数据集$T=[(x_{1}, y_{1}), \\cdots, (x_{N}, y_{N})]$, $x_{i} \\in X \\subseteq R^{n}$, $y_{i} \\in Y = {c_{i}, \\cdots, c_{K}}$，实例特征向量$x_{0}$。\n",
    "\n",
    "1. 根据给定的距离度量，在训练集中找到与$x$最近的$k$个点，涵盖这$k$个点的领域记作$N_{k}(x)$。\n",
    "2. 在$N_{k}(x)$中根据分类决策规则(如多数表决)决定$x$的类别$y$。输出：实例$x$所属的类别$y$。"
   ]
  },
  {
   "cell_type": "code",
   "execution_count": null,
   "id": "0bf10c49",
   "metadata": {},
   "outputs": [],
   "source": []
  }
 ],
 "metadata": {
  "kernelspec": {
   "display_name": "ACG",
   "language": "python",
   "name": "acg"
  },
  "language_info": {
   "codemirror_mode": {
    "name": "ipython",
    "version": 3
   },
   "file_extension": ".py",
   "mimetype": "text/x-python",
   "name": "python",
   "nbconvert_exporter": "python",
   "pygments_lexer": "ipython3",
   "version": "3.6.13"
  }
 },
 "nbformat": 4,
 "nbformat_minor": 5
}
