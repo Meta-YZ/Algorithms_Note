{
 "cells": [
  {
   "cell_type": "markdown",
   "id": "10a8ccdf",
   "metadata": {},
   "source": [
    "## 1. 模型结构"
   ]
  },
  {
   "cell_type": "markdown",
   "id": "12f8582f",
   "metadata": {},
   "source": [
    "资料来源：[https://github.com/zhulei227/ML_Notes](https://github.com/zhulei227/ML_Notes), 增加了一些自己不会的补充知识点。"
   ]
  },
  {
   "cell_type": "markdown",
   "id": "fba4f8aa",
   "metadata": {},
   "source": [
    "线性回归模型的模型结构一般可以表示为如下形式：\n",
    "\n",
    "$$\n",
    "f(x)=w^T x + b\n",
    "$$  \n",
    "\n",
    "为了便于讨论，我们把$w$和$b$组合称为一个向量的形式$\\hat{w}=(w;b)$。假设每个样本都有$d$个属性值，样本集可表示为一个$[m, (d+1)]$大小的矩阵$X$，最后这个元素恒为$1$，是方便与参数$\\hat{w}$中的$b$相乘，形成偏置项。$w$和$b$组合称为一个向量的形式$\\hat{w}=(w;b)$， $\\hat{w}=(w;b)$矩阵的大小为$[1, (d+1)]$。，那么每一行都对应一个样本。样本输入的数学表达形式可表示为如下形式：\n",
    "\n",
    "$$\n",
    "X=\\left(\\begin{array}{cccc}\n",
    "{x_{11}} & {x_{12}} & {\\cdots} & {x_{1d}} & {1}\\\\\n",
    "{x_{21}} & {x_{22}} & {\\cdots} & {x_{2d}} & {1}\\\\\n",
    "{\\vdots} & {\\vdots} & {\\ddots} & {\\vdots} & {\\vdots} \\\\\n",
    "{x_{m1}} & {x_{m2}} & {\\cdots} & {x_{md}}& {1}\n",
    "\\end{array}\\right)=\n",
    "\\left(\\begin{array}{cccc}\n",
    "{x_{1}^{T}} & {1}  \\\\\n",
    "{x_{2}^{T}} & {1}  \\\\\n",
    "{\\vdots} & {\\vdots}  \\\\\n",
    "{x_{m}^{T}} & {1} \n",
    "\\end{array}\\right)\n",
    "$$\n",
    "\n",
    "最终表示为：\n",
    "\n",
    "$$\n",
    "f(x)=\\hat{w}^T  X\n",
    "$$  \n",
    "这里$X=[x^T,1]^T$，$X\\in R^d$，所以$\\hat{w} \\in R^{d+1}$，$\\hat{w}$即是模型需要学习的参数。"
   ]
  },
  {
   "cell_type": "markdown",
   "id": "53162435",
   "metadata": {},
   "source": [
    "## 2 构造数据\n",
    "\n",
    "利用构造一些$y=3x+2$的伪数据，并给$x$添加了一些噪声数据。下面造一些伪数据进行演示："
   ]
  },
  {
   "cell_type": "code",
   "execution_count": 1,
   "id": "d87bae9d",
   "metadata": {},
   "outputs": [],
   "source": [
    "import numpy as np\n",
    "def generate_data():\n",
    "    x = np.linspace(0, 100, 100)  # 从0到100，生成100个点。 shape = (100,)\n",
    "    x_ = np.c_[x, np.ones(100)]  # 添加一列b。 shape = (100, 2)\n",
    "    w = np.asarray([[3], [2]])  # shape = (2, 1)\n",
    "    y = x_.dot(w)  # shape = (100, 2)\n",
    "    x_[:, 0] += np.random.normal(size=x_[:, 0].shape) * 3  # 在X 轴方向加上扰动\n",
    "    return x_, y"
   ]
  },
  {
   "cell_type": "markdown",
   "id": "92564509",
   "metadata": {},
   "source": [
    "这里需要注意的是np.dot()函数：\n",
    "\n",
    "1. 如果处理的是一维数组，np.dot()返回的是两个数组的点积(dot product)；\n",
    "\n",
    "```python\n",
    "x1 = np.arange(0, 9)  # [0 1 2 3 4 5 6 7 8]\n",
    "x2 = x1[::-1]  # [8 7 6 5 4 3 2 1 0]\n",
    "y1 = np.dot(x1, x2)  #  84\n",
    "```\n",
    "\n",
    "2. 如果是二维数组（矩阵）之间的运算，则得到的是矩阵积（mastrix product）；\n",
    "\n",
    "```python\n",
    "a = np.arange(1, 5).reshape(2, 2)  # [[1 2], [3 4]]\n",
    "b = np.arange(5, 9).reshape(2, 2)  # [[5 6], [7 8]]\n",
    "c = np.dot(a, b)  #  [[19 22], [43 50]]\n",
    "```"
   ]
  },
  {
   "cell_type": "code",
   "execution_count": 2,
   "id": "b67935e4",
   "metadata": {},
   "outputs": [],
   "source": [
    "X, Y = generate_data()"
   ]
  },
  {
   "cell_type": "code",
   "execution_count": 3,
   "id": "01041d2b",
   "metadata": {},
   "outputs": [
    {
     "data": {
      "text/plain": [
       "Text(0, 0.5, 'Y')"
      ]
     },
     "execution_count": 3,
     "metadata": {},
     "output_type": "execute_result"
    },
    {
     "data": {
      "image/png": "[encoded data removed]",
      "text/plain": [
       "<Figure size 432x288 with 1 Axes>"
      ]
     },
     "metadata": {
      "needs_background": "light"
     },
     "output_type": "display_data"
    }
   ],
   "source": [
    "import matplotlib.pyplot as plt\n",
    "%matplotlib inline\n",
    "plt.scatter(X[:, 0], Y)\n",
    "plt.plot(np.arange(0,100).reshape((100,1)),Y,'r')\n",
    "plt.xlabel(\"X\")\n",
    "plt.ylabel(\"Y\")"
   ]
  },
  {
   "cell_type": "markdown",
   "id": "3fb3965a",
   "metadata": {},
   "source": [
    "## 3. 损失函数\n",
    "利用等式$y=3x+2$造了一些伪数据，并给$x$添加了一些噪声数据，期望在给定数据$x,y$的情况下，求解出最优解：$w=[3,2]^T$。可以通过MSE（均方误差）来衡量$f(x)$与$y$的相近程度：  \n",
    "\n",
    "$$\n",
    "L(w)=\\sum_{i=1}^m(y_i-f(x_i))^2=\\sum_{i=1}^m(y_i-w^TX_i)^2=(Y-Xw)^T(Y-Xw)\n",
    "$$  \n",
    "\n",
    "这里$m$表示样本量，本例中$m=100$，$x_i,y_i$表示第$i$个样本，$X\\in R^{m \\times (n+1)},Y\\in R^{m\\times 1}$，损失函数$L(w)$本质上是关于$w$的函数，通过求解最小的$L(w)$即可得到$w$的最优解：\n",
    "\n",
    "$$\n",
    "\\hat{w}^*=arg \\min_{w}L(w)\n",
    "$$\n",
    "\n",
    "而对$\\min L(w)$的求解很明显是一个凸问题（海瑟矩阵$X^{T}X$正定），我们可以直接通过求解$\\frac{dL}{dw}=0$得到$\\hat{w}^*$，梯度推导如下：  \n",
    "$$\n",
    "\\frac{dL}{dw}=-2\\sum_{i=1}^m(y_i-w^TX_i)X_i=-2{X}^T(Y-Xw)\\\\\n",
    "$$ \n",
    "\n",
    "### 3.1：梯度下降求解\n",
    "\n",
    "通过随机梯度下降法（SGD）对$w$进行更新，首先随机初始化$w$，然后使用如下的迭代公式对$w$进行迭代更新：  \n",
    "$$\n",
    "w:=w-\\eta\\frac{dL}{dw}\n",
    "$$  \n",
    "\n",
    "模型训练：目前我们推导出了$w$的更新公式，接下来编码训练过程："
   ]
  },
  {
   "cell_type": "code",
   "execution_count": 4,
   "id": "074c9fd8",
   "metadata": {},
   "outputs": [
    {
     "data": {
      "text/plain": [
       "array([[3.00952807],\n",
       "       [0.21829952]])"
      ]
     },
     "execution_count": 4,
     "metadata": {},
     "output_type": "execute_result"
    }
   ],
   "source": [
    "loss_list = []\n",
    "W = np.random.random(size=(X.shape[-1], 1))  # 生成随机参数\n",
    "eta = 0.0000001\n",
    "for i in range(100):\n",
    "    dw = -2 * X.T.dot((Y - X.dot(W)))\n",
    "    W = W - eta * dw\n",
    "    loss = (Y - X.dot(W)).T.dot(Y - X.dot(W)).reshape(-1)\n",
    "    # print(loss)\n",
    "    loss_list.append(loss[0])\n",
    "W"
   ]
  },
  {
   "cell_type": "code",
   "execution_count": 5,
   "id": "d026688e",
   "metadata": {},
   "outputs": [
    {
     "data": {
      "text/plain": [
       "Text(0, 0.5, 'loss')"
      ]
     },
     "execution_count": 5,
     "metadata": {},
     "output_type": "execute_result"
    },
    {
     "data": {
      "image/png": "[encoded data removed]",
      "text/plain": [
       "<Figure size 1080x360 with 2 Axes>"
      ]
     },
     "metadata": {
      "needs_background": "light"
     },
     "output_type": "display_data"
    }
   ],
   "source": [
    "# 可视化\n",
    "plt.figure(figsize=(15, 5))\n",
    "plt.subplot(121)\n",
    "plt.scatter(X[:, 0], Y)\n",
    "plt.plot(X[:, 0], X.dot(W), 'r')\n",
    "plt.xlabel(\"X\")\n",
    "plt.ylabel(\"Y\")\n",
    "plt.subplot(122)\n",
    "plt.plot(list(range(0, len(loss_list))), loss_list)\n",
    "plt.xlabel(\"epoch\")\n",
    "plt.ylabel(\"loss\")"
   ]
  },
  {
   "cell_type": "markdown",
   "id": "03e8f0dc",
   "metadata": {},
   "source": [
    "### 3.2：直接求闭式解\n",
    "\n",
    "而对$\\min L(w)$的求解很明显是一个凸问题（海瑟矩阵$X^TX$正定），我们可以直接通过求解$\\frac{dL}{dw}=0$得到$\\hat{w}^*$，梯度推导如下：  \n",
    "$$\n",
    "\\frac{dL}{dw}=-2\\sum_{i=1}^m(y_i-w^TX_i)X_i=-2{X}^T(Y-Xw)\\\\\n",
    "$$  \n",
    "\n",
    "令$\\frac{dL}{dw}=0$，可得：$\\hat{w}^*=({X}^TX)^{-1}{X}^TY$，实际情景中数据不一定能满足${X}^TX$是满秩（比如$m<n$的情况下，$w$的解有无数种），所以没法直接求逆，我们可以考虑用如下的方式求解：\n",
    "\n",
    "$$\n",
    "{X}^+=\\lim_{\\alpha\\rightarrow0}({X}^TX^*+\\alpha I)^{-1}{X}^T\n",
    "$$  \n",
    "\n",
    "上面的公式即是Moore-Penrose伪逆的定义，但实际求解更多是通过SVD的方式：  \n",
    "\n",
    "$$\n",
    "{X}^+=VD^+U^T\n",
    "$$  \n",
    "\n",
    "其中，$U,D,V$是矩阵$X$做奇异值分解（SVD）后得到的矩阵，对角矩阵$D$的伪逆$D^+$由其非零元素取倒数之后再转置得到，通过伪逆求解到的结果有如下优点：  \n",
    "\n",
    "（1）当$w$有解时，$\\hat{w}^*={X}^+Y$是所有解中欧几里得距离$||w||_2$最小的一个；    \n",
    "\n",
    "（2）当$w$无解时，通过伪逆得到的$\\hat{w}^*$是使得$X\\hat{w}^*$与$Y$的欧几里得距离$||X\\hat{w}^*-Y||_2$最小  "
   ]
  },
  {
   "cell_type": "markdown",
   "id": "fa6a99c7",
   "metadata": {},
   "source": [
    "所以我们需要直接对：$\\hat{w}^*=({X}^TX)^{-1}{X}^TY$进行求解，又因为$({X}^TX)^{-1}{X}^T X = I$，所以$({X}^TX)^{-1}{X}^T$可以表示为$X$的伪逆，直接调用np.linalg.pinv(X)就可以将伪逆求解出来："
   ]
  },
  {
   "cell_type": "code",
   "execution_count": 6,
   "id": "a531e505",
   "metadata": {},
   "outputs": [
    {
     "data": {
      "text/plain": [
       "array([[2.97451932],\n",
       "       [2.71371493]])"
      ]
     },
     "execution_count": 6,
     "metadata": {},
     "output_type": "execute_result"
    }
   ],
   "source": [
    "W_dir = np.linalg.pinv(X).dot(Y)\n",
    "W_dir"
   ]
  },
  {
   "cell_type": "markdown",
   "id": "05f665f9",
   "metadata": {},
   "source": [
    "## 4. 问题讨论\n",
    "在上面的梯度下降的例子中存在一个问题，$w_1$基本能收敛到3附近，而$w_2$却基本在0附近，很难收敛到2，说明$w_1$比$w_2$更容易收敛($w=[w_1,w_2]^T$)，这很容易理解，模型可以写作：$f(x)=x*w_1+1\\cdot w_2$，如果$x$量纲比1大很多，为了使$f(x)$变化，只需更新少量的$w_1$就能达到目的，而$w_2$的更新动力略显不足；可以考虑用如下方式：  \n",
    "\n",
    "（1）对输入$X$进行归一化，使得$x$无量纲，$w_1,w_2$的更新动力一样（后面封装代码时添加上）。\n",
    "\n",
    "（2）梯度更新时，$w_1,w_2$使用了一样的学习率，可以让$w_1,w_2$使用不一样的学习率进行更新，比如对$w_2$使用更大的学习率进行更新（可以利用学习率自适应一类的梯度下降法，比如adam）。\n"
   ]
  },
  {
   "cell_type": "markdown",
   "id": "22062db8",
   "metadata": {},
   "source": [
    "## 5. 封装与测试\n",
    "接下来简单封装线性回归模型，并放到ml_models.linear_model模块便于后续使用；"
   ]
  },
  {
   "cell_type": "code",
   "execution_count": 7,
   "id": "8321ec95",
   "metadata": {},
   "outputs": [],
   "source": [
    "class LinearRegression(object):\n",
    "    def __init__(self, fit_intercept=True, solver='sgd', if_standard=True, epochs=10, eta=1e-2, batch_size=1):\n",
    "        \"\"\"\n",
    "        :param fit_intercept: 是否训练bias\n",
    "        :param solver:\n",
    "        :param if_standard:\n",
    "        \"\"\"\n",
    "        self.w = None\n",
    "        self.fit_intercept = fit_intercept\n",
    "        self.solver = solver\n",
    "        self.if_standard = if_standard\n",
    "        if if_standard:\n",
    "            self.feature_mean = None\n",
    "            self.feature_std = None\n",
    "        self.epochs = epochs\n",
    "        self.eta = eta\n",
    "        self.batch_size = batch_size\n",
    "\n",
    "    def init_params(self, n_features):\n",
    "        \"\"\"\n",
    "        初始化参数\n",
    "        :return:\n",
    "        \"\"\"\n",
    "        self.w = np.random.random(size=(n_features, 1))\n",
    "\n",
    "    def _fit_closed_form_solution(self, x, y):\n",
    "        \"\"\"\n",
    "        直接求闭式解\n",
    "        :param x:\n",
    "        :param y:\n",
    "        :return:\n",
    "        \"\"\"\n",
    "        self.w = np.linalg.pinv(x).dot(y)\n",
    "\n",
    "    def _fit_sgd(self, x, y):\n",
    "        \"\"\"\n",
    "        随机梯度下降求解\n",
    "        :param x:\n",
    "        :param y:\n",
    "        :param epochs:\n",
    "        :param eta:\n",
    "        :param batch_size:\n",
    "        :return:\n",
    "        \"\"\"\n",
    "        x_y = np.c_[x, y]\n",
    "        # 按batch_size更新w,b\n",
    "        for _ in range(self.epochs):\n",
    "            np.random.shuffle(x_y)\n",
    "            for index in range(x_y.shape[0] // self.batch_size):\n",
    "                batch_x_y = x_y[self.batch_size * index:self.batch_size * (index + 1)]\n",
    "                batch_x = batch_x_y[:, :-1]\n",
    "                batch_y = batch_x_y[:, -1:]\n",
    "\n",
    "                dw = -2 * batch_x.T.dot(batch_y - batch_x.dot(self.w)) / self.batch_size\n",
    "                self.w = self.w - self.eta * dw\n",
    "\n",
    "    def fit(self, x, y):\n",
    "        # 是否归一化feature\n",
    "        if self.if_standard:\n",
    "            self.feature_mean = np.mean(x, axis=0)\n",
    "            self.feature_std = np.std(x, axis=0) + 1e-8\n",
    "            x = (x - self.feature_mean) / self.feature_std\n",
    "        # 是否训练bias\n",
    "        if self.fit_intercept:\n",
    "            x = np.c_[x, np.ones_like(y)]\n",
    "        # 初始化参数\n",
    "        self.init_params(x.shape[1])\n",
    "        # 训练模型\n",
    "        if self.solver == 'closed_form':\n",
    "            self._fit_closed_form_solution(x, y)\n",
    "        elif self.solver == 'sgd':\n",
    "            self._fit_sgd(x, y)\n",
    "\n",
    "    def get_params(self):\n",
    "        \"\"\"\n",
    "        输出原始的系数\n",
    "        :return: w,b\n",
    "        \"\"\"\n",
    "        if self.fit_intercept:\n",
    "            w = self.w[:-1]\n",
    "            b = self.w[-1]\n",
    "        else:\n",
    "            w = self.w\n",
    "            b = 0\n",
    "        if self.if_standard:\n",
    "            w = w / self.feature_std.reshape(-1, 1)\n",
    "            b = b - w.T.dot(self.feature_mean.reshape(-1, 1))\n",
    "        return w.reshape(-1), b\n",
    "\n",
    "    def predict(self, x):\n",
    "        \"\"\"\n",
    "        :param x:ndarray格式数据: m x n\n",
    "        :return: m x 1\n",
    "        \"\"\"\n",
    "        if self.if_standard:\n",
    "            x = (x - self.feature_mean) / self.feature_std\n",
    "        if self.fit_intercept:\n",
    "            x = np.c_[x, np.ones(shape=x.shape[0])]\n",
    "        return x.dot(self.w)\n",
    "\n",
    "    def plot_fit_boundary(self, x, y):\n",
    "        \"\"\"\n",
    "        绘制拟合结果\n",
    "        :param x:\n",
    "        :param y:\n",
    "        :return:\n",
    "        \"\"\"\n",
    "        plt.scatter(x[:, 0], y)\n",
    "        plt.plot(x[:, 0], self.predict(x), 'r')"
   ]
  },
  {
   "cell_type": "code",
   "execution_count": 8,
   "id": "ce67bd7d",
   "metadata": {},
   "outputs": [
    {
     "name": "stdout",
     "output_type": "stream",
     "text": [
      "w (array([2.96866129]), array([[3.3524711]]))\n"
     ]
    },
    {
     "data": {
      "text/plain": [
       "7.72973895496137"
      ]
     },
     "execution_count": 8,
     "metadata": {},
     "output_type": "execute_result"
    }
   ],
   "source": [
    "#测试\n",
    "lr=LinearRegression(solver='sgd')\n",
    "lr.fit(X[:,:-1],Y)\n",
    "predict=lr.predict(X[:,:-1])\n",
    "#查看w\n",
    "print('w',lr.get_params())\n",
    "#查看标准差\n",
    "np.std(Y-predict)"
   ]
  },
  {
   "cell_type": "code",
   "execution_count": null,
   "id": "dcc7c65c",
   "metadata": {},
   "outputs": [],
   "source": []
  },
  {
   "cell_type": "code",
   "execution_count": 9,
   "id": "513fa49f",
   "metadata": {},
   "outputs": [
    {
     "data": {
      "image/png": "[encoded data removed]",
      "text/plain": [
       "<Figure size 432x288 with 1 Axes>"
      ]
     },
     "metadata": {
      "needs_background": "light"
     },
     "output_type": "display_data"
    }
   ],
   "source": [
    "#可视化结果\n",
    "lr.plot_fit_boundary(X[:,:-1],Y)"
   ]
  },
  {
   "cell_type": "code",
   "execution_count": 10,
   "id": "479ee365",
   "metadata": {},
   "outputs": [
    {
     "name": "stdout",
     "output_type": "stream",
     "text": [
      "w (array([2.97451932]), array([[2.71371493]]))\n"
     ]
    },
    {
     "data": {
      "text/plain": [
       "7.727834050933073"
      ]
     },
     "execution_count": 10,
     "metadata": {},
     "output_type": "execute_result"
    }
   ],
   "source": [
    "#测试\n",
    "lr=LinearRegression(solver='closed_form')\n",
    "lr.fit(X[:,:-1],Y)\n",
    "predict=lr.predict(X[:,:-1])\n",
    "#查看w\n",
    "print('w',lr.get_params())\n",
    "#查看标准差\n",
    "np.std(Y-predict)"
   ]
  },
  {
   "cell_type": "code",
   "execution_count": 11,
   "id": "dee573c0",
   "metadata": {},
   "outputs": [
    {
     "data": {
      "image/png": "[encoded data removed]",
      "text/plain": [
       "<Figure size 432x288 with 1 Axes>"
      ]
     },
     "metadata": {
      "needs_background": "light"
     },
     "output_type": "display_data"
    }
   ],
   "source": [
    "#可视化结果\n",
    "lr.plot_fit_boundary(X[:,:-1],Y)"
   ]
  },
  {
   "cell_type": "markdown",
   "id": "e23dd9af",
   "metadata": {},
   "source": [
    "## 6. 过拟合"
   ]
  },
  {
   "cell_type": "markdown",
   "id": "b3dd1e7f",
   "metadata": {},
   "source": [
    "建模的目的是让模型学习到数据的一般性规律，但有时候可能会学过头，学到一些噪声数据的特性，虽然模型可以在训练集上取得好的表现，但在测试集上结果往往会变差，这时称模型陷入了过拟合，之前的效果看起来还可以，但如果加入几个异常点，再看看效果呢"
   ]
  },
  {
   "cell_type": "code",
   "execution_count": 12,
   "id": "4b15766f",
   "metadata": {},
   "outputs": [
    {
     "data": {
      "image/png": "[encoded data removed]",
      "text/plain": [
       "<Figure size 432x288 with 1 Axes>"
      ]
     },
     "metadata": {
      "needs_background": "light"
     },
     "output_type": "display_data"
    }
   ],
   "source": [
    "X=np.concatenate([X,np.asanyarray([[100,1],[101,1],[102,1],[103,1],[104,1]])])\n",
    "Y=np.concatenate([Y,np.asanyarray([[3000],[3300],[3600],[3800],[3900]])])\n",
    "lr=LinearRegression()\n",
    "lr.fit(X[:,:-1],Y)\n",
    "lr.plot_fit_boundary(X[:,:-1],Y)"
   ]
  },
  {
   "cell_type": "markdown",
   "id": "66d10e71",
   "metadata": {},
   "source": [
    "## 7.正则化\n",
    "\n",
    "可以看到，仅仅加入了几个很离谱的异常点，就会对预测产生很大的影响，且偏离很远，这在实际情况中是很常见的；通常可以通过对模型参数添加正则化约束来避免这种情况，使其不会太“飘”，做法是在loss函数中为权重$w$添加$L_1$或者$L_2$约束，借用上一节的公式推导，直接推出loss部分：  \n",
    "\n",
    "1.线性回归中添加$L_1$约束称为Lasso回归，其损失函数如下：  \n",
    "$$\n",
    "L(w)=\\sum_{i=1}^m(y_i-f(x_i))^2+\\lambda||w||_1\n",
    "$$  \n",
    "2.线性回归中添加$L_2$约束称为Ridge回归，其损失函数如下：  \n",
    "$$\n",
    "L(w)=\\sum_{i=1}^m(y_i-f(x_i))^2+\\alpha||w||_2\n",
    "$$ \n",
    "3.如果不太确定用$L_1$好，还是$L_2$好，可以用它们的组合，称作ElasticNet，损失函数如下：  \n",
    "$$\n",
    "L(w)=\\sum_{i=1}^m(y_i-f(x_i))^2+\\lambda||w||_1+\\alpha||w||_2\n",
    "$$ \n",
    "可以发现通过调整超参，可以控制$w$的大小，如果$\\lambda$或$\\alpha$设置很大，$w$会被约束的很小，而如果$\\alpha$或$\\lambda$设置为0，等价于原始的不带正则项的线性回归；通常可以通过交叉验证，根据验证集上的表现来设置一个合适的超参；接下来在上一节线性回归代码的基础上实现Lasso,Ridge,ElasticNet模型，另外设置两个参数`l1_ratio`以及`l2_ratio`，分别用来控制$L_1$和$L_2$的loss部分的权重\n"
   ]
  },
  {
   "cell_type": "markdown",
   "id": "e054ac48",
   "metadata": {},
   "source": [
    "## 8.代码实现"
   ]
  },
  {
   "cell_type": "code",
   "execution_count": 13,
   "id": "4eae90af",
   "metadata": {},
   "outputs": [],
   "source": [
    "def sign(x):\n",
    "    \"\"\"\n",
    "    符号函数\n",
    "    :param x:\n",
    "    :return:\n",
    "    \"\"\"\n",
    "    if x > 0:\n",
    "        return 1\n",
    "    elif x < 0:\n",
    "        return -1\n",
    "    else:\n",
    "        return 0\n",
    "\n",
    "class LinearRegression(object):\n",
    "    def __init__(self, fit_intercept=True, solver='sgd', if_standard=True, epochs=10, eta=1e-2, batch_size=1,\n",
    "                 l1_ratio=None, l2_ratio=None):\n",
    "        \"\"\"\n",
    "        :param fit_intercept: 是否训练bias\n",
    "        :param solver:\n",
    "        :param if_standard:\n",
    "        \"\"\"\n",
    "        self.w = None\n",
    "        self.fit_intercept = fit_intercept\n",
    "        self.solver = solver\n",
    "        self.if_standard = if_standard\n",
    "        if if_standard:\n",
    "            self.feature_mean = None\n",
    "            self.feature_std = None\n",
    "        self.epochs = epochs\n",
    "        self.eta = eta\n",
    "        self.batch_size = batch_size\n",
    "        self.l1_ratio = l1_ratio\n",
    "        self.l2_ratio = l2_ratio\n",
    "        # 注册sign函数\n",
    "        self.sign_func = np.vectorize(sign)\n",
    "\n",
    "    def init_params(self, n_features):\n",
    "        \"\"\"\n",
    "        初始化参数\n",
    "        :return:\n",
    "        \"\"\"\n",
    "        self.w = np.random.random(size=(n_features, 1))\n",
    "\n",
    "    def _fit_closed_form_solution(self, x, y):\n",
    "        \"\"\"\n",
    "        直接求闭式解\n",
    "        :param x:\n",
    "        :param y:\n",
    "        :return:\n",
    "        \"\"\"\n",
    "        if self.l1_ratio is None and self.l2_ratio is None:\n",
    "            self.w = np.linalg.pinv(x).dot(y)\n",
    "        elif self.l1_ratio is None and self.l2_ratio is not None:\n",
    "            self.w = np.linalg.inv(x.T.dot(x) + self.l2_ratio * np.eye(x.shape[1])).dot(x.T).dot(y)\n",
    "        else:\n",
    "            self._fit_sgd(x, y)\n",
    "\n",
    "    def _fit_sgd(self, x, y):\n",
    "        \"\"\"\n",
    "        随机梯度下降求解\n",
    "        :param x:\n",
    "        :param y:\n",
    "        :param epochs:\n",
    "        :param eta:\n",
    "        :param batch_size:\n",
    "        :return:\n",
    "        \"\"\"\n",
    "        x_y = np.c_[x, y]\n",
    "        # 按batch_size更新w,b\n",
    "        for _ in range(self.epochs):\n",
    "            np.random.shuffle(x_y)\n",
    "            for index in range(x_y.shape[0] // self.batch_size):\n",
    "                batch_x_y = x_y[self.batch_size * index:self.batch_size * (index + 1)]\n",
    "                batch_x = batch_x_y[:, :-1]\n",
    "                batch_y = batch_x_y[:, -1:]\n",
    "\n",
    "                dw = -2 * batch_x.T.dot(batch_y - batch_x.dot(self.w)) / self.batch_size\n",
    "\n",
    "                # 添加l1和l2的部分\n",
    "                dw_reg = np.zeros(shape=(x.shape[1] - 1, 1))\n",
    "                if self.l1_ratio is not None:\n",
    "                    dw_reg += self.l1_ratio * self.sign_func(self.w[:-1]) / self.batch_size\n",
    "                if self.l2_ratio is not None:\n",
    "                    dw_reg += 2 * self.l2_ratio * self.w[:-1] / self.batch_size\n",
    "                dw_reg = np.concatenate([dw_reg, np.asarray([[0]])], axis=0)\n",
    "                dw += dw_reg\n",
    "                self.w = self.w - self.eta * dw\n",
    "\n",
    "    def fit(self, x, y):\n",
    "        # 是否归一化feature\n",
    "        if self.if_standard:\n",
    "            self.feature_mean = np.mean(x, axis=0)\n",
    "            self.feature_std = np.std(x, axis=0) + 1e-8\n",
    "            x = (x - self.feature_mean) / self.feature_std\n",
    "        # 是否训练bias\n",
    "        if self.fit_intercept:\n",
    "            x = np.c_[x, np.ones_like(y)]\n",
    "        # 初始化参数\n",
    "        self.init_params(x.shape[1])\n",
    "        # 训练模型\n",
    "        if self.solver == 'closed_form':\n",
    "            self._fit_closed_form_solution(x, y)\n",
    "        elif self.solver == 'sgd':\n",
    "            self._fit_sgd(x, y)\n",
    "\n",
    "    def get_params(self):\n",
    "        \"\"\"\n",
    "        输出原始的系数\n",
    "        :return: w,b\n",
    "        \"\"\"\n",
    "        if self.fit_intercept:\n",
    "            w = self.w[:-1]\n",
    "            b = self.w[-1]\n",
    "        else:\n",
    "            w = self.w\n",
    "            b = 0\n",
    "        if self.if_standard:\n",
    "            w = w / self.feature_std.reshape(-1, 1)\n",
    "            b = b - w.T.dot(self.feature_mean.reshape(-1, 1))\n",
    "        return w.reshape(-1), b\n",
    "\n",
    "    def predict(self, x):\n",
    "        \"\"\"\n",
    "        :param x:ndarray格式数据: m x n\n",
    "        :return: m x 1\n",
    "        \"\"\"\n",
    "        if self.if_standard:\n",
    "            x = (x - self.feature_mean) / self.feature_std\n",
    "        if self.fit_intercept:\n",
    "            x = np.c_[x, np.ones(shape=x.shape[0])]\n",
    "        return x.dot(self.w)\n",
    "\n",
    "    def plot_fit_boundary(self, x, y):\n",
    "        \"\"\"\n",
    "        绘制拟合结果\n",
    "        :param x:\n",
    "        :param y:\n",
    "        :return:\n",
    "        \"\"\"\n",
    "        plt.scatter(x[:, 0], y)\n",
    "        plt.plot(x[:, 0], self.predict(x), 'r')"
   ]
  },
  {
   "cell_type": "markdown",
   "id": "810f49c8",
   "metadata": {},
   "source": [
    "## 9. 测试"
   ]
  },
  {
   "cell_type": "markdown",
   "id": "27bf819a",
   "metadata": {},
   "source": [
    "### 9.1 Lasso"
   ]
  },
  {
   "cell_type": "code",
   "execution_count": 14,
   "id": "8def912e",
   "metadata": {},
   "outputs": [
    {
     "data": {
      "image/png": "[encoded data removed]",
      "text/plain": [
       "<Figure size 432x288 with 1 Axes>"
      ]
     },
     "metadata": {
      "needs_background": "light"
     },
     "output_type": "display_data"
    }
   ],
   "source": [
    "lasso=LinearRegression(l1_ratio=100)\n",
    "lasso.fit(X[:,:-1],Y)\n",
    "lasso.plot_fit_boundary(X[:,:-1],Y)"
   ]
  },
  {
   "cell_type": "markdown",
   "id": "1cfe65ea",
   "metadata": {},
   "source": [
    "### 9.2 Ridge"
   ]
  },
  {
   "cell_type": "code",
   "execution_count": 15,
   "id": "dc197026",
   "metadata": {},
   "outputs": [
    {
     "data": {
      "image/png": "[encoded data removed]",
      "text/plain": [
       "<Figure size 432x288 with 1 Axes>"
      ]
     },
     "metadata": {
      "needs_background": "light"
     },
     "output_type": "display_data"
    }
   ],
   "source": [
    "ridge=LinearRegression(l2_ratio=10)\n",
    "ridge.fit(X[:,:-1],Y)\n",
    "ridge.plot_fit_boundary(X[:,:-1],Y)"
   ]
  },
  {
   "cell_type": "markdown",
   "id": "57a24cb3",
   "metadata": {},
   "source": [
    "### 9.3 ElasticNet"
   ]
  },
  {
   "cell_type": "code",
   "execution_count": 16,
   "id": "30d25468",
   "metadata": {},
   "outputs": [
    {
     "data": {
      "image/png": "[encoded data removed]",
      "text/plain": [
       "<Figure size 432x288 with 1 Axes>"
      ]
     },
     "metadata": {
      "needs_background": "light"
     },
     "output_type": "display_data"
    }
   ],
   "source": [
    "elastic=LinearRegression(l1_ratio=100,l2_ratio=10)\n",
    "elastic.fit(X[:,:-1],Y)\n",
    "elastic.plot_fit_boundary(X[:,:-1],Y)"
   ]
  },
  {
   "cell_type": "markdown",
   "id": "fce1de75",
   "metadata": {},
   "source": [
    "## 与sklearn对比"
   ]
  },
  {
   "cell_type": "code",
   "execution_count": 17,
   "id": "677205c0",
   "metadata": {},
   "outputs": [
    {
     "name": "stdout",
     "output_type": "stream",
     "text": [
      "w: [[11.03967959]] b: [-268.91992613]\n"
     ]
    },
    {
     "data": {
      "text/plain": [
       "642.2646205809777"
      ]
     },
     "execution_count": 17,
     "metadata": {},
     "output_type": "execute_result"
    }
   ],
   "source": [
    "#与sklearn对比\n",
    "from sklearn.linear_model import LinearRegression\n",
    "lr=LinearRegression()\n",
    "lr.fit(X[:,:-1],Y)\n",
    "predict=lr.predict(X[:,:-1])\n",
    "#查看w,b\n",
    "print('w:',lr.coef_,'b:',lr.intercept_)\n",
    "#查看标准差\n",
    "np.std(Y-predict)"
   ]
  },
  {
   "cell_type": "code",
   "execution_count": null,
   "id": "ce108b86",
   "metadata": {},
   "outputs": [],
   "source": []
  }
 ],
 "metadata": {
  "kernelspec": {
   "display_name": "ACG",
   "language": "python",
   "name": "acg"
  },
  "language_info": {
   "codemirror_mode": {
    "name": "ipython",
    "version": 3
   },
   "file_extension": ".py",
   "mimetype": "text/x-python",
   "name": "python",
   "nbconvert_exporter": "python",
   "pygments_lexer": "ipython3",
   "version": "3.6.13"
  }
 },
 "nbformat": 4,
 "nbformat_minor": 5
}
