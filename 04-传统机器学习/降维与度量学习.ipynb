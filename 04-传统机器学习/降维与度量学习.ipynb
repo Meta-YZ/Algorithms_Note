{
 "cells": [
  {
   "cell_type": "markdown",
   "id": "410959a6",
   "metadata": {},
   "source": [
    "## 引子"
   ]
  },
  {
   "cell_type": "code",
   "execution_count": null,
   "id": "0a8cd6b4",
   "metadata": {},
   "outputs": [],
   "source": []
  },
  {
   "cell_type": "markdown",
   "id": "9bbf43bc",
   "metadata": {},
   "source": [
    "## 降维方法"
   ]
  },
  {
   "cell_type": "markdown",
   "id": "12293d23",
   "metadata": {},
   "source": [
    "### 线性降维\n",
    "\n",
    "1. 主成分分析(PCA)\n",
    "2. 多维缩放法(MDS)"
   ]
  },
  {
   "cell_type": "markdown",
   "id": "1cae0cb1",
   "metadata": {},
   "source": []
  },
  {
   "cell_type": "code",
   "execution_count": null,
   "id": "f05c6d03",
   "metadata": {},
   "outputs": [],
   "source": []
  },
  {
   "cell_type": "markdown",
   "id": "f6448fa0",
   "metadata": {},
   "source": [
    "### 非线性降维"
   ]
  },
  {
   "cell_type": "markdown",
   "id": "b8cb4ab5",
   "metadata": {},
   "source": [
    "1. 核化线性降维\n",
    "2. 流形学"
   ]
  },
  {
   "cell_type": "markdown",
   "id": "3d0c6c5c",
   "metadata": {},
   "source": [
    "## 度量学习"
   ]
  },
  {
   "cell_type": "code",
   "execution_count": null,
   "id": "c05ef138",
   "metadata": {},
   "outputs": [],
   "source": []
  }
 ],
 "metadata": {
  "kernelspec": {
   "display_name": "Python 3 (ipykernel)",
   "language": "python",
   "name": "python3"
  },
  "language_info": {
   "codemirror_mode": {
    "name": "ipython",
    "version": 3
   },
   "file_extension": ".py",
   "mimetype": "text/x-python",
   "name": "python",
   "nbconvert_exporter": "python",
   "pygments_lexer": "ipython3",
   "version": "3.9.4"
  },
  "toc": {
   "base_numbering": 1,
   "nav_menu": {},
   "number_sections": true,
   "sideBar": true,
   "skip_h1_title": false,
   "title_cell": "Table of Contents",
   "title_sidebar": "Contents",
   "toc_cell": false,
   "toc_position": {},
   "toc_section_display": true,
   "toc_window_display": false
  }
 },
 "nbformat": 4,
 "nbformat_minor": 5
}
