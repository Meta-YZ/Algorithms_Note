{
 "cells": [
  {
   "cell_type": "markdown",
   "id": "996e7616",
   "metadata": {},
   "source": [
    "# 模型评估"
   ]
  },
  {
   "cell_type": "markdown",
   "id": "7d13de74",
   "metadata": {},
   "source": [
    "## 为什么要进行模型评估\n",
    "\n",
    "做机器学习算法的时候，肯定是需要多个模型进行尝试的，想要在多个模型中进行选择的话，我们就需要多模型进行评估。主要是要评估模型误差的大小。"
   ]
  },
  {
   "cell_type": "markdown",
   "id": "e193dbe9",
   "metadata": {},
   "source": [
    "### 经验误差vs泛化误差\n",
    "\n",
    "经验误差是在训练集上面的误差-对应训练集数据。泛化误差是在“未来”样本上的误差-对应测试集数据。验证集是用来调整模型的超参数的。"
   ]
  },
  {
   "cell_type": "markdown",
   "id": "277ea854",
   "metadata": {},
   "source": [
    "### 过拟合vs欠拟合"
   ]
  },
  {
   "cell_type": "markdown",
   "id": "386bbac9",
   "metadata": {},
   "source": [
    "### 混淆矩阵\n",
    "\n",
    "在二分类数据集中，标签有两种，正例和负例。模型分类之后，也有两种：预测正例和预测负例。两种分类方法交叉之后，就产生了**四种数据集合**。\n",
    "\n",
    "<img src=\"../images/confusion_matrix.jpeg\" width=\"40%\">\n",
    "\n",
    "依据混淆矩阵我们可以得到不同的评价指标：\n",
    "\n",
    "- Recall\n",
    "\n",
    "$$\n",
    "TP/(TP+FN)\n",
    "$$\n",
    "\n",
    "- Precision\n",
    "\n",
    "$$\n",
    "TP/(TP+FP)\n",
    "$$\n",
    "\n",
    "- Accuracy\n",
    "\n",
    "$$\n",
    "(TP+TN)/Total\n",
    "$$\n",
    "\n",
    "- F1=2*Recall*Precision/(Recall + Precison)\n",
    "\n",
    "- AUC动态混淆矩阵计算得到\n",
    "\n",
    "$$\n",
    "Y轴：真正例率 TPR = TP/(TP + FN)\n",
    "$$\n",
    "\n",
    "$$\n",
    "X轴：假正例率 FPR = FP/(TN + FP)\n",
    "$$"
   ]
  },
  {
   "cell_type": "markdown",
   "id": "d523d650",
   "metadata": {},
   "source": [
    "## 什么是模型评估\n",
    "\n",
    "模型评估主要包括**评估方法**、**性能度量**、**比较检验**。这三者是环环相扣，层层深入。评估方法说的是如何对数据集进行划分，划分出来之后进行一个指标上的度量，指标度量完之后进行指标的比较。"
   ]
  },
  {
   "cell_type": "markdown",
   "id": "78a0794a",
   "metadata": {},
   "source": [
    "### 评估方法(获得测试结果)\n",
    "\n",
    "- 留出法：留出法是现实世界中应用比较多的一种方法。\n",
    "\n",
    "- 交叉验证法\n",
    "\n",
    "- 自助法\n"
   ]
  },
  {
   "cell_type": "markdown",
   "id": "dc0c64e6",
   "metadata": {},
   "source": [
    "### 性能度量\n",
    "\n",
    "- 均方误差 ROC AUC：这三个在现实中用的比较多。\n",
    "\n",
    "- 错误率vs精度 差准率vs查全率F1：这个应用也比较广泛。"
   ]
  },
  {
   "cell_type": "markdown",
   "id": "4c1e5191",
   "metadata": {},
   "source": [
    "### 比较检验(判断实质差异)\n",
    "\n",
    "从理论上验证某一个指标的科学性，"
   ]
  },
  {
   "cell_type": "markdown",
   "id": "a8cb0452",
   "metadata": {},
   "source": [
    "## 深入理解模型评估\n",
    "\n",
    "- 偏差vs方差\n",
    "\n",
    "偏差时期望值和实际值的差值。方差是模型预测值的方差。\n",
    "\n",
    "实际的误差由偏差、方差和不可预测值三部分组成\n",
    "\n",
    "$$\n",
    "Err(x)=Bias^{2} + Variance + Irreducible Error\n",
    "$$\n",
    "\n",
    "- 过拟合vs欠拟合\n",
    "\n",
    "模型越复杂，模型拟合能力越强，偏差逐渐变小，容易过拟合。模型越复杂，可能性就会越多，方差越大。"
   ]
  },
  {
   "cell_type": "code",
   "execution_count": null,
   "id": "46c33fe8",
   "metadata": {},
   "outputs": [],
   "source": []
  }
 ],
 "metadata": {
  "kernelspec": {
   "display_name": "Python 3 (ipykernel)",
   "language": "python",
   "name": "python3"
  },
  "language_info": {
   "codemirror_mode": {
    "name": "ipython",
    "version": 3
   },
   "file_extension": ".py",
   "mimetype": "text/x-python",
   "name": "python",
   "nbconvert_exporter": "python",
   "pygments_lexer": "ipython3",
   "version": "3.9.4"
  },
  "toc": {
   "base_numbering": 1,
   "nav_menu": {},
   "number_sections": true,
   "sideBar": true,
   "skip_h1_title": false,
   "title_cell": "Table of Contents",
   "title_sidebar": "Contents",
   "toc_cell": false,
   "toc_position": {},
   "toc_section_display": true,
   "toc_window_display": true
  }
 },
 "nbformat": 4,
 "nbformat_minor": 5
}
