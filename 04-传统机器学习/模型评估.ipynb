{
 "cells": [
  {
   "cell_type": "markdown",
   "id": "996e7616",
   "metadata": {},
   "source": [
    "# 模型评估"
   ]
  },
  {
   "cell_type": "markdown",
   "id": "7d13de74",
   "metadata": {},
   "source": [
    "## 为什么要进行模型评估\n",
    "\n",
    "做机器学习算法的时候，肯定是需要多个模型进行尝试的，想要在多个模型中进行选择的话，我们就需要多模型进行评估。主要是要评估模型误差的大小。"
   ]
  },
  {
   "cell_type": "markdown",
   "id": "e193dbe9",
   "metadata": {},
   "source": [
    "### 经验误差vs泛化误差"
   ]
  },
  {
   "cell_type": "markdown",
   "id": "277ea854",
   "metadata": {},
   "source": [
    "### 过拟合vs欠拟合"
   ]
  },
  {
   "cell_type": "markdown",
   "id": "d523d650",
   "metadata": {},
   "source": [
    "## 什么是模型评估\n",
    "\n",
    "模型评估主要包括**评估方法**、**性能度量**、**比较检验**。这三者是环环相扣，层层深入。评估方法说的是如何对数据集进行划分，划分出来之后进行一个指标上的度量，指标度量完之后进行指标的比较。"
   ]
  },
  {
   "cell_type": "markdown",
   "id": "78a0794a",
   "metadata": {},
   "source": [
    "### 评估方法(获得测试结果)\n",
    "\n",
    "- 留出法：留出法是现实世界中应用比较多的一种方法。\n",
    "\n",
    "- 交叉验证法\n",
    "\n",
    "- 自助法\n"
   ]
  },
  {
   "cell_type": "markdown",
   "id": "dc0c64e6",
   "metadata": {},
   "source": [
    "### 性能度量\n",
    "\n",
    "- 均方误差 ROC AUC：这三个在现实中用的比较多。\n",
    "\n",
    "- 错误率vs精度 差准率vs查全率F1：这个应用也比较广泛。"
   ]
  },
  {
   "cell_type": "markdown",
   "id": "4c1e5191",
   "metadata": {},
   "source": [
    "### 比较检验(判断实质差异)\n",
    "\n",
    "从理论上验证某一个指标的科学性，"
   ]
  },
  {
   "cell_type": "markdown",
   "id": "a8cb0452",
   "metadata": {},
   "source": [
    "\n",
    "\n",
    "## 深入理解模型评估\n",
    "\n",
    "- 偏差vs方差\n",
    "\n",
    "- 过拟合vs欠拟合"
   ]
  }
 ],
 "metadata": {
  "kernelspec": {
   "display_name": "Python 3",
   "language": "python",
   "name": "python3"
  },
  "language_info": {
   "codemirror_mode": {
    "name": "ipython",
    "version": 3
   },
   "file_extension": ".py",
   "mimetype": "text/x-python",
   "name": "python",
   "nbconvert_exporter": "python",
   "pygments_lexer": "ipython3",
   "version": "3.8.8"
  },
  "toc": {
   "base_numbering": 1,
   "nav_menu": {},
   "number_sections": true,
   "sideBar": true,
   "skip_h1_title": false,
   "title_cell": "Table of Contents",
   "title_sidebar": "Contents",
   "toc_cell": false,
   "toc_position": {},
   "toc_section_display": true,
   "toc_window_display": true
  }
 },
 "nbformat": 4,
 "nbformat_minor": 5
}
